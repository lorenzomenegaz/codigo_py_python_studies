{
 "cells": [
  {
   "cell_type": "markdown",
   "id": "59546a41",
   "metadata": {},
   "source": [
    "# Mundo 11 - Histograma, dispersão e boxsplot"
   ]
  },
  {
   "cell_type": "code",
   "execution_count": 1,
   "id": "1fd615bf",
   "metadata": {},
   "outputs": [],
   "source": [
    "import matplotlib.pyplot as plt\n",
    "import numpy as np\n",
    "import pandas as pd\n",
    "from bcb import sgs\n",
    "import matplotlib.ticker as mtick\n",
    "import matplotlib.dates as mdate\n",
    "from datetime import datetime\n",
    "from datetime import timedelta\n",
    "import yfinance as yf\n",
    "import matplotlib as mpl\n",
    "import matplotlib.pylab as lab\n",
    "import mplcyberpunk"
   ]
  },
  {
   "cell_type": "code",
   "execution_count": null,
   "id": "88b24453",
   "metadata": {},
   "outputs": [],
   "source": [
    "params = {\"ytick.color\" : \"w\",\n",
    "          \"xtick.color\" : \"w\",\n",
    "          \"axes.labelcolor\" : \"w\",\n",
    "          \"axes.edgecolor\" : \"w\"}\n",
    "plt.rcParams.update(params)"
   ]
  },
  {
   "cell_type": "code",
   "execution_count": null,
   "id": "26357c98",
   "metadata": {},
   "outputs": [],
   "source": [
    "cotacoes = yf.download([\"WEGE3.SA\"])['Adj Close']\n",
    "\n",
    "retornos_diarios = cotacoes.pct_change().dropna()"
   ]
  },
  {
   "cell_type": "code",
   "execution_count": null,
   "id": "5d273e28",
   "metadata": {},
   "outputs": [],
   "source": [
    "#histograma\n",
    "\n",
    "fig, ax = plt.subplots()\n",
    "\n",
    "ax.hist(retornos_diarios.values, bins = 120)\n",
    "ax.xaxis.set_major_formatter(mtick.PercentFormatter(1, decimals = 0))\n",
    "\n",
    "plt.show()"
   ]
  },
  {
   "cell_type": "code",
   "execution_count": null,
   "id": "43c49024",
   "metadata": {},
   "outputs": [],
   "source": [
    "cotacoes = yf.download([\"WEGE3.SA\", \"^BVSP\"])['Adj Close']\n",
    "\n",
    "retornos_anuais = cotacoes.resample(\"Y\").last().pct_change().dropna()\n",
    "\n",
    "retornos_anuais['Ano'] = retornos_anuais.index.year\n",
    "\n",
    "retornos_anuais"
   ]
  },
  {
   "cell_type": "code",
   "execution_count": null,
   "id": "97415e73",
   "metadata": {},
   "outputs": [],
   "source": [
    "plt.style.use(\"cyberpunk\")"
   ]
  },
  {
   "cell_type": "markdown",
   "id": "15be5f49",
   "metadata": {},
   "source": [
    "https://matplotlib.org/stable/tutorials/colors/colormaps.html"
   ]
  },
  {
   "cell_type": "code",
   "execution_count": null,
   "id": "53b2afb6",
   "metadata": {},
   "outputs": [],
   "source": [
    "def barra_discreta(vetor_categoria):\n",
    "    \n",
    "    cmap = lab.cm.cool  # define a cor\n",
    "    cmaplist = [cmap(i) for i in range(cmap.N)]\n",
    "    cmap = mpl.colors.LinearSegmentedColormap.from_list(\n",
    "        'cmap escolhido', cmaplist, cmap.N)\n",
    "    bounds = np.linspace(np.min(vetor_categoria), np.max(vetor_categoria) + 0.5, len(vetor_categoria) + 1)\n",
    "    norm = mpl.colors.BoundaryNorm(bounds, cmap.N)\n",
    "    \n",
    "    return bounds, norm"
   ]
  },
  {
   "cell_type": "code",
   "execution_count": null,
   "id": "f6a3e99c",
   "metadata": {},
   "outputs": [],
   "source": [
    "#Dispersão \n",
    "\n",
    "fig, ax = plt.subplots()\n",
    "\n",
    "ax.scatter(retornos_anuais['WEGE3.SA'], retornos_anuais[\"^BVSP\"], c = retornos_anuais['Ano'], cmap=\"cool\")\n",
    "\n",
    "bounds, norm = barra_discreta(retornos_anuais['Ano'])     \n",
    "\n",
    "#cria um novo eixo pra barra\n",
    "\n",
    "ax2 = fig.add_axes([0.95, 0.1, 0.03, 0.8])\n",
    "cb = mpl.colorbar.ColorbarBase(ax2, cmap=\"cool\", norm=norm,\n",
    "    spacing='proportional', ticks=bounds + 0.5, boundaries=bounds, format='%1i')\n",
    "\n",
    "ax.xaxis.set_major_formatter(mtick.PercentFormatter(1, decimals = 0))\n",
    "ax.yaxis.set_major_formatter(mtick.PercentFormatter(1, decimals = 0))\n",
    "ax.set_ylabel(\"Ibovespa\")\n",
    "ax.set_xlabel(\"WEGE3\")\n",
    "ax.axhline(y = 0)\n",
    "ax.axvline(x = 0)\n",
    "ax.set_title(\"Retornos anuais WEGE3 X Ibovespa\")\n",
    "\n",
    "plt.show()"
   ]
  },
  {
   "cell_type": "markdown",
   "id": "b722ef67",
   "metadata": {},
   "source": [
    "# Replique essa estrutura pra qualquer gráfico que você quiser.\n",
    "\n",
    "É impossível cobrir 100% de tudo de gráficos, utilize o google ao seu favor!\n",
    "No limite, a única diferença vai ser um \"ax.scatter\" para um \"ax.boxsplot\""
   ]
  },
  {
   "cell_type": "code",
   "execution_count": null,
   "id": "1da8364d",
   "metadata": {},
   "outputs": [],
   "source": [
    "plt.style.use(\"default\")"
   ]
  },
  {
   "cell_type": "code",
   "execution_count": null,
   "id": "ca69396a",
   "metadata": {},
   "outputs": [],
   "source": [
    "cotacoes = yf.download([\"WEGE3.SA\", \"^BVSP\"])['Adj Close']\n",
    "\n",
    "retornos_mensais = cotacoes.resample(\"M\").last().pct_change().dropna()"
   ]
  },
  {
   "cell_type": "code",
   "execution_count": null,
   "id": "0db19eac",
   "metadata": {
    "scrolled": false
   },
   "outputs": [],
   "source": [
    "fig, ax = plt.subplots()\n",
    "\n",
    "ax.boxplot(x = retornos_mensais)\n",
    "ax.yaxis.set_major_formatter(mtick.PercentFormatter(1, decimals = 0))\n",
    "ax.set_xticks([1, 2], [\"WEGE3\", \"Ibovespa\"])\n",
    "\n",
    "plt.show()"
   ]
  },
  {
   "cell_type": "markdown",
   "id": "7c7e8a69",
   "metadata": {},
   "source": [
    "# Exercícios\n",
    "\n",
    "* Exercício 103: Crie um histograma com os retornos mensais da Petrobras.\n",
    "* Exercício 104: Crie um gráfico de dispersão com os retornos anuais do S&P500 contra o Ibovespa.\n"
   ]
  },
  {
   "cell_type": "code",
   "execution_count": null,
   "id": "3f60245c",
   "metadata": {},
   "outputs": [],
   "source": []
  },
  {
   "cell_type": "code",
   "execution_count": null,
   "id": "2c1e86d2",
   "metadata": {},
   "outputs": [],
   "source": []
  },
  {
   "cell_type": "code",
   "execution_count": 2,
   "id": "badcec06",
   "metadata": {
    "scrolled": true
   },
   "outputs": [
    {
     "name": "stdout",
     "output_type": "stream",
     "text": [
      "[*********************100%%**********************]  1 of 1 completed"
     ]
    },
    {
     "name": "stderr",
     "output_type": "stream",
     "text": [
      "\n",
      "1 Failed download:\n",
      "['PETR4.SA']: Exception('%ticker%: No price data found, symbol may be delisted (1d 1925-01-18 -> 2023-12-26)')\n"
     ]
    },
    {
     "name": "stdout",
     "output_type": "stream",
     "text": [
      "\n"
     ]
    },
    {
     "ename": "TypeError",
     "evalue": "Only valid with DatetimeIndex, TimedeltaIndex or PeriodIndex, but got an instance of 'Index'",
     "output_type": "error",
     "traceback": [
      "\u001b[0;31m---------------------------------------------------------------------------\u001b[0m",
      "\u001b[0;31mTypeError\u001b[0m                                 Traceback (most recent call last)",
      "Cell \u001b[0;32mIn[2], line 5\u001b[0m\n\u001b[1;32m      1\u001b[0m \u001b[38;5;66;03m#gabarito 103\u001b[39;00m\n\u001b[1;32m      3\u001b[0m cotacoes \u001b[38;5;241m=\u001b[39m yf\u001b[38;5;241m.\u001b[39mdownload([\u001b[38;5;124m\"\u001b[39m\u001b[38;5;124mPETR4.SA\u001b[39m\u001b[38;5;124m\"\u001b[39m])[\u001b[38;5;124m'\u001b[39m\u001b[38;5;124mAdj Close\u001b[39m\u001b[38;5;124m'\u001b[39m]\n\u001b[0;32m----> 5\u001b[0m retornos_diarios \u001b[38;5;241m=\u001b[39m \u001b[43mcotacoes\u001b[49m\u001b[38;5;241;43m.\u001b[39;49m\u001b[43mresample\u001b[49m\u001b[43m(\u001b[49m\u001b[38;5;124;43m\"\u001b[39;49m\u001b[38;5;124;43mM\u001b[39;49m\u001b[38;5;124;43m\"\u001b[39;49m\u001b[43m)\u001b[49m\u001b[38;5;241m.\u001b[39mlast()\u001b[38;5;241m.\u001b[39mpct_change()\u001b[38;5;241m.\u001b[39mdropna()\n\u001b[1;32m      7\u001b[0m fig, ax \u001b[38;5;241m=\u001b[39m plt\u001b[38;5;241m.\u001b[39msubplots()\n\u001b[1;32m      9\u001b[0m ax\u001b[38;5;241m.\u001b[39mhist(retornos_diarios\u001b[38;5;241m.\u001b[39mvalues, bins \u001b[38;5;241m=\u001b[39m \u001b[38;5;241m35\u001b[39m)\n",
      "File \u001b[0;32m/usr/local/lib/python3.11/site-packages/pandas/core/generic.py:9432\u001b[0m, in \u001b[0;36mNDFrame.resample\u001b[0;34m(self, rule, axis, closed, label, convention, kind, on, level, origin, offset, group_keys)\u001b[0m\n\u001b[1;32m   9429\u001b[0m \u001b[38;5;28;01melse\u001b[39;00m:\n\u001b[1;32m   9430\u001b[0m     axis \u001b[38;5;241m=\u001b[39m \u001b[38;5;241m0\u001b[39m\n\u001b[0;32m-> 9432\u001b[0m \u001b[38;5;28;01mreturn\u001b[39;00m \u001b[43mget_resampler\u001b[49m\u001b[43m(\u001b[49m\n\u001b[1;32m   9433\u001b[0m \u001b[43m    \u001b[49m\u001b[43mcast\u001b[49m\u001b[43m(\u001b[49m\u001b[38;5;124;43m\"\u001b[39;49m\u001b[38;5;124;43mSeries | DataFrame\u001b[39;49m\u001b[38;5;124;43m\"\u001b[39;49m\u001b[43m,\u001b[49m\u001b[43m \u001b[49m\u001b[38;5;28;43mself\u001b[39;49m\u001b[43m)\u001b[49m\u001b[43m,\u001b[49m\n\u001b[1;32m   9434\u001b[0m \u001b[43m    \u001b[49m\u001b[43mfreq\u001b[49m\u001b[38;5;241;43m=\u001b[39;49m\u001b[43mrule\u001b[49m\u001b[43m,\u001b[49m\n\u001b[1;32m   9435\u001b[0m \u001b[43m    \u001b[49m\u001b[43mlabel\u001b[49m\u001b[38;5;241;43m=\u001b[39;49m\u001b[43mlabel\u001b[49m\u001b[43m,\u001b[49m\n\u001b[1;32m   9436\u001b[0m \u001b[43m    \u001b[49m\u001b[43mclosed\u001b[49m\u001b[38;5;241;43m=\u001b[39;49m\u001b[43mclosed\u001b[49m\u001b[43m,\u001b[49m\n\u001b[1;32m   9437\u001b[0m \u001b[43m    \u001b[49m\u001b[43maxis\u001b[49m\u001b[38;5;241;43m=\u001b[39;49m\u001b[43maxis\u001b[49m\u001b[43m,\u001b[49m\n\u001b[1;32m   9438\u001b[0m \u001b[43m    \u001b[49m\u001b[43mkind\u001b[49m\u001b[38;5;241;43m=\u001b[39;49m\u001b[43mkind\u001b[49m\u001b[43m,\u001b[49m\n\u001b[1;32m   9439\u001b[0m \u001b[43m    \u001b[49m\u001b[43mconvention\u001b[49m\u001b[38;5;241;43m=\u001b[39;49m\u001b[43mconvention\u001b[49m\u001b[43m,\u001b[49m\n\u001b[1;32m   9440\u001b[0m \u001b[43m    \u001b[49m\u001b[43mkey\u001b[49m\u001b[38;5;241;43m=\u001b[39;49m\u001b[43mon\u001b[49m\u001b[43m,\u001b[49m\n\u001b[1;32m   9441\u001b[0m \u001b[43m    \u001b[49m\u001b[43mlevel\u001b[49m\u001b[38;5;241;43m=\u001b[39;49m\u001b[43mlevel\u001b[49m\u001b[43m,\u001b[49m\n\u001b[1;32m   9442\u001b[0m \u001b[43m    \u001b[49m\u001b[43morigin\u001b[49m\u001b[38;5;241;43m=\u001b[39;49m\u001b[43morigin\u001b[49m\u001b[43m,\u001b[49m\n\u001b[1;32m   9443\u001b[0m \u001b[43m    \u001b[49m\u001b[43moffset\u001b[49m\u001b[38;5;241;43m=\u001b[39;49m\u001b[43moffset\u001b[49m\u001b[43m,\u001b[49m\n\u001b[1;32m   9444\u001b[0m \u001b[43m    \u001b[49m\u001b[43mgroup_keys\u001b[49m\u001b[38;5;241;43m=\u001b[39;49m\u001b[43mgroup_keys\u001b[49m\u001b[43m,\u001b[49m\n\u001b[1;32m   9445\u001b[0m \u001b[43m\u001b[49m\u001b[43m)\u001b[49m\n",
      "File \u001b[0;32m/usr/local/lib/python3.11/site-packages/pandas/core/resample.py:1970\u001b[0m, in \u001b[0;36mget_resampler\u001b[0;34m(obj, kind, **kwds)\u001b[0m\n\u001b[1;32m   1966\u001b[0m \u001b[38;5;250m\u001b[39m\u001b[38;5;124;03m\"\"\"\u001b[39;00m\n\u001b[1;32m   1967\u001b[0m \u001b[38;5;124;03mCreate a TimeGrouper and return our resampler.\u001b[39;00m\n\u001b[1;32m   1968\u001b[0m \u001b[38;5;124;03m\"\"\"\u001b[39;00m\n\u001b[1;32m   1969\u001b[0m tg \u001b[38;5;241m=\u001b[39m TimeGrouper(\u001b[38;5;241m*\u001b[39m\u001b[38;5;241m*\u001b[39mkwds)\n\u001b[0;32m-> 1970\u001b[0m \u001b[38;5;28;01mreturn\u001b[39;00m \u001b[43mtg\u001b[49m\u001b[38;5;241;43m.\u001b[39;49m\u001b[43m_get_resampler\u001b[49m\u001b[43m(\u001b[49m\u001b[43mobj\u001b[49m\u001b[43m,\u001b[49m\u001b[43m \u001b[49m\u001b[43mkind\u001b[49m\u001b[38;5;241;43m=\u001b[39;49m\u001b[43mkind\u001b[49m\u001b[43m)\u001b[49m\n",
      "File \u001b[0;32m/usr/local/lib/python3.11/site-packages/pandas/core/resample.py:2160\u001b[0m, in \u001b[0;36mTimeGrouper._get_resampler\u001b[0;34m(self, obj, kind)\u001b[0m\n\u001b[1;32m   2151\u001b[0m \u001b[38;5;28;01melif\u001b[39;00m \u001b[38;5;28misinstance\u001b[39m(ax, TimedeltaIndex):\n\u001b[1;32m   2152\u001b[0m     \u001b[38;5;28;01mreturn\u001b[39;00m TimedeltaIndexResampler(\n\u001b[1;32m   2153\u001b[0m         obj,\n\u001b[1;32m   2154\u001b[0m         timegrouper\u001b[38;5;241m=\u001b[39m\u001b[38;5;28mself\u001b[39m,\n\u001b[0;32m   (...)\u001b[0m\n\u001b[1;32m   2157\u001b[0m         gpr_index\u001b[38;5;241m=\u001b[39max,\n\u001b[1;32m   2158\u001b[0m     )\n\u001b[0;32m-> 2160\u001b[0m \u001b[38;5;28;01mraise\u001b[39;00m \u001b[38;5;167;01mTypeError\u001b[39;00m(\n\u001b[1;32m   2161\u001b[0m     \u001b[38;5;124m\"\u001b[39m\u001b[38;5;124mOnly valid with DatetimeIndex, \u001b[39m\u001b[38;5;124m\"\u001b[39m\n\u001b[1;32m   2162\u001b[0m     \u001b[38;5;124m\"\u001b[39m\u001b[38;5;124mTimedeltaIndex or PeriodIndex, \u001b[39m\u001b[38;5;124m\"\u001b[39m\n\u001b[1;32m   2163\u001b[0m     \u001b[38;5;124mf\u001b[39m\u001b[38;5;124m\"\u001b[39m\u001b[38;5;124mbut got an instance of \u001b[39m\u001b[38;5;124m'\u001b[39m\u001b[38;5;132;01m{\u001b[39;00m\u001b[38;5;28mtype\u001b[39m(ax)\u001b[38;5;241m.\u001b[39m\u001b[38;5;18m__name__\u001b[39m\u001b[38;5;132;01m}\u001b[39;00m\u001b[38;5;124m'\u001b[39m\u001b[38;5;124m\"\u001b[39m\n\u001b[1;32m   2164\u001b[0m )\n",
      "\u001b[0;31mTypeError\u001b[0m: Only valid with DatetimeIndex, TimedeltaIndex or PeriodIndex, but got an instance of 'Index'"
     ]
    }
   ],
   "source": [
    "#gabarito 103\n",
    "\n",
    "cotacoes = yf.download([\"PETR4.SA\"])['Adj Close']\n",
    "\n",
    "retornos_diarios = cotacoes.resample(\"M\").last().pct_change().dropna()\n",
    "\n",
    "fig, ax = plt.subplots()\n",
    "\n",
    "ax.hist(retornos_diarios.values, bins = 35)\n",
    "ax.xaxis.set_major_formatter(mtick.PercentFormatter(1, decimals = 0))\n",
    "\n",
    "plt.show()"
   ]
  },
  {
   "cell_type": "code",
   "execution_count": null,
   "id": "cd222935",
   "metadata": {},
   "outputs": [],
   "source": [
    "#gabarito 104\n",
    "\n",
    "plt.style.use(\"cyberpunk\")\n",
    "\n",
    "cotacoes = yf.download([\"^GSPC\", \"^BVSP\"])['Adj Close']\n",
    "\n",
    "retornos_anuais = cotacoes.resample(\"y\").last().pct_change().dropna()\n",
    "\n",
    "retornos_anuais['Ano'] = retornos_anuais.index.year"
   ]
  },
  {
   "cell_type": "code",
   "execution_count": null,
   "id": "195b8dd9",
   "metadata": {},
   "outputs": [],
   "source": [
    "fig, ax = plt.subplots()\n",
    "\n",
    "ax.scatter(retornos_anuais['^GSPC'], retornos_anuais[\"^BVSP\"], c = retornos_anuais['Ano'], cmap=\"cool\")\n",
    "\n",
    "bounds, norm = barra_discreta(retornos_anuais['Ano'])     \n",
    "\n",
    "\n",
    "ax2 = fig.add_axes([0.95, 0.1, 0.03, 0.8])\n",
    "cb = mpl.colorbar.ColorbarBase(ax2, cmap=\"cool\", norm=norm,\n",
    "    spacing='proportional', ticks=bounds + 0.5, boundaries=bounds, format='%1i')\n",
    "\n",
    "ax.xaxis.set_major_formatter(mtick.PercentFormatter(1, decimals = 0))\n",
    "ax.yaxis.set_major_formatter(mtick.PercentFormatter(1, decimals = 0))\n",
    "ax.set_ylabel(\"Ibovespa\")\n",
    "ax.set_xlabel(\"S&P500\")\n",
    "ax.axhline(y = 0)\n",
    "ax.axvline(x = 0)\n",
    "ax.set_title(\"Retornos anuais S&P500 X Ibovespa\")\n",
    "\n",
    "plt.show()"
   ]
  },
  {
   "cell_type": "markdown",
   "id": "80a73f97",
   "metadata": {},
   "source": []
  }
 ],
 "metadata": {
  "kernelspec": {
   "display_name": "Python 3",
   "language": "python",
   "name": "python3"
  },
  "language_info": {
   "codemirror_mode": {
    "name": "ipython",
    "version": 3
   },
   "file_extension": ".py",
   "mimetype": "text/x-python",
   "name": "python",
   "nbconvert_exporter": "python",
   "pygments_lexer": "ipython3",
   "version": "3.11.4"
  },
  "vscode": {
   "interpreter": {
    "hash": "916dbcbb3f70747c44a77c7bcd40155683ae19c65e1c03b4aa3499c5328201f1"
   }
  }
 },
 "nbformat": 4,
 "nbformat_minor": 5
}

{
 "cells": [
  {
   "cell_type": "markdown",
   "id": "787aa6a4",
   "metadata": {},
   "source": [
    "# Mundo 4 - Selenium + dados do DI"
   ]
  },
  {
   "cell_type": "code",
   "execution_count": null,
   "id": "2cb02ddf",
   "metadata": {},
   "outputs": [],
   "source": [
    "!pip install selenium \n",
    "!pip install webdriver-manager #isso aqui ajuda a gerenciar os drives.  "
   ]
  },
  {
   "cell_type": "code",
   "execution_count": null,
   "id": "eb77282d",
   "metadata": {},
   "outputs": [],
   "source": [
    "from selenium import webdriver\n",
    "from selenium.webdriver.chrome.service import Service\n",
    "from webdriver_manager.chrome import ChromeDriverManager\n",
    "import pandas as pd\n",
    "from datetime import datetime"
   ]
  },
  {
   "cell_type": "code",
   "execution_count": null,
   "id": "eb14220c",
   "metadata": {},
   "outputs": [],
   "source": [
    "driver = webdriver.Chrome(service=Service(ChromeDriverManager().install())) \n",
    "#isso aqui evita o inferno de baixar o driver certo"
   ]
  },
  {
   "cell_type": "code",
   "execution_count": null,
   "id": "bde31e15",
   "metadata": {},
   "outputs": [],
   "source": [
    "data_di = \"03/02/2023\"\n",
    "mercadoria = 'DI1'"
   ]
  },
  {
   "cell_type": "code",
   "execution_count": null,
   "id": "434e5d41",
   "metadata": {},
   "outputs": [],
   "source": [
    "url = f'''\n",
    "https://www2.bmf.com.br/pages/portal/bmfbovespa/boletim1/SistemaPregao1.asp?pagetype=pop&caminho=Resumo%20\n",
    "Estat%EDstico%20-%20Sistema%20Preg%E3o&Data={data_di}&Mercadoria={mercadoria}\n",
    "'''"
   ]
  },
  {
   "cell_type": "code",
   "execution_count": null,
   "id": "0ad56f34",
   "metadata": {},
   "outputs": [],
   "source": [
    "from selenium.webdriver.chrome.options import Options"
   ]
  },
  {
   "cell_type": "code",
   "execution_count": null,
   "id": "07ddc559",
   "metadata": {},
   "outputs": [],
   "source": [
    "options = Options()\n",
    "options.headless = True"
   ]
  },
  {
   "cell_type": "code",
   "execution_count": null,
   "id": "4f733f57",
   "metadata": {},
   "outputs": [],
   "source": [
    "driver.get(url)\n",
    "\n",
    "driver.implicitly_wait(3)\n",
    "\n",
    "'''\n",
    "esse método de congelar é MUITO mais eficiente que o time, porque ele só espera o tempo necessário.\n",
    "se o elemento que você quer achar já carregou, ele roda e acabou. \n",
    "'''\n",
    "\n",
    "driver.maximize_window() #maximar a tela do navegador do bot"
   ]
  },
  {
   "cell_type": "code",
   "execution_count": null,
   "id": "ae1f3971",
   "metadata": {},
   "outputs": [],
   "source": [
    "#driver = webdriver.Chrome(service=Service(ChromeDriverManager().install()), options = options) \n",
    "\n",
    "\n",
    "local_tabela = '''\n",
    "/html/body/div/div[2]/form[1]/table[3]/tbody/tr[3]/td[3]/table\n",
    "'''\n",
    "\n",
    "local_indice = '''\n",
    "/html/body/div/div[2]/form[1]/table[3]/tbody/tr[3]/td[1]/table\n",
    "'''\n",
    "\n",
    "elemento = driver.find_element(\"xpath\", local_tabela)\n",
    "\n",
    "#pode ser ID, class_, XPATH ou name (vc so vai usar um dos 4)\n",
    "\n",
    "elemento_indice = driver.find_element(\"xpath\", local_indice)\n",
    "\n",
    "html_tabela = elemento.get_attribute('outerHTML')\n",
    "html_indice = elemento_indice.get_attribute('outerHTML')\n",
    "\n",
    "tabela = pd.read_html(html_tabela)[0]\n",
    "indice = pd.read_html(html_indice)[0]\n",
    "\n",
    "\n",
    "#se colocar tudo junto pode dar merda no JS"
   ]
  },
  {
   "cell_type": "code",
   "execution_count": null,
   "id": "5314db01",
   "metadata": {},
   "outputs": [],
   "source": [
    "driver.quit()"
   ]
  },
  {
   "cell_type": "code",
   "execution_count": null,
   "id": "e6241dba",
   "metadata": {},
   "outputs": [],
   "source": [
    "tabela"
   ]
  },
  {
   "cell_type": "code",
   "execution_count": null,
   "id": "bbbc9a12",
   "metadata": {},
   "outputs": [],
   "source": [
    "tabela.columns = tabela.loc[0]\n",
    "\n",
    "tabela = tabela['ÚLT. PREÇO']\n",
    "\n",
    "tabela = tabela.drop(0, axis = 0)\n",
    "\n",
    "indice.columns = indice.loc[0]\n",
    "\n",
    "indice_di = indice['VENCTO']\n",
    "\n",
    "indice = indice.drop(0, axis = 0)\n",
    "\n",
    "tabela.index = indice['VENCTO']\n",
    "\n",
    "tabela = tabela.astype(int)\n",
    "\n",
    "tabela = tabela[tabela != 0]\n",
    "\n",
    "tabela = tabela/1000\n",
    "\n",
    "print(tabela)"
   ]
  },
  {
   "cell_type": "code",
   "execution_count": null,
   "id": "c43fcb26",
   "metadata": {},
   "outputs": [],
   "source": [
    "driver.quit()"
   ]
  },
  {
   "cell_type": "markdown",
   "id": "4cd1348f",
   "metadata": {},
   "source": [
    "# Exercícios \n",
    "\n",
    "* Exercício 142: Pegue a tabela com os dados do DI e transforme os códigos do índice em datas do pandas (datetime)\n",
    "* Exercício 143: Estraia dados do mini contrato de índice do site da B3 em um data a sua escolha."
   ]
  },
  {
   "cell_type": "code",
   "execution_count": null,
   "id": "5468988d",
   "metadata": {},
   "outputs": [],
   "source": []
  },
  {
   "cell_type": "code",
   "execution_count": null,
   "id": "c76fd9d0",
   "metadata": {},
   "outputs": [],
   "source": []
  },
  {
   "cell_type": "code",
   "execution_count": null,
   "id": "c28f5c63",
   "metadata": {},
   "outputs": [],
   "source": [
    "#gabarito 142\n",
    "\n",
    "legenda = pd.Series(['Jan', 'Feb', 'Mar', 'Apr', 'May', 'Jun', 'Jul', 'Aug', 'Sep', 'Oct', 'Nov', 'Dec'],\n",
    "                    index = ['F', 'G', 'H', 'J', 'K', 'M', 'N', 'Q', 'U', 'V', 'X', 'Z'])\n",
    "\n",
    "lista_datas = []\n",
    "\n",
    "for indice in tabela.index:\n",
    "\n",
    "    letra = indice[0]\n",
    "    \n",
    "    legenda[\"F\"]\n",
    "    ano = indice[1:3]\n",
    "\n",
    "    mes = legenda[letra]\n",
    "\n",
    "    data = f\"{mes}-{ano}\"\n",
    "\n",
    "    data = datetime.strptime(data, \"%b-%y\")\n",
    "\n",
    "    lista_datas.append(data)\n",
    "\n",
    "\n",
    "tabela.index = lista_datas  \n",
    "\n",
    "tabela"
   ]
  },
  {
   "cell_type": "code",
   "execution_count": null,
   "id": "3cad25f4",
   "metadata": {},
   "outputs": [],
   "source": [
    "#gabarito 143\n",
    "\n",
    "data = \"03/02/2023\"\n",
    "mercadoria = 'WIN'\n",
    "\n",
    "url = f'''\n",
    "https://www2.bmf.com.br/pages/portal/bmfbovespa/boletim1/SistemaPregao1.asp?pagetype=pop&caminho=Resumo%20\n",
    "Estat%EDstico%20-%20Sistema%20Preg%E3o&Data={data}&Mercadoria={mercadoria}\n",
    "'''\n",
    "\n",
    "driver = webdriver.Chrome(service=Service(ChromeDriverManager().install())) \n",
    "\n",
    "driver.get(url)\n",
    "\n",
    "driver.implicitly_wait(3)\n",
    "\n",
    "\n",
    "driver.maximize_window() \n",
    "\n",
    "local_tabela = '''\n",
    "/html/body/div/div[2]/form[1]/table[3]/tbody/tr[3]/td[3]/table\n",
    "'''\n",
    "\n",
    "local_indice = '''\n",
    "/html/body/div/div[2]/form[1]/table[3]/tbody/tr[3]/td[1]/table\n",
    "'''\n",
    "\n",
    "elemento = driver.find_element(\"xpath\", local_tabela)\n",
    "\n",
    "elemento_indice = driver.find_element(\"xpath\", local_indice)\n",
    "\n",
    "html_tabela = elemento.get_attribute('outerHTML')\n",
    "html_indice = elemento_indice.get_attribute('outerHTML')\n",
    "\n",
    "tabela = pd.read_html(html_tabela)[0]\n",
    "indice = pd.read_html(html_indice)[0]\n",
    "\n",
    "driver.quit()"
   ]
  },
  {
   "cell_type": "code",
   "execution_count": null,
   "id": "a3741a63",
   "metadata": {},
   "outputs": [],
   "source": [
    "tabela"
   ]
  },
  {
   "cell_type": "code",
   "execution_count": null,
   "id": "5963a81d",
   "metadata": {},
   "outputs": [],
   "source": [
    "tabela.columns = tabela.loc[0]\n",
    "\n",
    "tabela = tabela['AJUSTE']\n",
    "\n",
    "tabela = tabela.drop(0, axis = 0)\n",
    "\n",
    "indice.columns = indice.loc[0]\n",
    "\n",
    "indice_di = indice['VENCTO']\n",
    "\n",
    "indice = indice.drop(0, axis = 0)\n",
    "\n",
    "tabela.index = indice['VENCTO']\n",
    "\n",
    "tabela = tabela[tabela != \"0\"]\n",
    "\n",
    "print(tabela)"
   ]
  },
  {
   "cell_type": "code",
   "execution_count": null,
   "id": "3497fe11",
   "metadata": {},
   "outputs": [],
   "source": [
    "legenda = pd.Series(['Jan', 'Feb', 'Mar', 'Apr', 'May', 'Jun', 'Jul', 'Aug', 'Sep', 'Oct', 'Nov', 'Dec'],\n",
    "                    index = ['F', 'G', 'H', 'J', 'K', 'M', 'N', 'Q', 'U', 'V', 'X', 'Z'])\n",
    "\n",
    "lista_datas = []\n",
    "\n",
    "for indice in tabela.index:\n",
    "\n",
    "    letra = indice[0]\n",
    "    ano = indice[1:3]\n",
    "\n",
    "    mes = legenda[letra]\n",
    "\n",
    "    data = f\"{mes}-{ano}\"\n",
    "\n",
    "    data = datetime.strptime(data, \"%b-%y\")\n",
    "\n",
    "    lista_datas.append(data)\n",
    "\n",
    "\n",
    "tabela.index = lista_datas  \n",
    "\n",
    "tabela"
   ]
  },
  {
   "cell_type": "code",
   "execution_count": null,
   "id": "23598a19",
   "metadata": {},
   "outputs": [],
   "source": []
  },
  {
   "cell_type": "code",
   "execution_count": null,
   "id": "9687a565",
   "metadata": {},
   "outputs": [],
   "source": []
  },
  {
   "cell_type": "code",
   "execution_count": null,
   "id": "174b7c7b",
   "metadata": {},
   "outputs": [],
   "source": []
  }
 ],
 "metadata": {
  "kernelspec": {
   "display_name": "Python 3 (ipykernel)",
   "language": "python",
   "name": "python3"
  },
  "language_info": {
   "codemirror_mode": {
    "name": "ipython",
    "version": 3
   },
   "file_extension": ".py",
   "mimetype": "text/x-python",
   "name": "python",
   "nbconvert_exporter": "python",
   "pygments_lexer": "ipython3",
   "version": "3.9.12"
  }
 },
 "nbformat": 4,
 "nbformat_minor": 5
}

{
 "cells": [
  {
   "cell_type": "markdown",
   "id": "919698f3",
   "metadata": {},
   "source": [
    "# Mundo 6 - Como pegar histórico de apostas com o selenium"
   ]
  },
  {
   "cell_type": "code",
   "execution_count": null,
   "id": "416e6d0a",
   "metadata": {},
   "outputs": [],
   "source": [
    "from selenium import webdriver\n",
    "from selenium.webdriver.chrome.service import Service\n",
    "from webdriver_manager.chrome import ChromeDriverManager\n",
    "from bs4 import BeautifulSoup\n",
    "import numpy as np\n",
    "import pandas as pd\n",
    "import os"
   ]
  },
  {
   "cell_type": "code",
   "execution_count": null,
   "id": "ca270e05",
   "metadata": {},
   "outputs": [],
   "source": [
    "%load_ext dotenv"
   ]
  },
  {
   "cell_type": "code",
   "execution_count": null,
   "id": "61348d1b",
   "metadata": {},
   "outputs": [],
   "source": [
    "driver = webdriver.Chrome(service=Service(ChromeDriverManager().install()))"
   ]
  },
  {
   "cell_type": "code",
   "execution_count": null,
   "id": "63ef4bc1",
   "metadata": {},
   "outputs": [],
   "source": [
    "url = '''https://www.bet365.com/?#/ME/X8020'''\n",
    "\n",
    "driver.get(url)\n",
    "\n",
    "driver.maximize_window()"
   ]
  },
  {
   "cell_type": "code",
   "execution_count": null,
   "id": "6aa2fd3b",
   "metadata": {},
   "outputs": [],
   "source": [
    "usuario = os.getenv('usuario')\n",
    "senha = os.getenv('senha')"
   ]
  },
  {
   "cell_type": "code",
   "execution_count": null,
   "id": "47fc538b",
   "metadata": {},
   "outputs": [],
   "source": [
    "from selenium.webdriver.common.keys import Keys\n",
    "from selenium.webdriver.common.by import By\n",
    "from selenium.webdriver.support import expected_conditions as EC\n",
    "from selenium.webdriver.support.ui import WebDriverWait"
   ]
  },
  {
   "cell_type": "code",
   "execution_count": null,
   "id": "04ee952a",
   "metadata": {},
   "outputs": [],
   "source": [
    "WebDriverWait(driver, 10).until(\n",
    "    EC.frame_to_be_available_and_switch_to_it((By.NAME, \"undefined\")))"
   ]
  },
  {
   "cell_type": "markdown",
   "id": "966b2a09",
   "metadata": {},
   "source": [
    "# Como preencher formulários?\n",
    "\n",
    "Existem duas formas, igual o iframe.\n",
    "\n",
    "# Forma 1:"
   ]
  },
  {
   "cell_type": "code",
   "execution_count": null,
   "id": "dc6869f5",
   "metadata": {},
   "outputs": [],
   "source": [
    "caixa_usuario = driver.find_element(\"xpath\", '/html/body/div[1]/div/div[1]/div[2]/div/div/div/div/div[1]/div[2]/div/input')\n",
    "\n",
    "caixa_usuario.send_keys(usuario)"
   ]
  },
  {
   "cell_type": "code",
   "execution_count": null,
   "id": "e6d7fb47",
   "metadata": {},
   "outputs": [],
   "source": [
    "caixa_usuario.clear()"
   ]
  },
  {
   "cell_type": "markdown",
   "id": "15fe1f3d",
   "metadata": {},
   "source": [
    "# Forma 2:"
   ]
  },
  {
   "cell_type": "code",
   "execution_count": null,
   "id": "406a7c79",
   "metadata": {},
   "outputs": [],
   "source": [
    "WebDriverWait(driver, 10).until(EC.element_to_be_clickable(\n",
    "    (By.XPATH, '//*[@id=\"password\"]'))).send_keys(senha)"
   ]
  },
  {
   "cell_type": "code",
   "execution_count": null,
   "id": "a1aa62c2",
   "metadata": {},
   "outputs": [],
   "source": [
    "#clicando no botão de login de uma forma diferente\n",
    "\n",
    "WebDriverWait(driver, 10).until(EC.element_to_be_clickable(\n",
    "    (By.XPATH, '/html/body/div[1]/div/div[1]/div[2]/div/div/div/div/div[2]/button'))).click() "
   ]
  },
  {
   "cell_type": "code",
   "execution_count": null,
   "id": "c533acc4",
   "metadata": {},
   "outputs": [],
   "source": [
    "#mudando iframe\n",
    "WebDriverWait(driver, 10).until(EC.frame_to_be_available_and_switch_to_it((By.NAME, \"undefined\")))\n",
    "\n",
    "    \n",
    "#selecionando intervalo de datas  \n",
    "WebDriverWait(driver, 10).until(EC.element_to_be_clickable(\n",
    "    (By.XPATH, '/html/body/div[1]/div/div[1]/div[2]/div[2]/div[2]/div/div/div[2]/div[1]/div[3]'))).click()\n",
    "\n",
    "#abrindo calendário\n",
    "WebDriverWait(driver, 10).until(EC.element_to_be_clickable(\n",
    "    (By.XPATH, '/html/body/div[1]/div/div[1]/div[2]/div[2]/div[2]/div/div/div[2]/div[2]/div[1]/div[1]/div/div[2]'))).click()\n"
   ]
  },
  {
   "cell_type": "code",
   "execution_count": null,
   "id": "893b40af",
   "metadata": {},
   "outputs": [],
   "source": [
    "#voltando 5 meses\n",
    "for i in range(5):\n",
    "    \n",
    "    WebDriverWait(driver, 10).until(EC.element_to_be_clickable(\n",
    "        (By.XPATH, '/html/body/div[1]/div/div[1]/div[2]/div[2]/div[2]/div/div/div[2]/div[2]/div[1]/div[1]/div[2]/div[1]/div[1]'))).click()\n",
    "\n",
    "\n",
    "#selecionando o dia do mês\n",
    "WebDriverWait(driver, 25).until(EC.element_to_be_clickable(\n",
    "     (By.XPATH, '/html/body/div[1]/div/div[1]/div[2]/div[2]/div[2]/div/div/div[2]/div[2]/div[1]/div[1]/div[2]/div[2]/table/tbody/tr[1]/td[7]'))).click()\n",
    "\n",
    "#clicando em \"mostrar histórico\"\n",
    "WebDriverWait(driver, 25).until(EC.element_to_be_clickable(\n",
    "     (By.XPATH, '/html/body/div[1]/div/div[1]/div[2]/div[2]/div[2]/div/div/div[2]/div[3]'))).click()"
   ]
  },
  {
   "cell_type": "code",
   "execution_count": null,
   "id": "fc14c138",
   "metadata": {},
   "outputs": [],
   "source": [
    "#abrindo histórico de apostas até onde da\n",
    "\n",
    "while True:\n",
    "    try:\n",
    "        WebDriverWait(driver, 25).until(EC.element_to_be_clickable(\n",
    "            (By.XPATH, '/html/body/div[1]/div/div[1]/div[2]/div[2]/div[2]/div/div[2]/div/div[3]'))).click()\n",
    "    except:\n",
    "        break"
   ]
  },
  {
   "cell_type": "code",
   "execution_count": null,
   "id": "78822354",
   "metadata": {},
   "outputs": [],
   "source": [
    "inspect = '/html/body/div[1]/div/div[1]/div[2]/div[2]/div[2]/div/div[2]/div/div[2]'\n",
    "element = driver.find_element('xpath', f'{inspect}')\n",
    "html_element = element.get_attribute('outerHTML')\n",
    "soup = BeautifulSoup(html_element, 'html.parser')\n",
    "\n",
    "soup"
   ]
  },
  {
   "cell_type": "code",
   "execution_count": null,
   "id": "d287d34b",
   "metadata": {},
   "outputs": [],
   "source": [
    "#pra isso o BS4 é útil. Você acha uma lista de coisas baseado nas classe. \n",
    "\n",
    "dados = {'datas': [], 'apostas': [], 'odds': [],\n",
    "         'valores': [], 'retornos': [],  'detalhes': []}\n",
    "\n",
    "datas = soup.find_all(\"div\", {\"class\": \"h-BetSummary_DateAndTime\"})\n",
    "valores = soup.find_all(\n",
    "    \"div\", {\"class\": \"h-StakeReturnSection_StakeContainer\"})\n",
    "retornos = soup.find_all(\"div\", {\"class\": \"h-StakeReturnSection_ReturnText\"})\n",
    "apostas = soup.find_all(\"div\", {\"class\": \"h-BetSummary\"})\n",
    "detalhes = soup.find_all(\"div\", {\"h-StakeDescription_Text\"})"
   ]
  },
  {
   "cell_type": "code",
   "execution_count": null,
   "id": "f14848ba",
   "metadata": {},
   "outputs": [],
   "source": [
    "valores[0].text"
   ]
  },
  {
   "cell_type": "code",
   "execution_count": null,
   "id": "728fe9e0",
   "metadata": {},
   "outputs": [],
   "source": [
    "#tentando fazer a mesma coisa no selenium:\n",
    "\n",
    "datas_selenium = driver.find_elements(By.NAME, \"h-StakeReturnSection_StakeContainer\")\n",
    "\n",
    "datas_selenium\n",
    "\n",
    "#só pode ser via ID, nome ou xpath. Pra encontrar multiplos elementos é melhor usar o BS4 que ainda ter permite\n",
    "#ter um duplo controle: eu quero uma div com a class com nome x. "
   ]
  },
  {
   "cell_type": "code",
   "execution_count": null,
   "id": "44c7c84f",
   "metadata": {},
   "outputs": [],
   "source": [
    "i = 0\n",
    "\n",
    "for data, valor, retorno, aposta, detalhe in zip(datas, valores, retornos, apostas, detalhes):\n",
    "\n",
    "    tipos = aposta.find_all(\"div\", {\"class\": \"h-BetSelection_Name\"})\n",
    "    odds = aposta.find_all(\"div\", {\"class\": \"h-BetSelection_Odds\"})\n",
    "    \n",
    "    #isso aqui pra conferir se é uma múltipla \n",
    "    \n",
    "    if tipos == []:\n",
    "        tipos = aposta.find_all(\n",
    "            \"div\", {\"class\": \"h-BetBuilderSelection_SelectionLabel\"})\n",
    "        odds = aposta.find_all(\n",
    "            \"div\", {\"class\": \"h-BetBuilderMultipleSelections_OddsLabel\"})\n",
    "\n",
    "    aposta_string = \"\"\n",
    "    for possibilidades in tipos:\n",
    "        aposta_string = aposta_string + \" & \" + possibilidades.text\n",
    "    aposta_string = aposta_string[2:] #pra não ter que fazer um exceção de primeiro elemento no loop\n",
    "\n",
    "    valores_odds = []\n",
    "    \n",
    "    for odd in odds:\n",
    "        spans = odd.find_all('span')\n",
    "        for span in spans:\n",
    "            \n",
    "            if i == 8:\n",
    "                print(span)\n",
    "                #isso aqui serve pra não pegar coisa errada quando existe um boost na aposta\n",
    "            if not 'h-BetOdds' in str(span):\n",
    "                valores_odds.append(float(span.text.replace(',', '.'))) #nós usamos \",\" para decimal\n",
    "            valor_final = np.prod(np.array(valores_odds)) #pra calcular a multipla temos multiplicar as odds\n",
    "\n",
    "    dados['apostas'].append(aposta_string)\n",
    "    dados['datas'].append(data.text)\n",
    "    dados['valores'].append(valor.text)\n",
    "    dados['retornos'].append(retorno.text)\n",
    "    dados['odds'].append(valor_final)\n",
    "    dados['detalhes'].append(detalhe.text)\n",
    "    \n",
    "    i = i + 1\n",
    "\n",
    "df = pd.DataFrame(dados)\n",
    "display(df)"
   ]
  },
  {
   "cell_type": "code",
   "execution_count": null,
   "id": "69d68877",
   "metadata": {},
   "outputs": [],
   "source": []
  },
  {
   "cell_type": "code",
   "execution_count": null,
   "id": "29fb8095",
   "metadata": {},
   "outputs": [],
   "source": []
  }
 ],
 "metadata": {
  "kernelspec": {
   "display_name": "Python 3 (ipykernel)",
   "language": "python",
   "name": "python3"
  },
  "language_info": {
   "codemirror_mode": {
    "name": "ipython",
    "version": 3
   },
   "file_extension": ".py",
   "mimetype": "text/x-python",
   "name": "python",
   "nbconvert_exporter": "python",
   "pygments_lexer": "ipython3",
   "version": "3.9.12"
  },
  "vscode": {
   "interpreter": {
    "hash": "e3901721c1dc43833de5c21f729cdb91c67d656177384520d5b14669c55aa120"
   }
  }
 },
 "nbformat": 4,
 "nbformat_minor": 5
}

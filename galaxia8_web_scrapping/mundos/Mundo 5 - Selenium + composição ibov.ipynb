{
 "cells": [
  {
   "cell_type": "markdown",
   "id": "53faf482",
   "metadata": {},
   "source": [
    "# Mundo 5 - Selenium e composição do IBOV"
   ]
  },
  {
   "cell_type": "code",
   "execution_count": null,
   "id": "a4a54cbf",
   "metadata": {},
   "outputs": [],
   "source": [
    "from selenium import webdriver\n",
    "from selenium.webdriver.chrome.service import Service\n",
    "from webdriver_manager.chrome import ChromeDriverManager"
   ]
  },
  {
   "cell_type": "code",
   "execution_count": null,
   "id": "aa6877d2",
   "metadata": {},
   "outputs": [],
   "source": [
    "driver = webdriver.Chrome(service=Service(ChromeDriverManager().install()))"
   ]
  },
  {
   "cell_type": "code",
   "execution_count": null,
   "id": "77a5f57d",
   "metadata": {},
   "outputs": [],
   "source": [
    "driver.get('''https://www.b3.com.br/pt_br/market-data-e-indices/indices\n",
    "/indices-amplos/indice-ibovespa-ibovespa-composicao-da-carteira.htm''')"
   ]
  },
  {
   "cell_type": "code",
   "execution_count": null,
   "id": "1e94d9f8",
   "metadata": {},
   "outputs": [],
   "source": [
    "driver.maximize_window()"
   ]
  },
  {
   "cell_type": "code",
   "execution_count": null,
   "id": "a235f106",
   "metadata": {},
   "outputs": [],
   "source": [
    "boto_download_planilha = driver.find_element(\"xpath\", '//*[@id=\"divContainerIframeB3\"]/div/div[1]/form/div[2]/div/div[2]/div/div/div[1]/div[2]/p/a')\n",
    "\n",
    "#nao vai achar porque ta dentro de um iframe. toma muito cuidado com isso!!! "
   ]
  },
  {
   "cell_type": "markdown",
   "id": "2ad57576",
   "metadata": {},
   "source": [
    "# Existem duas formas de trocar pra outra URL:\n",
    "\n",
    "* Achar o iframe e trocar com o selenium\n",
    "* Utilizar um recurso de espera e trocar automaticamente\n",
    "\n",
    "# Modo 1:"
   ]
  },
  {
   "cell_type": "code",
   "execution_count": null,
   "id": "256a2530",
   "metadata": {},
   "outputs": [],
   "source": [
    "iframe = driver.find_element(\"id\", \"bvmf_iframe\")\n",
    "\n",
    "driver.switch_to.frame(iframe)"
   ]
  },
  {
   "cell_type": "markdown",
   "id": "d94b18ba",
   "metadata": {},
   "source": [
    "# Modo 2:\n",
    "\n",
    "Esse modo serve pra 1 milhão de coisas e é mais genérico"
   ]
  },
  {
   "cell_type": "code",
   "execution_count": null,
   "id": "6a84a8a0",
   "metadata": {},
   "outputs": [],
   "source": [
    "from selenium.webdriver.common.by import By\n",
    "from selenium.webdriver.support import expected_conditions as EC\n",
    "from selenium.webdriver.support.ui import WebDriverWait"
   ]
  },
  {
   "cell_type": "code",
   "execution_count": null,
   "id": "c0ad651d",
   "metadata": {},
   "outputs": [],
   "source": [
    "WebDriverWait(driver, 10).until(\n",
    "    EC.frame_to_be_available_and_switch_to_it((By.ID, \"bvmf_iframe\")))\n",
    "\n",
    "#element_to_be_clickable\n",
    "#text_to_be_present_in_element"
   ]
  },
  {
   "cell_type": "code",
   "execution_count": null,
   "id": "13bdb465",
   "metadata": {},
   "outputs": [],
   "source": [
    "planilha = driver.find_element(\"xpath\", '//*[@id=\"divContainerIframeB3\"]/div/div[1]/form/div[2]/div/div[2]/div/div/div[1]/div[2]/p/a')"
   ]
  },
  {
   "cell_type": "code",
   "execution_count": null,
   "id": "75c96ed3",
   "metadata": {},
   "outputs": [],
   "source": [
    "#planilha.click()\n",
    "\n",
    "driver.execute_script(\"arguments[0].click();\", planilha)"
   ]
  },
  {
   "cell_type": "markdown",
   "id": "62b07a8d",
   "metadata": {},
   "source": [
    "# Como selecionar caixinhas com o Selenium"
   ]
  },
  {
   "cell_type": "code",
   "execution_count": null,
   "id": "fdddb104",
   "metadata": {},
   "outputs": [],
   "source": [
    "from selenium.webdriver.support.ui import Select"
   ]
  },
  {
   "cell_type": "code",
   "execution_count": null,
   "id": "8858e986",
   "metadata": {},
   "outputs": [],
   "source": [
    "botao_de_selecao = driver.find_element(\"id\", \"selectPage\")\n",
    "\n",
    "caixa_de_selecao = Select(botao_de_selecao).select_by_visible_text(\"60\")"
   ]
  },
  {
   "cell_type": "code",
   "execution_count": null,
   "id": "5916f638",
   "metadata": {},
   "outputs": [],
   "source": [
    "driver.quit() \n",
    "#cuidado com esse quit antes de baixar"
   ]
  },
  {
   "cell_type": "code",
   "execution_count": null,
   "id": "96881fd1",
   "metadata": {},
   "outputs": [],
   "source": [
    "import pandas as pd\n",
    "from datetime import date"
   ]
  },
  {
   "cell_type": "code",
   "execution_count": null,
   "id": "2b18018a",
   "metadata": {},
   "outputs": [],
   "source": [
    "dia = date.today().day\n",
    "mes = date.today().month\n",
    "ano = date.today().year\n",
    "\n",
    "if dia < 10:\n",
    "    \n",
    "    dia = \"0\" + str(dia)\n",
    "\n",
    "if mes < 10:\n",
    "    \n",
    "    mes = \"0\" + str(mes)\n",
    "    \n",
    "ano = str(ano)[2:]\n",
    "\n",
    "print(dia, mes, ano)"
   ]
  },
  {
   "cell_type": "code",
   "execution_count": null,
   "id": "72333d69",
   "metadata": {},
   "outputs": [],
   "source": [
    "ibovespa_comp = pd.read_csv(fr\"C:\\Users\\lsiqu\\Downloads\\IBOVDia_{dia}-{mes}-{ano}.csv\", sep = \";\", \n",
    "                            skipfooter = 2, encoding = 'ISO-8859-1', engine = 'python', decimal = ',',\n",
    "                           thousands = \".\", header = 1, index_col = False)\n",
    "\n",
    "ibovespa_comp"
   ]
  },
  {
   "cell_type": "markdown",
   "id": "ae1bf0c0",
   "metadata": {},
   "source": [
    "# Exercícios \n",
    "\n",
    "Exercício 144: Faça webscraping do dólar no banco central, pegando as cotações do dólar com a data já pré prenchida no formulário.\n",
    "\n",
    "Link: https://www.bcb.gov.br/estabilidadefinanceira/historicocotacoes"
   ]
  },
  {
   "cell_type": "code",
   "execution_count": null,
   "id": "16e7dff9",
   "metadata": {},
   "outputs": [],
   "source": [
    "driver = webdriver.Chrome(service=Service(ChromeDriverManager().install()))\n",
    "\n",
    "url = 'https://www.bcb.gov.br/estabilidadefinanceira/historicocotacoes'\n",
    "\n",
    "driver.get(url)\n",
    "\n",
    "WebDriverWait(driver, 10).until(\n",
    "    EC.frame_to_be_available_and_switch_to_it((By.XPATH, \"/html/body/app-root/app-root/main/dynamic-comp/div/div[2]/div[1]/div/iframe\")))\n",
    "\n",
    "botao_pesquisar = driver.find_element(\"xpath\", '/html/body/div/form/div/input')\n",
    "\n",
    "driver.execute_script(\"arguments[0].click();\", botao_pesquisar)\n",
    "\n",
    "tabela = driver.find_element(\"xpath\", '/html/body/div/table')\n",
    "\n",
    "html_tabela = tabela.get_attribute('outerHTML')\n",
    "\n",
    "cotacao_dolar = pd.read_html(html_tabela)[0]\n",
    "\n",
    "driver.quit()\n",
    "\n",
    "cotacao_dolar"
   ]
  },
  {
   "cell_type": "code",
   "execution_count": null,
   "id": "80ad2f1c",
   "metadata": {},
   "outputs": [],
   "source": [
    "cotacao_dolar = cotacao_dolar.droplevel(level = 0, axis = 1)\n",
    "cotacao_dolar = cotacao_dolar.dropna(axis = 1).drop(18, axis = 0)\n",
    "\n",
    "cotacao_dolar"
   ]
  },
  {
   "cell_type": "code",
   "execution_count": null,
   "id": "b12061e7",
   "metadata": {},
   "outputs": [],
   "source": []
  }
 ],
 "metadata": {
  "kernelspec": {
   "display_name": "Python 3 (ipykernel)",
   "language": "python",
   "name": "python3"
  },
  "language_info": {
   "codemirror_mode": {
    "name": "ipython",
    "version": 3
   },
   "file_extension": ".py",
   "mimetype": "text/x-python",
   "name": "python",
   "nbconvert_exporter": "python",
   "pygments_lexer": "ipython3",
   "version": "3.9.12"
  }
 },
 "nbformat": 4,
 "nbformat_minor": 5
}

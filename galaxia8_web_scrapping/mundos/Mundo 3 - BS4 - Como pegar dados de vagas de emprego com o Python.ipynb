{
 "cells": [
  {
   "cell_type": "markdown",
   "id": "2d32951e",
   "metadata": {},
   "source": [
    "# Mundo 3 - BS4: Pegando dados de vagas de emprego com o Python"
   ]
  },
  {
   "cell_type": "code",
   "execution_count": null,
   "id": "d355931e",
   "metadata": {},
   "outputs": [],
   "source": [
    "!pip install beautifulsoup4"
   ]
  },
  {
   "cell_type": "code",
   "execution_count": null,
   "id": "90d062eb",
   "metadata": {},
   "outputs": [],
   "source": [
    "!pip install lxml"
   ]
  },
  {
   "cell_type": "markdown",
   "id": "99080f6b",
   "metadata": {},
   "source": [
    "# O beautifulsoup\n",
    "\n",
    "* Esse é o pacote mais simples pra web scraping.\n",
    "* Geralmente ele é utilizado como pacote auxiliar e em conjunto com requests/selenium.\n",
    "* Esse pacote só serve pra sites simples.\n",
    "* Eu particulamente prefiro usar o Selenium, embora a performance do BS4 seja muito superior quando ele consegue ser usado sozinho."
   ]
  },
  {
   "cell_type": "code",
   "execution_count": 2,
   "id": "17378695",
   "metadata": {},
   "outputs": [],
   "source": [
    "import requests \n",
    "from bs4 import BeautifulSoup\n",
    "from pprint import pprint\n",
    "import pandas as pd"
   ]
  },
  {
   "cell_type": "code",
   "execution_count": null,
   "id": "f161ea26",
   "metadata": {},
   "outputs": [],
   "source": [
    "response = requests.get('''\n",
    "https://pt.wikipedia.org/wiki/Popula%C3%A7%C3%A3o_mundial''')\n",
    "\n",
    "response.text"
   ]
  },
  {
   "cell_type": "code",
   "execution_count": null,
   "id": "983ea6cc",
   "metadata": {},
   "outputs": [],
   "source": [
    "response = requests.get('''\n",
    "https://pt.wikipedia.org/wiki/Popula%C3%A7%C3%A3o_mundial''') #vai carregar a pagina\n",
    "\n",
    "soup = BeautifulSoup(response.text, 'html.parser') #transformar o html da pagina em um objeto do soup\n",
    "\n",
    "tabela = soup.find(\"table\") #achar o que você precisa. acabou. \n",
    "\n",
    "df = pd.read_html(str(tabela))[0]#n pode esquecer do STR!! \n",
    "\n",
    "display(df)\n",
    "#sempre utilizaremos o pandas pra pegar dados de tabelas"
   ]
  },
  {
   "cell_type": "code",
   "execution_count": null,
   "id": "ba06a60a",
   "metadata": {},
   "outputs": [],
   "source": [
    "url_vagas = '''https://www.timesjobs.com/candidate/job-search.html?\n",
    "searchType=personalizedSearch&from=submit&txtKeywords=python&txtLocation='''\n",
    "\n",
    "response = requests.get(url_vagas)\n",
    "\n",
    "soup = BeautifulSoup(response.text, 'html.parser')\n",
    "\n",
    "lista_vagas = soup.find_all(\"li\", class_ = '''clearfix job-bx wht-shd-bx''') \n",
    "\n",
    "pprint(lista_vagas)"
   ]
  },
  {
   "cell_type": "code",
   "execution_count": null,
   "id": "da2784e9",
   "metadata": {},
   "outputs": [],
   "source": [
    "lista_dfs = []\n",
    "\n",
    "for vaga in lista_vagas:\n",
    "    \n",
    "    \n",
    "    empresa = vaga.h3.text.replace(\" \", \"\").strip()\n",
    "    requesitos = vaga.find('span', class_ = 'srp-skills').text.replace(\" \", \"\").strip()\n",
    "    data_publicacao = vaga.find('span', class_ = 'sim-posted').span.text\n",
    "    \n",
    "    df = pd.DataFrame({'empresa': empresa,\n",
    "                      'requesitos': requesitos,\n",
    "                      'data_publicacao': data_publicacao},\n",
    "                     index = [0])\n",
    "    \n",
    "    lista_dfs.append(df)\n",
    "    \n",
    "\n",
    "tabela_vagas = pd.concat(lista_dfs, ignore_index = True)\n",
    "\n",
    "tabela_vagas"
   ]
  },
  {
   "cell_type": "markdown",
   "id": "a2d4a5ef",
   "metadata": {},
   "source": [
    "# Exercícios \n",
    "\n",
    "* Exercício 141: Colete os dados de população por município no Brasil no site da Wikipedia. "
   ]
  },
  {
   "cell_type": "code",
   "execution_count": null,
   "id": "7aca0508",
   "metadata": {},
   "outputs": [],
   "source": []
  },
  {
   "cell_type": "code",
   "execution_count": null,
   "id": "8c78f212",
   "metadata": {},
   "outputs": [],
   "source": []
  },
  {
   "cell_type": "code",
   "execution_count": null,
   "id": "81a7b194",
   "metadata": {},
   "outputs": [],
   "source": []
  },
  {
   "cell_type": "code",
   "execution_count": 3,
   "id": "8280aff2",
   "metadata": {
    "scrolled": true
   },
   "outputs": [
    {
     "name": "stderr",
     "output_type": "stream",
     "text": [
      "/var/folders/49/ds_8p60s0c13tflg2l28s78w0000gp/T/ipykernel_71848/1089307437.py:11: FutureWarning: Passing literal html to 'read_html' is deprecated and will be removed in a future version. To read from a literal string, wrap it in a 'StringIO' object.\n",
      "  tabela_municipios = pd.read_html(str(municipios_html))[0]\n"
     ]
    },
    {
     "data": {
      "text/html": [
       "<div>\n",
       "<style scoped>\n",
       "    .dataframe tbody tr th:only-of-type {\n",
       "        vertical-align: middle;\n",
       "    }\n",
       "\n",
       "    .dataframe tbody tr th {\n",
       "        vertical-align: top;\n",
       "    }\n",
       "\n",
       "    .dataframe thead th {\n",
       "        text-align: right;\n",
       "    }\n",
       "</style>\n",
       "<table border=\"1\" class=\"dataframe\">\n",
       "  <thead>\n",
       "    <tr style=\"text-align: right;\">\n",
       "      <th></th>\n",
       "      <th>0</th>\n",
       "      <th>1</th>\n",
       "    </tr>\n",
       "  </thead>\n",
       "  <tbody>\n",
       "    <tr>\n",
       "      <th>0</th>\n",
       "      <td>NaN</td>\n",
       "      <td>Este artigo ou seção pode conter informações d...</td>\n",
       "    </tr>\n",
       "  </tbody>\n",
       "</table>\n",
       "</div>"
      ],
      "text/plain": [
       "    0                                                  1\n",
       "0 NaN  Este artigo ou seção pode conter informações d..."
      ]
     },
     "execution_count": 3,
     "metadata": {},
     "output_type": "execute_result"
    }
   ],
   "source": [
    "#gabarito 141\n",
    "\n",
    "url = 'https://pt.wikipedia.org/wiki/Lista_de_munic%C3%ADpios_do_Brasil_por_popula%C3%A7%C3%A3o'\n",
    "\n",
    "response = requests.get(url)\n",
    "\n",
    "soup = BeautifulSoup(response.text, 'lxml')\n",
    "\n",
    "municipios_html = soup.find(\"table\") \n",
    "\n",
    "tabela_municipios = pd.read_html(str(municipios_html))[0]\n",
    "\n",
    "tabela_municipios"
   ]
  },
  {
   "cell_type": "code",
   "execution_count": null,
   "id": "8ef97094",
   "metadata": {},
   "outputs": [],
   "source": []
  },
  {
   "cell_type": "code",
   "execution_count": null,
   "id": "9efbd855",
   "metadata": {},
   "outputs": [],
   "source": []
  },
  {
   "cell_type": "code",
   "execution_count": null,
   "id": "a7ef0a92",
   "metadata": {},
   "outputs": [],
   "source": []
  }
 ],
 "metadata": {
  "kernelspec": {
   "display_name": "Python 3 (ipykernel)",
   "language": "python",
   "name": "python3"
  },
  "language_info": {
   "codemirror_mode": {
    "name": "ipython",
    "version": 3
   },
   "file_extension": ".py",
   "mimetype": "text/x-python",
   "name": "python",
   "nbconvert_exporter": "python",
   "pygments_lexer": "ipython3",
   "version": "3.11.7"
  }
 },
 "nbformat": 4,
 "nbformat_minor": 5
}

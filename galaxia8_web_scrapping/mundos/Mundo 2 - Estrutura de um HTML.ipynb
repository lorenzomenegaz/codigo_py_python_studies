{
 "cells": [
  {
   "cell_type": "markdown",
   "id": "663befd9",
   "metadata": {},
   "source": [
    "# Mundo 2 - Estrutura de um HTML"
   ]
  },
  {
   "cell_type": "markdown",
   "id": "790d9211",
   "metadata": {},
   "source": [
    "# O que é HTML?\n",
    "\n",
    "* É uma linguagem de marcação.\n",
    "* Funciona a partir das tags \"<>\", etc. Toda tag que abre, TEM que fechar.\n",
    "* O código final é uma árvore. Uma coisa está dentro da outra. Tem a raiz (root) e, a partir disso, outros elementos abaixo.\n",
    "* Possui 9 tags \"principais\": (mais úteis pra web scraping)\n",
    "\n",
    "        - head\n",
    "        - body\n",
    "        - title\n",
    "        - h1\n",
    "        - p\n",
    "        - div\n",
    "        - table\n",
    "        - a\n",
    "        - iframe\n",
    "        \n",
    "Vamos ver cada uma no HTML abaixo:"
   ]
  },
  {
   "cell_type": "code",
   "execution_count": null,
   "id": "5d3ca719",
   "metadata": {},
   "outputs": [],
   "source": []
  },
  {
   "cell_type": "markdown",
   "id": "5afdf842",
   "metadata": {},
   "source": [
    "<html> \n",
    "\n",
    "<head>\n",
    "<title>Aprendendo HTML</title>\n",
    "</head>\n",
    "    <body>\n",
    "        <h1>O Titulo que eu quiser</h1>\n",
    "    </body>\n",
    "\n",
    "</html>"
   ]
  },
  {
   "cell_type": "code",
   "execution_count": null,
   "id": "c3e82d56",
   "metadata": {},
   "outputs": [],
   "source": []
  },
  {
   "cell_type": "markdown",
   "id": "0aa0f1c2",
   "metadata": {},
   "source": [
    "<html>\n",
    "<head>\n",
    "<title>Aprendendo HTML</title>\n",
    "</head>\n",
    "<body>\n",
    "\n",
    "<h1>Meu primeiro H1</h1>\n",
    "    <h2>Que tal um subtítulo só de brincadeira?</h2>\n",
    "        <p style = \"color:red;\"> Vamos começar a escrever daqui.</p>\n",
    "    \n",
    "    \n",
    "<p title = \"qualquer coisa, isso é um identificador\">Aqui podemos começar outro paragrafo </p>\n",
    "    \n",
    "<a href=\"https://www.varos.com.br/codigopy\">Texto que leva a algum link</a>\n",
    "    \n",
    "    \n",
    "<button>Que tal um botão inútil?</button>\n",
    "\n",
    "</body>\n",
    "</html>\n",
    "\n",
    "<table>\n",
    "  <tr>\n",
    "    <th>Empresa</th>\n",
    "    <th>Cotação</th>\n",
    "    <th>Volume</th>\n",
    "  </tr>\n",
    "  <tr>\n",
    "    <td>Weg</td>\n",
    "    <td>10</td>\n",
    "    <td>2000</td>\n",
    "  </tr>\n",
    "  <tr>\n",
    "    <td>Petrobras</td>\n",
    "    <td>20</td>\n",
    "    <td>5000</td>\n",
    "  </tr>\n",
    "</table>\n",
    "\n",
    "<br>\n",
    "\n",
    "<div style=\"background-color:black;color:white;padding:10px;\">\n",
    "  <h2>Codigopy</h2>\n",
    "  <p>Aqui você vai aprender Python pro mercado financeiro.</p>\n",
    "</div>"
   ]
  },
  {
   "cell_type": "code",
   "execution_count": null,
   "id": "24de8649",
   "metadata": {},
   "outputs": [],
   "source": []
  },
  {
   "cell_type": "markdown",
   "id": "1b5f1f34",
   "metadata": {},
   "source": [
    "* <html\\> é a raiz abrindo o HTML\n",
    "* <head\\> é onde ficam os metas dados da Página. Essa página que você ta agora no jupyter tem como title \"Mundo 2 - Estrutura HTML\" dentro do head como title. Esse é o nome que ta aparecendo ali na aba e é assim que você define ele. \n",
    "* <title\\> é o que aparece de fato na barra do navegador.\n",
    "* <body\\> é onde fica todo o conteúdo vísivel. Textos, imagens, tabelas.. É aqui que vamos atacar no web scraping.\n",
    "* <H1\\> é o título, mas pode ser qualquer número ali. O \"1\" só define que é a maior fonte da página.\n",
    "* <p\\> é o paragráfo de texto.\n",
    "* <a\\> é uma marcação para anexar algum link\n",
    "\n",
    "<br>\n",
    "\n",
    "* Dentro de cada chave, podemos colocar classes ou atributos, igual no Python. Podemos escolher a cor do texto ou classificar esse elemento dentro de uma classe no nosso HTML. Isso vai ajudar no Web Scraping, pois todas as notícias de um site, por exemplo, pode estar dentro de uma classe x e podem ser facilmente localizadas no HTML.\n",
    "\n",
    "* <table/> cria as tabelas. TD é o dado da tabela, TR é uma linha nova e TH é uma coluna nova.\n",
    "* Pra finalizar, as <div/> são divisórias dentro do texto, que geralmente vem acompanhadas de um style CSS. A partir dessas div's, o código fica organizado e você consegue criar classes, que nem eu mencionei antes."
   ]
  },
  {
   "cell_type": "markdown",
   "id": "699d1d97",
   "metadata": {},
   "source": [
    "<div class=\"acao\">\n",
    "  <h2>Weg</h2>\n",
    "  <p>Empresa de máquinas</p>\n",
    "</div>\n",
    "\n",
    "<div class=\"acao\">\n",
    "  <h2>Petrobras</h2>\n",
    "  <p>Empresa de petróleo</p>\n",
    "</div>\n",
    "\n",
    "<div class=\"acao\">\n",
    "  <h2>Vale</h2>\n",
    "  <p>Mineradora</p>\n",
    "</div>\n",
    "\n",
    "</body>\n",
    "</html>"
   ]
  },
  {
   "cell_type": "code",
   "execution_count": null,
   "id": "b7e33e12",
   "metadata": {},
   "outputs": [],
   "source": []
  }
 ],
 "metadata": {
  "kernelspec": {
   "display_name": "Python 3 (ipykernel)",
   "language": "python",
   "name": "python3"
  },
  "language_info": {
   "codemirror_mode": {
    "name": "ipython",
    "version": 3
   },
   "file_extension": ".py",
   "mimetype": "text/x-python",
   "name": "python",
   "nbconvert_exporter": "python",
   "pygments_lexer": "ipython3",
   "version": "3.9.12"
  }
 },
 "nbformat": 4,
 "nbformat_minor": 5
}

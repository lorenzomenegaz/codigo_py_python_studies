{
 "cells": [
  {
   "cell_type": "markdown",
   "id": "7eba807b",
   "metadata": {},
   "source": [
    "# Mundo 7 - Pyautogui"
   ]
  },
  {
   "cell_type": "markdown",
   "id": "443e07a2",
   "metadata": {},
   "source": [
    "# Pyautogui:\n",
    "\n",
    "* Pacote do Python que simula seu mouse e teclado.\n",
    "* Como ele simula você, ele não se passa por um robô! \n",
    "* Ele não necessariamente precisa ser na web, embora esteja dentro do módulo de web scraping. \n",
    "* Todos os comandos se resumem ao mouse e teclado e é a forma menos otimizada de fazer, mas as vezes é necessário. \n",
    "* A gente pode utilizar o Pyautogui pra fazer RPA (acessar sistemas da sua empresa, por exemplo)\n",
    "\n",
    "https://pyautogui.readthedocs.io/en/latest/"
   ]
  },
  {
   "cell_type": "code",
   "execution_count": null,
   "id": "9fb1d7bd",
   "metadata": {
    "scrolled": true
   },
   "outputs": [],
   "source": [
    "!pip install pyautogui"
   ]
  },
  {
   "cell_type": "code",
   "execution_count": 1,
   "id": "b9a47f41",
   "metadata": {},
   "outputs": [],
   "source": [
    "import pyautogui\n",
    "import time"
   ]
  },
  {
   "cell_type": "markdown",
   "id": "5a273858",
   "metadata": {},
   "source": [
    "# Pegando coordenadas do mouse "
   ]
  },
  {
   "cell_type": "code",
   "execution_count": null,
   "id": "cc1acadb",
   "metadata": {},
   "outputs": [],
   "source": [
    "time.sleep(2) #pode ser usado pra esperar um sistema abrir\n",
    "\n",
    "posicao_mouse = pyautogui.position()\n",
    "\n",
    "print(posicao_mouse)"
   ]
  },
  {
   "cell_type": "markdown",
   "id": "326f23b3",
   "metadata": {},
   "source": [
    "# Clicar com o mouse"
   ]
  },
  {
   "cell_type": "code",
   "execution_count": null,
   "id": "209f4fe1",
   "metadata": {
    "scrolled": true
   },
   "outputs": [],
   "source": [
    "pyautogui.click(x=posicao_mouse[0], y=posicao_mouse[1], \n",
    "                clicks=1, interval=0, button='left') #testar com 2 clicks"
   ]
  },
  {
   "cell_type": "markdown",
   "id": "a2c5f4f0",
   "metadata": {},
   "source": [
    "# Movendo o mouse de posição na tela"
   ]
  },
  {
   "cell_type": "code",
   "execution_count": null,
   "id": "ca1df27b",
   "metadata": {},
   "outputs": [],
   "source": [
    "pyautogui.moveTo(x=posicao_mouse[0], y=posicao_mouse[1], duration=3) "
   ]
  },
  {
   "cell_type": "markdown",
   "id": "b8ceeb5c",
   "metadata": {},
   "source": [
    "# Ponto importante:\n",
    "\n",
    "O sistema tem que ter sempre a mesma cara. Você só vai pegar as coordenadas uma vez.\n",
    "\n",
    "\"Mas e páginas que tem que scrollar?\"\n",
    "\n",
    "Sim, cada scroll, a coordenada muda, mas se a página precisa scrollar você tem duas opções:\n",
    "\n",
    "* Ta usando a biblitoca errada\n",
    "* Vai scrollar com o pyautogui também. Você pode contar quantos scrolls pra baixo ou pra cima o programa da."
   ]
  },
  {
   "cell_type": "markdown",
   "id": "f093263d",
   "metadata": {},
   "source": [
    "# Escrever com o teclado"
   ]
  },
  {
   "cell_type": "code",
   "execution_count": null,
   "id": "c8a6f96d",
   "metadata": {},
   "outputs": [],
   "source": [
    "pyautogui.click(x=posicao_mouse[0], y=posicao_mouse[1], \n",
    "                clicks=1, interval=0, button='left')\n",
    "\n",
    "pyautogui.write(\"teste\")"
   ]
  },
  {
   "cell_type": "markdown",
   "id": "b4607c29",
   "metadata": {},
   "source": [
    "# Pressionar uma tecla\n",
    "\n",
    "* Pesquise no google todos os atalho possíveis. Não existe ficar guiando mouse, isso é última instância.\n",
    "\n",
    "Nova aba: CTRL + P\n",
    "Nova guia: CTRL + N"
   ]
  },
  {
   "cell_type": "code",
   "execution_count": null,
   "id": "53908987",
   "metadata": {},
   "outputs": [],
   "source": [
    "pyautogui.press(\"enter\")"
   ]
  },
  {
   "cell_type": "markdown",
   "id": "dac1dd5b",
   "metadata": {},
   "source": [
    "# Abrindo o navegador"
   ]
  },
  {
   "cell_type": "code",
   "execution_count": null,
   "id": "ad9deb72",
   "metadata": {},
   "outputs": [],
   "source": [
    "pyautogui.click(x=posicao_mouse[0], y=posicao_mouse[1], \n",
    "                clicks=1, interval=0, button='left')\n",
    "\n",
    "pyautogui.write(\"brave\")\n",
    "\n",
    "pyautogui.press(\"enter\")\n",
    "\n",
    "time.sleep(1)\n",
    "\n",
    "pyautogui.write(\"www.globo.com\")\n",
    "\n",
    "pyautogui.press(\"enter\")"
   ]
  },
  {
   "cell_type": "code",
   "execution_count": null,
   "id": "29b41525",
   "metadata": {},
   "outputs": [],
   "source": [
    "pyautogui.hotkey('CTRL', 'N') #duas ao mesmo tempo"
   ]
  },
  {
   "cell_type": "markdown",
   "id": "4ad6474d",
   "metadata": {},
   "source": [
    "# Segurar uma tecla"
   ]
  },
  {
   "cell_type": "code",
   "execution_count": null,
   "id": "c8f643e7",
   "metadata": {},
   "outputs": [],
   "source": [
    "pyautogui.keyDown('ctrl')  \n",
    "pyautogui.press('pgdn')    \n",
    "pyautogui.press('pgdn')  \n",
    "pyautogui.press('pgdn') \n",
    "pyautogui.keyUp('ctrl')"
   ]
  },
  {
   "cell_type": "markdown",
   "id": "475f10a7",
   "metadata": {},
   "source": [
    "# Box na tela"
   ]
  },
  {
   "cell_type": "code",
   "execution_count": null,
   "id": "2f0d668d",
   "metadata": {},
   "outputs": [],
   "source": [
    "#pyautogui.alert('Alerta de chuva')\n",
    "\n",
    "alerta_criado =  pyautogui.confirm('Tem certeza que o Palmeiras é campeão mundial?')\n",
    "print(alerta_criado)"
   ]
  },
  {
   "cell_type": "code",
   "execution_count": null,
   "id": "7e35944a",
   "metadata": {},
   "outputs": [],
   "source": [
    "input_via_box = pyautogui.prompt('Qual o seu time?') #as vezes a pessoa não quer ter contato com o terminal\n",
    "\n",
    "input_via_box"
   ]
  },
  {
   "cell_type": "markdown",
   "id": "09d90015",
   "metadata": {},
   "source": [
    "# Tirando print"
   ]
  },
  {
   "cell_type": "code",
   "execution_count": null,
   "id": "aa3d9459",
   "metadata": {},
   "outputs": [],
   "source": [
    "pyautogui.screenshot('teste.png') \n",
    "#isso aqui pode ser usado pra printar um captcha daqueles de preecher letra e usar uma IA pra preencher\n",
    "#abre o site com selenium, printa o captacha com o pyautogui e passa pra IA te dar as letras/numeros"
   ]
  },
  {
   "cell_type": "markdown",
   "id": "e4e51232",
   "metadata": {},
   "source": [
    "# Abrindo uma planilha e pegando uma informação"
   ]
  },
  {
   "cell_type": "code",
   "execution_count": 2,
   "id": "05258140",
   "metadata": {},
   "outputs": [],
   "source": [
    "nome_planilha = 'ValuationLojasQuero'"
   ]
  },
  {
   "cell_type": "code",
   "execution_count": 11,
   "id": "feeb85e1",
   "metadata": {},
   "outputs": [
    {
     "name": "stdout",
     "output_type": "stream",
     "text": [
      "80.8%\n",
      "\n"
     ]
    }
   ],
   "source": [
    "pyautogui.click(x=24, y=1072, \n",
    "                clicks=1, interval=0, button='left')\n",
    "\n",
    "pyautogui.write(nome_planilha)\n",
    "\n",
    "time.sleep(1)\n",
    "\n",
    "pyautogui.press(\"enter\")\n",
    "\n",
    "time.sleep(7)\n",
    "\n",
    "pyautogui.click(x=731, y=737, \n",
    "                clicks=1, interval=0, button='left')\n",
    "\n",
    "time.sleep(1)\n",
    "\n",
    "pyautogui.click(x=144, y=124, \n",
    "                clicks=1, interval=0, button='left')\n",
    "\n",
    "time.sleep(1)\n",
    "\n",
    "pyautogui.click(x=1788, y=7, \n",
    "                clicks=1, interval=0, button='left')\n",
    "\n",
    "upside_da_acao = pyautogui.prompt('Qual o Upside?')\n",
    "\n",
    "time.sleep(2)\n",
    "\n",
    "pyautogui.press(\"enter\")\n",
    "\n",
    "\n",
    "print(upside_da_acao)"
   ]
  },
  {
   "cell_type": "code",
   "execution_count": 6,
   "id": "0828a1ab",
   "metadata": {},
   "outputs": [
    {
     "name": "stdout",
     "output_type": "stream",
     "text": [
      "Point(x=144, y=124)\n"
     ]
    }
   ],
   "source": [
    "time.sleep(2) #pode ser usado pra esperar um sistema abrir\n",
    "\n",
    "posicao_mouse = pyautogui.position()\n",
    "\n",
    "print(posicao_mouse)"
   ]
  },
  {
   "cell_type": "code",
   "execution_count": null,
   "id": "aa32d247",
   "metadata": {},
   "outputs": [],
   "source": []
  },
  {
   "cell_type": "code",
   "execution_count": null,
   "id": "3eef42f0",
   "metadata": {},
   "outputs": [],
   "source": []
  },
  {
   "cell_type": "markdown",
   "id": "40f96de9",
   "metadata": {},
   "source": [
    "# Exercícios\n",
    "\n",
    "* Exercício 145: Abra o seu navegador utilizando o Pyautogui.\n",
    "* Exercício 146: Acesse uma planilha do seu computador e pegue um valor de uma célula fixa."
   ]
  },
  {
   "cell_type": "code",
   "execution_count": null,
   "id": "14366132",
   "metadata": {},
   "outputs": [],
   "source": []
  }
 ],
 "metadata": {
  "kernelspec": {
   "display_name": "Python 3 (ipykernel)",
   "language": "python",
   "name": "python3"
  },
  "language_info": {
   "codemirror_mode": {
    "name": "ipython",
    "version": 3
   },
   "file_extension": ".py",
   "mimetype": "text/x-python",
   "name": "python",
   "nbconvert_exporter": "python",
   "pygments_lexer": "ipython3",
   "version": "3.9.12"
  }
 },
 "nbformat": 4,
 "nbformat_minor": 5
}

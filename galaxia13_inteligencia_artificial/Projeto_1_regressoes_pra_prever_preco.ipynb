{
 "cells": [
  {
   "cell_type": "markdown",
   "id": "7fac4366",
   "metadata": {},
   "source": [
    "# Projeto 1: Regressões pra prever preço das ações."
   ]
  },
  {
   "cell_type": "code",
   "execution_count": 9,
   "id": "683c7b7e",
   "metadata": {},
   "outputs": [],
   "source": [
    "import pandas as pd\n",
    "import numpy as np\n",
    "import matplotlib.pyplot as plt\n",
    "from sklearn.preprocessing import MinMaxScaler\n",
    "from sklearn.linear_model import LinearRegression\n",
    "from sklearn.linear_model import Ridge"
   ]
  },
  {
   "cell_type": "markdown",
   "id": "29a8b021",
   "metadata": {},
   "source": [
    "### Pegando e organizando os dados "
   ]
  },
  {
   "cell_type": "code",
   "execution_count": 10,
   "id": "f58dfdc2",
   "metadata": {},
   "outputs": [],
   "source": [
    "cotacoes = pd.read_parquet(r'C:\\Users\\lsiqu\\dev\\base_dados_br\\cotacoes.parquet')\n",
    "\n",
    "acao_escolhida = 'MGLU3'\n",
    "\n",
    "dados = cotacoes[cotacoes['ticker'] == acao_escolhida]"
   ]
  },
  {
   "cell_type": "code",
   "execution_count": 11,
   "id": "5fb356ff",
   "metadata": {},
   "outputs": [],
   "source": [
    "datas = pd.to_datetime(dados['data'].iloc[:-1]).dt.date\n",
    "dados = dados[['preco_fechamento_ajustado', 'volume_negociado']]"
   ]
  },
  {
   "cell_type": "markdown",
   "id": "f7788bf2",
   "metadata": {},
   "source": [
    "### Criando nosso Y.\n",
    "Iremos usar o preço da ação e o volume de um dia pra prever a cotação do dia seguinte."
   ]
  },
  {
   "cell_type": "code",
   "execution_count": 12,
   "id": "4511a31e",
   "metadata": {},
   "outputs": [],
   "source": [
    "dados['cotacao_dia_seguinte'] = dados['preco_fechamento_ajustado'].shift(-1)\n",
    "dados = dados.dropna()"
   ]
  },
  {
   "cell_type": "code",
   "execution_count": 13,
   "id": "e8386daa",
   "metadata": {},
   "outputs": [],
   "source": [
    "tamanho_dados_treinamento = int(len(dados) * 0.8)"
   ]
  },
  {
   "cell_type": "code",
   "execution_count": 14,
   "id": "6bcfef0e",
   "metadata": {},
   "outputs": [],
   "source": [
    "#vamos escalar os dados entre 0 e 1. \n",
    "#Mas tem que escalar os dados de teste e treino individualmente! \n",
    "escalador_treinamento = MinMaxScaler(feature_range=(0, 1))\n",
    "escalador_teste = MinMaxScaler(feature_range=(0, 1))\n",
    "\n",
    "dados_entre_0_e_1_treinamento = escalador_treinamento.fit_transform(dados.iloc[0: tamanho_dados_treinamento, :])\n",
    "\n",
    "dados_entre_0_e_1_teste = escalador_teste.fit_transform(dados.iloc[tamanho_dados_treinamento: , :])"
   ]
  },
  {
   "cell_type": "code",
   "execution_count": 15,
   "id": "1a48e3be",
   "metadata": {},
   "outputs": [],
   "source": [
    "x_treinamento = dados_entre_0_e_1_treinamento[:,:2]\n",
    "y_treinamento = dados_entre_0_e_1_treinamento[:,2:]\n",
    "\n",
    "x_teste = dados_entre_0_e_1_teste[:,:2]\n",
    "y_teste = dados_entre_0_e_1_teste[:,2:]"
   ]
  },
  {
   "cell_type": "markdown",
   "id": "804f652e",
   "metadata": {},
   "source": [
    "### Criando o modelo de regressão normal."
   ]
  },
  {
   "cell_type": "code",
   "execution_count": 16,
   "id": "b7a8cd20",
   "metadata": {},
   "outputs": [
    {
     "data": {
      "text/html": [
       "<style>#sk-container-id-1 {color: black;background-color: white;}#sk-container-id-1 pre{padding: 0;}#sk-container-id-1 div.sk-toggleable {background-color: white;}#sk-container-id-1 label.sk-toggleable__label {cursor: pointer;display: block;width: 100%;margin-bottom: 0;padding: 0.3em;box-sizing: border-box;text-align: center;}#sk-container-id-1 label.sk-toggleable__label-arrow:before {content: \"▸\";float: left;margin-right: 0.25em;color: #696969;}#sk-container-id-1 label.sk-toggleable__label-arrow:hover:before {color: black;}#sk-container-id-1 div.sk-estimator:hover label.sk-toggleable__label-arrow:before {color: black;}#sk-container-id-1 div.sk-toggleable__content {max-height: 0;max-width: 0;overflow: hidden;text-align: left;background-color: #f0f8ff;}#sk-container-id-1 div.sk-toggleable__content pre {margin: 0.2em;color: black;border-radius: 0.25em;background-color: #f0f8ff;}#sk-container-id-1 input.sk-toggleable__control:checked~div.sk-toggleable__content {max-height: 200px;max-width: 100%;overflow: auto;}#sk-container-id-1 input.sk-toggleable__control:checked~label.sk-toggleable__label-arrow:before {content: \"▾\";}#sk-container-id-1 div.sk-estimator input.sk-toggleable__control:checked~label.sk-toggleable__label {background-color: #d4ebff;}#sk-container-id-1 div.sk-label input.sk-toggleable__control:checked~label.sk-toggleable__label {background-color: #d4ebff;}#sk-container-id-1 input.sk-hidden--visually {border: 0;clip: rect(1px 1px 1px 1px);clip: rect(1px, 1px, 1px, 1px);height: 1px;margin: -1px;overflow: hidden;padding: 0;position: absolute;width: 1px;}#sk-container-id-1 div.sk-estimator {font-family: monospace;background-color: #f0f8ff;border: 1px dotted black;border-radius: 0.25em;box-sizing: border-box;margin-bottom: 0.5em;}#sk-container-id-1 div.sk-estimator:hover {background-color: #d4ebff;}#sk-container-id-1 div.sk-parallel-item::after {content: \"\";width: 100%;border-bottom: 1px solid gray;flex-grow: 1;}#sk-container-id-1 div.sk-label:hover label.sk-toggleable__label {background-color: #d4ebff;}#sk-container-id-1 div.sk-serial::before {content: \"\";position: absolute;border-left: 1px solid gray;box-sizing: border-box;top: 0;bottom: 0;left: 50%;z-index: 0;}#sk-container-id-1 div.sk-serial {display: flex;flex-direction: column;align-items: center;background-color: white;padding-right: 0.2em;padding-left: 0.2em;position: relative;}#sk-container-id-1 div.sk-item {position: relative;z-index: 1;}#sk-container-id-1 div.sk-parallel {display: flex;align-items: stretch;justify-content: center;background-color: white;position: relative;}#sk-container-id-1 div.sk-item::before, #sk-container-id-1 div.sk-parallel-item::before {content: \"\";position: absolute;border-left: 1px solid gray;box-sizing: border-box;top: 0;bottom: 0;left: 50%;z-index: -1;}#sk-container-id-1 div.sk-parallel-item {display: flex;flex-direction: column;z-index: 1;position: relative;background-color: white;}#sk-container-id-1 div.sk-parallel-item:first-child::after {align-self: flex-end;width: 50%;}#sk-container-id-1 div.sk-parallel-item:last-child::after {align-self: flex-start;width: 50%;}#sk-container-id-1 div.sk-parallel-item:only-child::after {width: 0;}#sk-container-id-1 div.sk-dashed-wrapped {border: 1px dashed gray;margin: 0 0.4em 0.5em 0.4em;box-sizing: border-box;padding-bottom: 0.4em;background-color: white;}#sk-container-id-1 div.sk-label label {font-family: monospace;font-weight: bold;display: inline-block;line-height: 1.2em;}#sk-container-id-1 div.sk-label-container {text-align: center;}#sk-container-id-1 div.sk-container {/* jupyter's `normalize.less` sets `[hidden] { display: none; }` but bootstrap.min.css set `[hidden] { display: none !important; }` so we also need the `!important` here to be able to override the default hidden behavior on the sphinx rendered scikit-learn.org. See: https://github.com/scikit-learn/scikit-learn/issues/21755 */display: inline-block !important;position: relative;}#sk-container-id-1 div.sk-text-repr-fallback {display: none;}</style><div id=\"sk-container-id-1\" class=\"sk-top-container\"><div class=\"sk-text-repr-fallback\"><pre>LinearRegression()</pre><b>In a Jupyter environment, please rerun this cell to show the HTML representation or trust the notebook. <br />On GitHub, the HTML representation is unable to render, please try loading this page with nbviewer.org.</b></div><div class=\"sk-container\" hidden><div class=\"sk-item\"><div class=\"sk-estimator sk-toggleable\"><input class=\"sk-toggleable__control sk-hidden--visually\" id=\"sk-estimator-id-1\" type=\"checkbox\" checked><label for=\"sk-estimator-id-1\" class=\"sk-toggleable__label sk-toggleable__label-arrow\">LinearRegression</label><div class=\"sk-toggleable__content\"><pre>LinearRegression()</pre></div></div></div></div></div>"
      ],
      "text/plain": [
       "LinearRegression()"
      ]
     },
     "execution_count": 16,
     "metadata": {},
     "output_type": "execute_result"
    }
   ],
   "source": [
    "regressao_linear = LinearRegression()\n",
    "regressao_linear.fit(x_treinamento, y_treinamento)"
   ]
  },
  {
   "cell_type": "code",
   "execution_count": 17,
   "id": "5ea08e52",
   "metadata": {
    "scrolled": true
   },
   "outputs": [],
   "source": [
    "precos_preditos = regressao_linear.predict(x_teste)"
   ]
  },
  {
   "cell_type": "code",
   "execution_count": 18,
   "id": "855534dc",
   "metadata": {},
   "outputs": [],
   "source": [
    "score_treinamento = regressao_linear.score(x_treinamento, y_treinamento)"
   ]
  },
  {
   "cell_type": "code",
   "execution_count": 19,
   "id": "5cfc6895",
   "metadata": {},
   "outputs": [],
   "source": [
    "score_teste = regressao_linear.score(x_teste, y_teste)"
   ]
  },
  {
   "cell_type": "code",
   "execution_count": 20,
   "id": "7880a908",
   "metadata": {},
   "outputs": [],
   "source": [
    "dados_teste = np.concatenate((x_teste, y_teste),axis=1)\n",
    "dados_preditos = np.concatenate((x_teste, precos_preditos),axis=1)"
   ]
  },
  {
   "cell_type": "code",
   "execution_count": 21,
   "id": "4d0715ee",
   "metadata": {},
   "outputs": [],
   "source": [
    "#tirando escalas dos dados\n",
    "\n",
    "precos_teste_reais = escalador_teste.inverse_transform(dados_teste)\n",
    "precos_teste_preditos = escalador_teste.inverse_transform(dados_preditos)"
   ]
  },
  {
   "cell_type": "code",
   "execution_count": 22,
   "id": "200a75b0",
   "metadata": {},
   "outputs": [
    {
     "data": {
      "text/plain": [
       "[<matplotlib.lines.Line2D at 0x2202746c190>]"
      ]
     },
     "execution_count": 22,
     "metadata": {},
     "output_type": "execute_result"
    },
    {
     "data": {
      "image/png": "[encoded data removed]",
      "text/plain": [
       "<Figure size 1000x400 with 1 Axes>"
      ]
     },
     "metadata": {},
     "output_type": "display_data"
    }
   ],
   "source": [
    "fig, ax = plt.subplots(figsize = (10, 4))\n",
    "\n",
    "ax.plot(datas.iloc[tamanho_dados_treinamento:], precos_teste_reais[:, 2])\n",
    "ax.plot(datas.iloc[tamanho_dados_treinamento:], precos_teste_preditos[:, 2])"
   ]
  },
  {
   "cell_type": "code",
   "execution_count": 23,
   "id": "76f3d4bf",
   "metadata": {},
   "outputs": [],
   "source": [
    "#precos_teste_preditos[:, 2] "
   ]
  },
  {
   "cell_type": "code",
   "execution_count": 24,
   "id": "d0965fab",
   "metadata": {},
   "outputs": [],
   "source": [
    "#precos_teste_reais[:, 2]"
   ]
  },
  {
   "cell_type": "code",
   "execution_count": 25,
   "id": "610cc2c2",
   "metadata": {},
   "outputs": [],
   "source": [
    "#np.around((precos_teste_reais[:, 2] - precos_teste_preditos[:, 2]), 2)"
   ]
  },
  {
   "cell_type": "markdown",
   "id": "a356f414",
   "metadata": {},
   "source": [
    "# Avaliação"
   ]
  },
  {
   "cell_type": "code",
   "execution_count": 26,
   "id": "f4b4993a",
   "metadata": {},
   "outputs": [],
   "source": [
    "from datetime import date"
   ]
  },
  {
   "cell_type": "code",
   "execution_count": 27,
   "id": "3e44ddfd",
   "metadata": {},
   "outputs": [],
   "source": [
    "df = pd.DataFrame(precos_teste_preditos, index = datas.iloc[tamanho_dados_treinamento:])\n",
    "\n",
    "df.columns = ['preco', 'volume', 'preco_predito_dia_seguinte']\n",
    "\n",
    "df['retorno'] = df['preco'].pct_change()\n",
    "\n",
    "df['comprado_vendido'] = pd.NA\n",
    "\n",
    "df.loc[df['preco_predito_dia_seguinte'] > df['preco'], 'comprado_vendido'] = 'comprado'\n",
    "df.loc[df['preco_predito_dia_seguinte'] < df['preco'], 'comprado_vendido'] = 'vendido'\n",
    "\n",
    "df['acertos'] = pd.NA\n",
    "\n",
    "df.loc[(df['comprado_vendido'] == 'comprado') & (df['retorno'] > 0), 'acertos'] = 1\n",
    "df.loc[(df['comprado_vendido'] == 'comprado') & (df['retorno'] < 0), 'acertos'] = 0\n",
    "df.loc[(df['comprado_vendido'] == 'vendido') & (df['retorno'] > 0), 'acertos'] = 0\n",
    "df.loc[(df['comprado_vendido'] == 'vendido') & (df['retorno'] < 0), 'acertos'] = 1\n",
    "df.loc[df['acertos'].isna(), 'acertos'] = 0\n",
    "\n",
    "df = df.dropna()"
   ]
  },
  {
   "cell_type": "code",
   "execution_count": 28,
   "id": "df39e178",
   "metadata": {},
   "outputs": [],
   "source": [
    "acertou_o_lado = df['acertos'].sum()/len(df)\n",
    "errou_o_lado = 1 - acertou_o_lado"
   ]
  },
  {
   "cell_type": "code",
   "execution_count": 29,
   "id": "e4014679",
   "metadata": {},
   "outputs": [],
   "source": [
    "df['retorno_absoluto'] = df['retorno'].abs()"
   ]
  },
  {
   "cell_type": "code",
   "execution_count": 30,
   "id": "55004de9",
   "metadata": {},
   "outputs": [
    {
     "data": {
      "text/plain": [
       "acertos\n",
       "0    0.034567\n",
       "1    0.033934\n",
       "Name: retorno_absoluto, dtype: float64"
      ]
     },
     "execution_count": 30,
     "metadata": {},
     "output_type": "execute_result"
    }
   ],
   "source": [
    "media_lucros_e_perdas = df.groupby('acertos')['retorno_absoluto'].mean()\n",
    "\n",
    "media_lucros_e_perdas"
   ]
  },
  {
   "cell_type": "code",
   "execution_count": 31,
   "id": "22d719d5",
   "metadata": {},
   "outputs": [
    {
     "data": {
      "text/plain": [
       "0.1951556744513267"
      ]
     },
     "execution_count": 31,
     "metadata": {},
     "output_type": "execute_result"
    }
   ],
   "source": [
    "exp_mat_lucro = acertou_o_lado * media_lucros_e_perdas[1] - media_lucros_e_perdas[0] * errou_o_lado\n",
    "\n",
    "exp_mat_lucro * 100"
   ]
  },
  {
   "cell_type": "code",
   "execution_count": 32,
   "id": "3c89b0e0",
   "metadata": {},
   "outputs": [
    {
     "data": {
      "text/html": [
       "<div>\n",
       "<style scoped>\n",
       "    .dataframe tbody tr th:only-of-type {\n",
       "        vertical-align: middle;\n",
       "    }\n",
       "\n",
       "    .dataframe tbody tr th {\n",
       "        vertical-align: top;\n",
       "    }\n",
       "\n",
       "    .dataframe thead th {\n",
       "        text-align: right;\n",
       "    }\n",
       "</style>\n",
       "<table border=\"1\" class=\"dataframe\">\n",
       "  <thead>\n",
       "    <tr style=\"text-align: right;\">\n",
       "      <th></th>\n",
       "      <th>retorno_acum_modelo</th>\n",
       "      <th>retorno_acum_acao</th>\n",
       "    </tr>\n",
       "    <tr>\n",
       "      <th>data</th>\n",
       "      <th></th>\n",
       "      <th></th>\n",
       "    </tr>\n",
       "  </thead>\n",
       "  <tbody>\n",
       "    <tr>\n",
       "      <th>2021-02-10</th>\n",
       "      <td>0.03585</td>\n",
       "      <td>-0.035850</td>\n",
       "    </tr>\n",
       "    <tr>\n",
       "      <th>2021-02-11</th>\n",
       "      <td>0.021509</td>\n",
       "      <td>-0.022502</td>\n",
       "    </tr>\n",
       "    <tr>\n",
       "      <th>2021-02-12</th>\n",
       "      <td>0.011147</td>\n",
       "      <td>-0.012586</td>\n",
       "    </tr>\n",
       "    <tr>\n",
       "      <th>2021-02-17</th>\n",
       "      <td>0.027159</td>\n",
       "      <td>-0.028223</td>\n",
       "    </tr>\n",
       "    <tr>\n",
       "      <th>2021-02-18</th>\n",
       "      <td>0.045703</td>\n",
       "      <td>-0.045767</td>\n",
       "    </tr>\n",
       "    <tr>\n",
       "      <th>...</th>\n",
       "      <td>...</td>\n",
       "      <td>...</td>\n",
       "    </tr>\n",
       "    <tr>\n",
       "      <th>2023-07-07</th>\n",
       "      <td>0.650966</td>\n",
       "      <td>-0.878719</td>\n",
       "    </tr>\n",
       "    <tr>\n",
       "      <th>2023-07-10</th>\n",
       "      <td>0.718459</td>\n",
       "      <td>-0.883677</td>\n",
       "    </tr>\n",
       "    <tr>\n",
       "      <th>2023-07-11</th>\n",
       "      <td>0.712824</td>\n",
       "      <td>-0.883295</td>\n",
       "    </tr>\n",
       "    <tr>\n",
       "      <th>2023-07-12</th>\n",
       "      <td>0.757604</td>\n",
       "      <td>-0.886346</td>\n",
       "    </tr>\n",
       "    <tr>\n",
       "      <th>2023-07-13</th>\n",
       "      <td>0.734012</td>\n",
       "      <td>-0.884821</td>\n",
       "    </tr>\n",
       "  </tbody>\n",
       "</table>\n",
       "<p>604 rows × 2 columns</p>\n",
       "</div>"
      ],
      "text/plain": [
       "           retorno_acum_modelo  retorno_acum_acao\n",
       "data                                             \n",
       "2021-02-10             0.03585          -0.035850\n",
       "2021-02-11            0.021509          -0.022502\n",
       "2021-02-12            0.011147          -0.012586\n",
       "2021-02-17            0.027159          -0.028223\n",
       "2021-02-18            0.045703          -0.045767\n",
       "...                        ...                ...\n",
       "2023-07-07            0.650966          -0.878719\n",
       "2023-07-10            0.718459          -0.883677\n",
       "2023-07-11            0.712824          -0.883295\n",
       "2023-07-12            0.757604          -0.886346\n",
       "2023-07-13            0.734012          -0.884821\n",
       "\n",
       "[604 rows x 2 columns]"
      ]
     },
     "metadata": {},
     "output_type": "display_data"
    },
    {
     "data": {
      "image/png": "[encoded data removed]",
      "text/plain": [
       "<Figure size 640x480 with 1 Axes>"
      ]
     },
     "metadata": {},
     "output_type": "display_data"
    }
   ],
   "source": [
    "df['retorno_modelo'] = pd.NA\n",
    "\n",
    "df.loc[df['acertos'] == True, 'retorno_modelo'] = df.loc[df['acertos'] == True]['retorno_absoluto']\n",
    "df.loc[df['acertos'] == False, 'retorno_modelo'] = df.loc[df['acertos'] == False]['retorno_absoluto'] * - 1\n",
    "\n",
    "df['retorno_acum_modelo'] = (1 + df['retorno_modelo']).cumprod() - 1\n",
    "df['retorno_acum_acao'] = (1 + df['retorno']).cumprod() - 1\n",
    "\n",
    "retornos = df[['retorno_acum_modelo', 'retorno_acum_acao']]\n",
    "\n",
    "retornos.plot() \n",
    "display(retornos)\n",
    "#PETR4: Se a expectativa matemática é negativa, cedo ou tarde vc vai quebrar. \n",
    "#CEAB3: Olha como o modelo precisa de muitos dados pra conseguir ajustar. Com CEAB que é nova deu muito ruim.\n",
    "#Nesses modelos muito apertados tem que tomar muito cuidado com custo. Comrpou no fechamento? E corretagem?\n",
    "#Dados intraday pra pegar entradas e saidas exatas."
   ]
  },
  {
   "cell_type": "code",
   "execution_count": null,
   "id": "ed49ed09",
   "metadata": {},
   "outputs": [],
   "source": []
  },
  {
   "cell_type": "code",
   "execution_count": null,
   "id": "7c90a325",
   "metadata": {},
   "outputs": [],
   "source": []
  },
  {
   "cell_type": "code",
   "execution_count": 33,
   "id": "46514b0d",
   "metadata": {},
   "outputs": [],
   "source": [
    "# regressao_ridge = Ridge(alpha = 3) #mudar o alpha\n",
    "# regressao_ridge.fit(x_treinamento, y_treinamento)"
   ]
  },
  {
   "cell_type": "code",
   "execution_count": 34,
   "id": "0193da40",
   "metadata": {},
   "outputs": [
    {
     "data": {
      "text/plain": [
       "0.9988429369709462"
      ]
     },
     "metadata": {},
     "output_type": "display_data"
    },
    {
     "data": {
      "text/plain": [
       "0.9973296054654582"
      ]
     },
     "metadata": {},
     "output_type": "display_data"
    }
   ],
   "source": [
    "# precos_preditos = regressao_ridge.predict(x_teste)\n",
    "# score_treinamento = regressao_ridge.score(x_treinamento, y_treinamento)\n",
    "# score_teste = regressao_ridge.score(x_teste, y_teste)\n",
    "# dados_teste = np.concatenate((x_teste, y_teste),axis=1)\n",
    "# dados_preditos = np.concatenate((x_teste, precos_preditos),axis=1)\n",
    "# precos_teste_reais = escalador_teste.inverse_transform(dados_teste)\n",
    "# precos_teste_preditos = escalador_teste.inverse_transform(dados_preditos)\n",
    "\n",
    "display(score_treinamento)\n",
    "display(score_teste)"
   ]
  },
  {
   "cell_type": "code",
   "execution_count": 35,
   "id": "ba69e205",
   "metadata": {},
   "outputs": [],
   "source": [
    "# fig, ax = plt.subplots(figsize = (10, 4))\n",
    "\n",
    "# ax.plot(datas.iloc[tamanho_dados_treinamento:], precos_teste_reais[:, 2])\n",
    "# ax.plot(datas.iloc[tamanho_dados_treinamento:], precos_teste_preditos[:, 2])"
   ]
  },
  {
   "cell_type": "code",
   "execution_count": 36,
   "id": "84f8546f",
   "metadata": {},
   "outputs": [],
   "source": [
    "# df = pd.DataFrame(precos_teste_preditos, index = datas.iloc[tamanho_dados_treinamento:])\n",
    "\n",
    "# df.columns = ['preco', 'volume', 'preco_predito_dia_seguinte']\n",
    "\n",
    "# df['retorno'] = df['preco'].pct_change()\n",
    "\n",
    "# df['comprado_vendido'] = pd.NA\n",
    "\n",
    "# df.loc[df['preco_predito_dia_seguinte'] > df['preco'], 'comprado_vendido'] = 'comprado'\n",
    "# df.loc[df['preco_predito_dia_seguinte'] < df['preco'], 'comprado_vendido'] = 'vendido'\n",
    "\n",
    "# df['acertos'] = pd.NA\n",
    "\n",
    "# df.loc[(df['comprado_vendido'] == 'comprado') & (df['retorno'] > 0), 'acertos'] = 1\n",
    "# df.loc[(df['comprado_vendido'] == 'comprado') & (df['retorno'] < 0), 'acertos'] = 0\n",
    "# df.loc[(df['comprado_vendido'] == 'vendido') & (df['retorno'] > 0), 'acertos'] = 0\n",
    "# df.loc[(df['comprado_vendido'] == 'vendido') & (df['retorno'] < 0), 'acertos'] = 1\n",
    "# df.loc[df['acertos'].isna(), 'acertos'] = 0\n",
    "\n",
    "# df = df.dropna()\n",
    "\n",
    "# acertou_o_lado = df['acertos'].sum()/len(df)\n",
    "# errou_o_lado = 1 - acertou_o_lado\n",
    "\n",
    "# df['retorno_absoluto'] = df['retorno'].abs()\n",
    "\n",
    "# media_lucros_e_perdas = df.groupby('acertos')['retorno_absoluto'].mean()\n",
    "\n",
    "# exp_mat_lucro = acertou_o_lado * media_lucros_e_perdas[1] - media_lucros_e_perdas[0] * errou_o_lado\n",
    "\n",
    "# exp_mat_lucro * 100"
   ]
  },
  {
   "cell_type": "code",
   "execution_count": 37,
   "id": "d36fd9f5",
   "metadata": {},
   "outputs": [],
   "source": [
    "# df['retorno_modelo'] = pd.NA\n",
    "\n",
    "# df.loc[df['acertos'] == True, 'retorno_modelo'] = df.loc[df['acertos'] == True]['retorno_absoluto']\n",
    "# df.loc[df['acertos'] == False, 'retorno_modelo'] = df.loc[df['acertos'] == False]['retorno_absoluto'] * - 1\n",
    "\n",
    "# df['retorno_acum_modelo'] = (1 + df['retorno_modelo']).cumprod() - 1\n",
    "# df['retorno_acum_acao'] = (1 + df['retorno']).cumprod() - 1\n",
    "\n",
    "# retornos = df[['retorno_acum_modelo', 'retorno_acum_acao']]\n",
    "\n",
    "# retornos.plot() \n",
    "# display(retornos)"
   ]
  },
  {
   "cell_type": "code",
   "execution_count": null,
   "id": "5cb6d0a1",
   "metadata": {},
   "outputs": [],
   "source": []
  },
  {
   "cell_type": "code",
   "execution_count": null,
   "id": "bdfbc9c7",
   "metadata": {},
   "outputs": [],
   "source": []
  }
 ],
 "metadata": {
  "kernelspec": {
   "display_name": "Python 3 (ipykernel)",
   "language": "python",
   "name": "python3"
  },
  "language_info": {
   "codemirror_mode": {
    "name": "ipython",
    "version": 3
   },
   "file_extension": ".py",
   "mimetype": "text/x-python",
   "name": "python",
   "nbconvert_exporter": "python",
   "pygments_lexer": "ipython3",
   "version": "3.11.3"
  }
 },
 "nbformat": 4,
 "nbformat_minor": 5
}

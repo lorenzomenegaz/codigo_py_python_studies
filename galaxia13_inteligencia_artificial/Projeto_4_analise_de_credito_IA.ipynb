{
 "cells": [
  {
   "cell_type": "markdown",
   "id": "9a4793f9",
   "metadata": {},
   "source": [
    "# Projeto 4 - Analise de crédito com IA"
   ]
  },
  {
   "cell_type": "code",
   "execution_count": null,
   "id": "6e3a765a",
   "metadata": {},
   "outputs": [],
   "source": [
    "import numpy as np\n",
    "import pandas as pd\n",
    "import matplotlib.pyplot as plt\n",
    "from sklearn.preprocessing import StandardScaler\n",
    "from sklearn.model_selection import train_test_split\n",
    "from sklearn.linear_model import LogisticRegression\n",
    "import seaborn as sns"
   ]
  },
  {
   "cell_type": "markdown",
   "id": "e31b447b",
   "metadata": {},
   "source": [
    "* ID: ID de cada cliente\n",
    "* LIMIT_BAL: Valor do crédito concedido em NT dólares (inclui crédito individual e familiar/suplementar\n",
    "* SEXO: Gênero (1=masculino, 2=feminino)\n",
    "* EDUCAÇÃO: (1=pós-graduação, 2=universidade, 3=ensino médio, 4=outros, 5=desconhecido, 6=desconhecido)\n",
    "* CASAMENTO: Estado civil (1=casado, 2=solteiro, 3=outros)\n",
    "* IDADE: idade em anos\n",
    "* PAY_0: Status do reembolso em setembro de 2005 (-1=pagamento devido, 1=atraso no pagamento por um mês, 2=atraso no pagamento por dois meses, … 8=atraso no pagamento por oito meses, 9=atraso no pagamento por nove meses e acima)\n",
    "* PAY_2: Status do reembolso em agosto de 2005 (escala igual à acima)\n",
    "* PAY_3: Status do reembolso em julho de 2005 (escala igual à acima)\n",
    "* PAY_4: Status do reembolso em junho de 2005 (escala igual à acima)\n",
    "* PAY_5: Status do reembolso em maio de 2005 (escala igual à acima)\n",
    "* PAY_6: Status do reembolso em abril de 2005 (escala igual à acima)\n",
    "* BILL_AMT1: Valor do extrato da conta em setembro de 2005 (NT dólar)\n",
    "* BILL_AMT2: Valor do extrato da conta em agosto de 2005 (NT dólar)\n",
    "* BILL_AMT3: Valor do extrato da conta em julho de 2005 (NT dólar)\n",
    "* BILL_AMT4: Valor do extrato da conta em junho de 2005 (NT dólar)\n",
    "* BILL_AMT5: Valor do extrato da conta em maio de 2005 (NT dólar)\n",
    "* BILL_AMT6: Valor do extrato da conta em abril de 2005 (NT dólar)\n",
    "* PAY_AMT1: Valor do pagamento anterior em setembro de 2005 (NT dólares)\n",
    "* PAY_AMT2: Valor do pagamento anterior em agosto de 2005 (NT dólar)\n",
    "* PAY_AMT3: Valor do pagamento anterior em julho de 2005 (NT dólar)\n",
    "* PAY_AMT4: Valor do pagamento anterior em junho de 2005 (NT dólar)\n",
    "* PAY_AMT5: Valor do pagamento anterior em maio de 2005 (NT dólar)\n",
    "* PAY_AMT6: Valor do pagamento anterior em abril de 2005 (NT dólar)\n",
    "* default.payment.next.month: Pagamento padrão (1=sim, 0=não)"
   ]
  },
  {
   "cell_type": "code",
   "execution_count": null,
   "id": "b24f39a6",
   "metadata": {},
   "outputs": [],
   "source": [
    "dados_bancarios = pd.read_csv('dados_cartao_credito.csv')\n",
    "dados_bancarios"
   ]
  },
  {
   "cell_type": "code",
   "execution_count": null,
   "id": "48916118",
   "metadata": {},
   "outputs": [],
   "source": [
    "dados_bancarios = dados_bancarios.drop('ID', axis = 1) "
   ]
  },
  {
   "cell_type": "markdown",
   "id": "fdaa1569",
   "metadata": {},
   "source": [
    "# Dummies\n",
    "\n",
    "* Como vamos trabalhar com dados de classificação em uma regressão, precisamos pegar dummies pros dados categóricos.\n",
    "* Assim, conseguimos inserir um beta que vai multiplicar o valor da dummie e adicionar um valor a nossa equação caso a pessoa em questão se enquadre em alguma classificação.\n",
    "* Com dummies nós conseguimos medir exatamente a sensibilidade de adicionar uma variável ou não.\n",
    "\n",
    "\n",
    "Y = A + B DF + B * DM + B * DF\n",
    "\n",
    "Y = 1250 + 250 * 1 + 750 * 1 + 1000 * 1\n",
    "\n",
    "EF = 1500\n",
    "EM = 2250\n",
    "EFA = 3250"
   ]
  },
  {
   "cell_type": "code",
   "execution_count": null,
   "id": "da62af08",
   "metadata": {},
   "outputs": [],
   "source": [
    "dicionario_colunas_dummies = {\n",
    "            'EDUCATION': 'EDU',\n",
    "            'MARRIAGE': 'MAR'\n",
    "        }"
   ]
  },
  {
   "cell_type": "code",
   "execution_count": null,
   "id": "2df5d95d",
   "metadata": {},
   "outputs": [],
   "source": [
    "for column, prefix in dicionario_colunas_dummies.items():\n",
    "    dummies = pd.get_dummies(dados_bancarios[column], prefix=prefix)\n",
    "    dados_bancarios = pd.concat([dados_bancarios, dummies], axis=1)\n",
    "    dados_bancarios = dados_bancarios.drop(column, axis=1)\n",
    "    \n",
    "dados_bancarios"
   ]
  },
  {
   "cell_type": "code",
   "execution_count": null,
   "id": "9376e34c",
   "metadata": {},
   "outputs": [],
   "source": [
    "#pegando x e Y\n",
    "\n",
    "Y = dados_bancarios['default.payment.next.month'].copy()\n",
    "X = dados_bancarios.drop('default.payment.next.month', axis=1).copy()"
   ]
  },
  {
   "cell_type": "code",
   "execution_count": null,
   "id": "f9171413",
   "metadata": {},
   "outputs": [],
   "source": [
    "X_train, X_test, y_train, y_test = train_test_split(X, Y, train_size=0.8)"
   ]
  },
  {
   "cell_type": "code",
   "execution_count": null,
   "id": "0c874fd5",
   "metadata": {},
   "outputs": [],
   "source": [
    "escalador_treino = StandardScaler()\n",
    "escalador_teste = StandardScaler()\n",
    "\n",
    "\n",
    "X_train = pd.DataFrame(escalador_treino.fit_transform(X_train), columns=X.columns) #só precisamos escalar o X pq o Y é 0 ou 1. \n",
    "X_test = pd.DataFrame(escalador_teste.fit_transform(X_test), columns=X.columns) \n",
    "\n",
    "X_train"
   ]
  },
  {
   "cell_type": "markdown",
   "id": "9c201e83",
   "metadata": {},
   "source": [
    "### Treinando o modelo"
   ]
  },
  {
   "cell_type": "code",
   "execution_count": null,
   "id": "de4a0d70",
   "metadata": {},
   "outputs": [],
   "source": [
    "modelo = LogisticRegression()\n",
    "modelo.fit(X_train, y_train)"
   ]
  },
  {
   "cell_type": "markdown",
   "id": "d5dd0114",
   "metadata": {},
   "source": [
    "### Fazendo previsões de default.\n",
    "\n",
    "* Em x% dos casos ele disse que ia dar default e realmente deu e ele disse que não ia dar e realmente não deu."
   ]
  },
  {
   "cell_type": "code",
   "execution_count": null,
   "id": "30927f54",
   "metadata": {
    "scrolled": true
   },
   "outputs": [],
   "source": [
    "\"Acertos: {:.2f}%\".format(modelo.score(X_test, y_test) * 100)"
   ]
  },
  {
   "cell_type": "markdown",
   "id": "03a74643",
   "metadata": {},
   "source": [
    "### Isso é a mesma coisa que fazer isso:"
   ]
  },
  {
   "cell_type": "code",
   "execution_count": null,
   "id": "a0ddd50b",
   "metadata": {},
   "outputs": [],
   "source": [
    "prevendo_defaults = modelo.predict(X_test)\n",
    "\n",
    "prevendo_defaults"
   ]
  },
  {
   "cell_type": "code",
   "execution_count": null,
   "id": "8eb6b6e7",
   "metadata": {},
   "outputs": [],
   "source": [
    "from sklearn.metrics import accuracy_score\n",
    "\n",
    "acertos = accuracy_score(y_test.values, prevendo_defaults)\n",
    "acertos"
   ]
  },
  {
   "cell_type": "markdown",
   "id": "be1f1f41",
   "metadata": {},
   "source": [
    "### Matriz de confusão"
   ]
  },
  {
   "cell_type": "code",
   "execution_count": null,
   "id": "f8a129ce",
   "metadata": {},
   "outputs": [],
   "source": [
    "from sklearn.metrics import confusion_matrix\n",
    "\n",
    "cm = confusion_matrix(y_test.values, prevendo_defaults)\n",
    "cm"
   ]
  },
  {
   "cell_type": "code",
   "execution_count": null,
   "id": "426f7087",
   "metadata": {},
   "outputs": [],
   "source": [
    "#0/0 - 0/1\n",
    "#1/0 - 1/1"
   ]
  },
  {
   "cell_type": "markdown",
   "id": "463f54ff",
   "metadata": {},
   "source": [
    "# Análise\n",
    "\n",
    "* Qual erro é pior pra você?\n",
    "* Otimizar o modelo.\n",
    "* ML é uma otimização de processo: o algoritmo é melhor do que existe hoje? Ele erra menos ou mais?\n",
    "* No caso dos bancos, o erro tipo 1 é crucial. Deixar de dar crédito pra alguém que ia pagar é menos pior do que tomar default.\n",
    "* Deixamos de ganhar dinheiro em 1040 casos e perdemos em 143. Calcular o custo disso tudo e ver se isso é melhor do que está sendo praticado hoje."
   ]
  },
  {
   "cell_type": "code",
   "execution_count": null,
   "id": "b69b9e33",
   "metadata": {},
   "outputs": [],
   "source": []
  }
 ],
 "metadata": {
  "kernelspec": {
   "display_name": "Python 3 (ipykernel)",
   "language": "python",
   "name": "python3"
  },
  "language_info": {
   "codemirror_mode": {
    "name": "ipython",
    "version": 3
   },
   "file_extension": ".py",
   "mimetype": "text/x-python",
   "name": "python",
   "nbconvert_exporter": "python",
   "pygments_lexer": "ipython3",
   "version": "3.11.3"
  }
 },
 "nbformat": 4,
 "nbformat_minor": 5
}

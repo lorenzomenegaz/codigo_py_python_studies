{
 "cells": [
  {
   "cell_type": "markdown",
   "id": "f55df4c1",
   "metadata": {},
   "source": [
    "# Projeto 2 - Redes neurais para prever o preço de ações"
   ]
  },
  {
   "cell_type": "code",
   "execution_count": null,
   "id": "24c33182",
   "metadata": {},
   "outputs": [],
   "source": [
    "import pandas as pd\n",
    "import numpy as np\n",
    "import matplotlib.pyplot as plt\n",
    "from sklearn.preprocessing import MinMaxScaler\n",
    "from tensorflow import keras"
   ]
  },
  {
   "cell_type": "markdown",
   "id": "514c4b92",
   "metadata": {},
   "source": [
    "### Pegando e organizando dados"
   ]
  },
  {
   "cell_type": "code",
   "execution_count": null,
   "id": "2731006b",
   "metadata": {},
   "outputs": [],
   "source": [
    "cotacoes = pd.read_parquet(r'C:\\Users\\lsiqu\\dev\\base_dados_br\\cotacoes.parquet')\n",
    "\n",
    "acao_escolhida = 'MGLU3'\n",
    "\n",
    "dados = cotacoes[cotacoes['ticker'] == acao_escolhida]\n",
    "\n",
    "datas = pd.to_datetime(dados['data'].iloc[:-1]).dt.date\n",
    "dados = dados[['preco_fechamento_ajustado']]"
   ]
  },
  {
   "cell_type": "markdown",
   "id": "980ab323",
   "metadata": {},
   "source": [
    "# Criando o Y\n",
    "\n",
    "* Dessa vez vamos usar só o preço."
   ]
  },
  {
   "cell_type": "code",
   "execution_count": null,
   "id": "9633dde3",
   "metadata": {},
   "outputs": [],
   "source": [
    "dados['cotacao_dia_seguinte'] = dados['preco_fechamento_ajustado'].shift(-1)\n",
    "dados = dados.dropna()\n",
    "dados"
   ]
  },
  {
   "cell_type": "code",
   "execution_count": null,
   "id": "1724b75c",
   "metadata": {},
   "outputs": [],
   "source": [
    "tamanho_dados_treinamento = int(len(dados) * 0.8)"
   ]
  },
  {
   "cell_type": "code",
   "execution_count": null,
   "id": "26fb262e",
   "metadata": {},
   "outputs": [],
   "source": [
    "#vamos escalar os dados entre 0 e 1. \n",
    "#Mas tem que escalar os dados de teste e treino individualmente! \n",
    "escalador_treinamento = MinMaxScaler(feature_range=(0, 1))\n",
    "escalador_teste = MinMaxScaler(feature_range=(0, 1))\n",
    "\n",
    "dados_entre_0_e_1_treinamento = escalador_treinamento.fit_transform(dados.iloc[0: tamanho_dados_treinamento, :])\n",
    "\n",
    "dados_entre_0_e_1_teste = escalador_teste.fit_transform(dados.iloc[tamanho_dados_treinamento: , :])"
   ]
  },
  {
   "cell_type": "code",
   "execution_count": null,
   "id": "6320c64a",
   "metadata": {},
   "outputs": [],
   "source": [
    "x_treinamento = dados_entre_0_e_1_treinamento[:,0]\n",
    "y_treinamento = dados_entre_0_e_1_treinamento[:,1]\n",
    "\n",
    "x_teste = dados_entre_0_e_1_teste[:,0]\n",
    "y_teste = dados_entre_0_e_1_teste[:,1]\n",
    "\n",
    "x_treinamento"
   ]
  },
  {
   "cell_type": "code",
   "execution_count": null,
   "id": "c7eb8c2a",
   "metadata": {},
   "outputs": [],
   "source": [
    "x_treinamento = x_treinamento.reshape(x_treinamento.shape[0], 1, 1)\n",
    "y_treinamento = y_treinamento.reshape(y_treinamento.shape[0], 1, 1)\n",
    "x_teste = x_teste.reshape(x_teste.shape[0], 1, 1)\n",
    "y_teste = y_teste.reshape(y_teste.shape[0], 1, 1)"
   ]
  },
  {
   "cell_type": "code",
   "execution_count": null,
   "id": "87433baa",
   "metadata": {
    "scrolled": true
   },
   "outputs": [],
   "source": [
    "x_treinamento.shape"
   ]
  },
  {
   "cell_type": "code",
   "execution_count": null,
   "id": "a1a91b9b",
   "metadata": {},
   "outputs": [],
   "source": [
    "x_treinamento"
   ]
  },
  {
   "cell_type": "markdown",
   "id": "e782bfa1",
   "metadata": {},
   "source": [
    "# Criando a rede neural."
   ]
  },
  {
   "cell_type": "code",
   "execution_count": null,
   "id": "f3c1c196",
   "metadata": {},
   "outputs": [],
   "source": [
    "inputs = keras.layers.Input(shape=(x_treinamento.shape[1], 1)) #1 \"X\" e 1 output pra esse X. \n",
    "x = keras.layers.LSTM(150, return_sequences= True)(inputs)\n",
    "x = keras.layers.LSTM(150, return_sequences=True)(x)\n",
    "x = keras.layers.LSTM(150, return_sequences=True)(x)\n",
    "outputs = keras.layers.Dense(1, activation='linear')(x)\n",
    "\n",
    "rede_neural = keras.Model(inputs=inputs, outputs=outputs)\n",
    "rede_neural.compile(optimizer='adam', loss=\"mse\")\n",
    "rede_neural.summary()"
   ]
  },
  {
   "cell_type": "code",
   "execution_count": null,
   "id": "489801a9",
   "metadata": {},
   "outputs": [],
   "source": [
    "rede_neural.fit(\n",
    "    x_treinamento, y_treinamento,\n",
    "    epochs = 2,\n",
    "    batch_size = 32,\n",
    "    validation_split = 0.2\n",
    ")"
   ]
  },
  {
   "cell_type": "code",
   "execution_count": null,
   "id": "61e9cc00",
   "metadata": {
    "scrolled": false
   },
   "outputs": [],
   "source": [
    "precos_preditos = rede_neural.predict(x_teste)"
   ]
  },
  {
   "cell_type": "code",
   "execution_count": null,
   "id": "a5f28fd3",
   "metadata": {},
   "outputs": [],
   "source": [
    "precos_preditos = precos_preditos.reshape(precos_preditos.shape[0], 1)\n",
    "x_treinamento = x_treinamento.reshape(x_treinamento.shape[0], 1)\n",
    "y_treinamento = y_treinamento.reshape(y_treinamento.shape[0], 1)\n",
    "x_teste = x_teste.reshape(x_teste.shape[0], 1)\n",
    "y_teste = y_teste.reshape(y_teste.shape[0], 1)"
   ]
  },
  {
   "cell_type": "code",
   "execution_count": null,
   "id": "5702a8c2",
   "metadata": {},
   "outputs": [],
   "source": [
    "dados_teste = np.concatenate((x_teste, y_teste),axis=1)\n",
    "dados_preditos = np.concatenate((x_teste, precos_preditos),axis=1)"
   ]
  },
  {
   "cell_type": "code",
   "execution_count": null,
   "id": "dce3ef0f",
   "metadata": {},
   "outputs": [],
   "source": [
    "#tirando escalas dos dados\n",
    "\n",
    "precos_teste_reais = escalador_teste.inverse_transform(dados_teste)\n",
    "precos_teste_preditos = escalador_teste.inverse_transform(dados_preditos)"
   ]
  },
  {
   "cell_type": "code",
   "execution_count": null,
   "id": "66a17400",
   "metadata": {},
   "outputs": [],
   "source": [
    "pd.DataFrame(precos_teste_preditos)"
   ]
  },
  {
   "cell_type": "code",
   "execution_count": null,
   "id": "4466f020",
   "metadata": {
    "scrolled": true
   },
   "outputs": [],
   "source": [
    "fig, ax = plt.subplots(figsize = (10, 4))\n",
    "\n",
    "ax.plot(datas.iloc[tamanho_dados_treinamento:], precos_teste_reais[:, 1], label = 'Real')\n",
    "ax.plot(datas.iloc[tamanho_dados_treinamento:], precos_teste_preditos[:, 1], label = 'Modelo')\n",
    "\n",
    "plt.legend()"
   ]
  },
  {
   "cell_type": "markdown",
   "id": "20fdecde",
   "metadata": {},
   "source": [
    "# Avaliando nossa rede neural."
   ]
  },
  {
   "cell_type": "code",
   "execution_count": null,
   "id": "613df3d8",
   "metadata": {},
   "outputs": [],
   "source": [
    "df = pd.DataFrame(precos_teste_preditos, index = datas.iloc[tamanho_dados_treinamento:])\n",
    "\n",
    "df.columns = ['preco', 'preco_predito_dia_seguinte']\n",
    "\n",
    "df['retorno'] = df['preco'].pct_change()\n",
    "\n",
    "df['comprado_vendido'] = pd.NA\n",
    "\n",
    "df.loc[df['preco_predito_dia_seguinte'] > df['preco'], 'comprado_vendido'] = 'comprado'\n",
    "df.loc[df['preco_predito_dia_seguinte'] < df['preco'], 'comprado_vendido'] = 'vendido'\n",
    "\n",
    "df['acertos'] = pd.NA\n",
    "\n",
    "df.loc[(df['comprado_vendido'] == 'comprado') & (df['retorno'] > 0), 'acertos'] = 1\n",
    "df.loc[(df['comprado_vendido'] == 'comprado') & (df['retorno'] < 0), 'acertos'] = 0\n",
    "df.loc[(df['comprado_vendido'] == 'vendido') & (df['retorno'] > 0), 'acertos'] = 0\n",
    "df.loc[(df['comprado_vendido'] == 'vendido') & (df['retorno'] < 0), 'acertos'] = 1\n",
    "df.loc[df['acertos'].isna(), 'acertos'] = 0\n",
    "\n",
    "df = df.dropna()\n",
    "\n",
    "df"
   ]
  },
  {
   "cell_type": "code",
   "execution_count": null,
   "id": "f574d374",
   "metadata": {},
   "outputs": [],
   "source": [
    "acertou_o_lado = df['acertos'].sum()/len(df)\n",
    "errou_o_lado = 1 - acertou_o_lado"
   ]
  },
  {
   "cell_type": "code",
   "execution_count": null,
   "id": "a2b30136",
   "metadata": {},
   "outputs": [],
   "source": [
    "df['retorno_absoluto'] = df['retorno'].abs()"
   ]
  },
  {
   "cell_type": "code",
   "execution_count": null,
   "id": "7e8b78a3",
   "metadata": {},
   "outputs": [],
   "source": [
    "media_lucros_e_perdas = df.groupby('acertos')['retorno_absoluto'].mean()\n",
    "\n",
    "media_lucros_e_perdas"
   ]
  },
  {
   "cell_type": "code",
   "execution_count": null,
   "id": "a952a559",
   "metadata": {},
   "outputs": [],
   "source": [
    "exp_mat_lucro = acertou_o_lado * media_lucros_e_perdas[1] - media_lucros_e_perdas[0] * errou_o_lado\n",
    "\n",
    "exp_mat_lucro * 100"
   ]
  },
  {
   "cell_type": "code",
   "execution_count": null,
   "id": "735aec76",
   "metadata": {
    "scrolled": true
   },
   "outputs": [],
   "source": [
    "df['retorno_modelo'] = pd.NA\n",
    "\n",
    "df.loc[df['acertos'] == True, 'retorno_modelo'] = df.loc[df['acertos'] == True]['retorno_absoluto']\n",
    "df.loc[df['acertos'] == False, 'retorno_modelo'] = df.loc[df['acertos'] == False]['retorno_absoluto'] * - 1\n",
    "\n",
    "df['retorno_acum_modelo'] = (1 + df['retorno_modelo']).cumprod() - 1\n",
    "df['retorno_acum_acao'] = (1 + df['retorno']).cumprod() - 1\n",
    "\n",
    "retornos = df[['retorno_acum_modelo', 'retorno_acum_acao']]\n",
    "\n",
    "retornos.plot() \n",
    "display(retornos)"
   ]
  },
  {
   "cell_type": "code",
   "execution_count": null,
   "id": "c5adec3b",
   "metadata": {},
   "outputs": [],
   "source": []
  },
  {
   "cell_type": "code",
   "execution_count": null,
   "id": "5da34c2f",
   "metadata": {},
   "outputs": [],
   "source": []
  },
  {
   "cell_type": "code",
   "execution_count": null,
   "id": "5b4ec5dd",
   "metadata": {},
   "outputs": [],
   "source": []
  },
  {
   "cell_type": "code",
   "execution_count": null,
   "id": "9359aa57",
   "metadata": {},
   "outputs": [],
   "source": []
  },
  {
   "cell_type": "code",
   "execution_count": null,
   "id": "7cfc3af6",
   "metadata": {},
   "outputs": [],
   "source": []
  }
 ],
 "metadata": {
  "kernelspec": {
   "display_name": "Python 3 (ipykernel)",
   "language": "python",
   "name": "python3"
  },
  "language_info": {
   "codemirror_mode": {
    "name": "ipython",
    "version": 3
   },
   "file_extension": ".py",
   "mimetype": "text/x-python",
   "name": "python",
   "nbconvert_exporter": "python",
   "pygments_lexer": "ipython3",
   "version": "3.11.3"
  }
 },
 "nbformat": 4,
 "nbformat_minor": 5
}

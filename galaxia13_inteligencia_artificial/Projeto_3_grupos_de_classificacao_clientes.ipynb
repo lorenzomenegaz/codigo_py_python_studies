{
 "cells": [
  {
   "cell_type": "markdown",
   "id": "ca525109",
   "metadata": {},
   "source": [
    "# Projeto 3 - Classificando clientes em grupos\n",
    "\n",
    "### Pegando dados"
   ]
  },
  {
   "cell_type": "code",
   "execution_count": null,
   "id": "2e876b93",
   "metadata": {},
   "outputs": [],
   "source": [
    "import pandas as pd\n",
    "import numpy as np\n",
    "import seaborn as sns\n",
    "import matplotlib.pyplot as plt\n",
    "from sklearn.preprocessing import StandardScaler, normalize\n",
    "from sklearn.cluster import KMeans\n",
    "from sklearn.decomposition import PCA"
   ]
  },
  {
   "cell_type": "markdown",
   "id": "804f1edd",
   "metadata": {},
   "source": [
    "## Colunas dos dados\n",
    "\n",
    "* CUSTID: Identificação do Titular do Cartão de Crédito\n",
    "* SALDO: Saldo restante na conta do cliente para efetuar compras\n",
    "* BALANCE_FREQUENCY: Com que frequência o Saldo é atualizado, pontuação entre 0 e 1 (1 = atualizado com frequência, 0 = não atualizado com frequência)\n",
    "* COMPRAS: Valor de compras feitas na conta\n",
    "* ONEOFFPURCHASES: Valor máximo de compra feito de uma só vez\n",
    "* INSTALLMENTS_PURCHASES: Valor da compra parcelada\n",
    "* CASH_ADVANCE: Dinheiro adiantado dado pelo usuário\n",
    "* PURCHASES_FREQUENCY: Com que frequência as Compras estão sendo feitas, pontue entre 0 e 1 (1 = compra frequentemente, 0 = não compra com frequência)\n",
    "* ONEOFF_PURCHASES_FREQUENCY: Com que frequência as compras acontecem de uma só vez (1 = comprado com frequência, 0 = não comprado com frequência)\n",
    "* PURCHASES_INSTALLMENTS_FREQUENCY: Com que frequência as compras parceladas estão sendo feitas (1 = feito com frequência, 0 = não feito com frequência)\n",
    "* CASH_ADVANCE_FREQUENCY: Com que frequência o dinheiro adiantado está sendo pago\n",
    "* CASH_ADVANCE_TRX: Quantidade de Transações feitas com \"Dinheiro Adiantado\"\n",
    "* PURCHASES_TRX: Número de transações de compra realizadas\n",
    "* CREDIT_LIMIT: Limite de Cartão de Crédito por usuário\n",
    "* PAGAMENTOS: Valor do pagamento feito pelo usuário\n",
    "* MINIMUM_PAYMENTS: Valor mínimo de pagamentos feitos pelo usuário\n",
    "* PRC_FULL_PAYMENT: Porcentagem do pagamento integral pago pelo usuário\n",
    "* TENURE: Posse do serviço de cartão de crédito para o usuário"
   ]
  },
  {
   "cell_type": "code",
   "execution_count": null,
   "id": "5c8b8637",
   "metadata": {},
   "outputs": [],
   "source": [
    "dados_clientes = pd.read_csv('dados_clientes.csv')"
   ]
  },
  {
   "cell_type": "code",
   "execution_count": null,
   "id": "7ca92c1c",
   "metadata": {},
   "outputs": [],
   "source": [
    "dados_clientes = dados_clientes.drop('CUST_ID', axis = 1) #vamos deixar nosso DF apenas com números"
   ]
  },
  {
   "cell_type": "code",
   "execution_count": null,
   "id": "1368bb73",
   "metadata": {},
   "outputs": [],
   "source": [
    "dados_clientes = dados_clientes.dropna()\n",
    "dados_clientes = dados_clientes.reset_index(drop = True)\n",
    "\n",
    "dados_clientes"
   ]
  },
  {
   "cell_type": "markdown",
   "id": "014747fa",
   "metadata": {},
   "source": [
    "# Achando número ótimos de grupos - Elbow Method na prática."
   ]
  },
  {
   "cell_type": "code",
   "execution_count": null,
   "id": "f363d7ee",
   "metadata": {},
   "outputs": [],
   "source": [
    "escalador = StandardScaler()\n",
    "dados_clientes_escalados = escalador.fit_transform(dados_clientes)\n",
    "\n",
    "dados_clientes_escalados"
   ]
  },
  {
   "cell_type": "code",
   "execution_count": null,
   "id": "36d00c0e",
   "metadata": {},
   "outputs": [],
   "source": [
    "dados_clientes_escalados.shape"
   ]
  },
  {
   "cell_type": "code",
   "execution_count": null,
   "id": "5643905b",
   "metadata": {},
   "outputs": [],
   "source": [
    "#Vamos aplicar o elbow antes de rodar de vez os grupos finais.\n",
    "\n",
    "lista_WCSS = []\n",
    "\n",
    "range_de_grupos = range(1, 50)\n",
    "\n",
    "for i in range_de_grupos:\n",
    "  kmeans = KMeans(n_clusters = i)\n",
    "  kmeans.fit(dados_clientes_escalados)\n",
    "  lista_WCSS.append(kmeans.inertia_) \n",
    "\n",
    "lista_WCSS"
   ]
  },
  {
   "cell_type": "code",
   "execution_count": null,
   "id": "08a4205f",
   "metadata": {},
   "outputs": [],
   "source": [
    "plt.plot(lista_WCSS)\n",
    "plt.title('Achando o número ótimo de clusters')\n",
    "plt.xlabel('Clusters')\n",
    "plt.ylabel('WCSS') \n",
    "plt.show()"
   ]
  },
  {
   "cell_type": "markdown",
   "id": "d0e23517",
   "metadata": {},
   "source": [
    "# Criando nossos grupos definitivos K-MEANS"
   ]
  },
  {
   "cell_type": "code",
   "execution_count": null,
   "id": "1bc82f91",
   "metadata": {},
   "outputs": [],
   "source": [
    "kmeans = KMeans(10)\n",
    "kmeans.fit(dados_clientes_escalados)\n",
    "grupos = kmeans.labels_\n",
    "\n",
    "grupos"
   ]
  },
  {
   "cell_type": "code",
   "execution_count": null,
   "id": "3d913664",
   "metadata": {},
   "outputs": [],
   "source": [
    "centro_dos_dados_por_cluster = kmeans.cluster_centers_\n",
    "centro_dos_dados_por_cluster = escalador.inverse_transform(centro_dos_dados_por_cluster)"
   ]
  },
  {
   "cell_type": "code",
   "execution_count": null,
   "id": "e018d85b",
   "metadata": {},
   "outputs": [],
   "source": [
    "centro_dos_dados_por_cluster = pd.DataFrame(data = centro_dos_dados_por_cluster, columns = [dados_clientes.columns])\n",
    "centro_dos_dados_por_cluster  "
   ]
  },
  {
   "cell_type": "markdown",
   "id": "6fa3bb30",
   "metadata": {},
   "source": [
    "### Juntando os grupos no df original"
   ]
  },
  {
   "cell_type": "code",
   "execution_count": null,
   "id": "588afc7e",
   "metadata": {},
   "outputs": [],
   "source": [
    "dados_clientes_com_grupos = pd.concat([dados_clientes, pd.DataFrame({'grupo':grupos})], axis = 1)\n",
    "dados_clientes_com_grupos"
   ]
  },
  {
   "cell_type": "code",
   "execution_count": null,
   "id": "d4d0959c",
   "metadata": {
    "scrolled": false
   },
   "outputs": [],
   "source": [
    "#visualizando dados por cluster\n",
    "\n",
    "for i in dados_clientes_com_grupos.columns:\n",
    "  plt.figure(figsize = (35, 5))\n",
    "  for j in range(10):\n",
    "    plt.subplot(1,10,j+1)\n",
    "    grupo = dados_clientes_com_grupos[dados_clientes_com_grupos['grupo'] == j]\n",
    "    grupo[i].hist(bins = 20)\n",
    "    plt.title(f'{i}    \\nGrupo {j} ')\n",
    "  \n",
    "  plt.show()"
   ]
  },
  {
   "cell_type": "markdown",
   "id": "97fdec58",
   "metadata": {},
   "source": [
    "# Usando o PCA para verificar se o K-MEANS fez um bom trabalho"
   ]
  },
  {
   "cell_type": "code",
   "execution_count": null,
   "id": "29f02ed4",
   "metadata": {},
   "outputs": [],
   "source": [
    "pca = PCA(n_components=2)\n",
    "dados_clientes_pca = pca.fit_transform(dados_clientes_escalados)\n",
    "dados_clientes_pca"
   ]
  },
  {
   "cell_type": "code",
   "execution_count": null,
   "id": "22714784",
   "metadata": {},
   "outputs": [],
   "source": [
    "pca_df = pd.DataFrame(data = dados_clientes_pca, columns =['pca1','pca2'])\n",
    "pca_df"
   ]
  },
  {
   "cell_type": "code",
   "execution_count": null,
   "id": "4e0229e1",
   "metadata": {
    "scrolled": true
   },
   "outputs": [],
   "source": [
    "pca_df = pd.concat([pca_df,pd.DataFrame({'grupo':grupos})], axis = 1)\n",
    "pca_df"
   ]
  },
  {
   "cell_type": "code",
   "execution_count": null,
   "id": "9d0b6fbc",
   "metadata": {},
   "outputs": [],
   "source": [
    "plt.figure(figsize=(8,8))\n",
    "ax = sns.scatterplot(x=\"pca1\", y=\"pca2\", hue = \"grupo\", \n",
    "                     data = pca_df, palette =['red','green','blue','pink','yellow',\n",
    "                                              'gray','purple', 'black', 'orange', 'navy'])\n",
    "plt.show()"
   ]
  },
  {
   "cell_type": "code",
   "execution_count": null,
   "id": "9c18cffa",
   "metadata": {},
   "outputs": [],
   "source": []
  },
  {
   "cell_type": "code",
   "execution_count": null,
   "id": "8f8e272a",
   "metadata": {},
   "outputs": [],
   "source": []
  },
  {
   "cell_type": "code",
   "execution_count": null,
   "id": "156896f4",
   "metadata": {},
   "outputs": [],
   "source": []
  }
 ],
 "metadata": {
  "kernelspec": {
   "display_name": "Python 3 (ipykernel)",
   "language": "python",
   "name": "python3"
  },
  "language_info": {
   "codemirror_mode": {
    "name": "ipython",
    "version": 3
   },
   "file_extension": ".py",
   "mimetype": "text/x-python",
   "name": "python",
   "nbconvert_exporter": "python",
   "pygments_lexer": "ipython3",
   "version": "3.11.3"
  }
 },
 "nbformat": 4,
 "nbformat_minor": 5
}

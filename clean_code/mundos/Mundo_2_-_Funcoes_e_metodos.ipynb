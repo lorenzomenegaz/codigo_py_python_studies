{
 "cells": [
  {
   "cell_type": "markdown",
   "id": "56563ce3",
   "metadata": {},
   "source": [
    "# Boas práticas para funções e métodos\n",
    "\n",
    "* Uma função deve fazer uma única coisa e de preferência ter um único argumento.\n",
    "* Escrever função é uma arte. Elas não devem ser nem longas demais nem simples demais.\n",
    "* Um método não deve ter características ocultas e deve ter UMA funcionalidade"
   ]
  },
  {
   "cell_type": "code",
   "execution_count": 1,
   "id": "61efc320",
   "metadata": {},
   "outputs": [],
   "source": [
    "import pandas as pd\n",
    "import numpy as np"
   ]
  },
  {
   "cell_type": "code",
   "execution_count": 7,
   "id": "74d0f1ac",
   "metadata": {},
   "outputs": [],
   "source": [
    "def analisador_de_lucros(vetor):\n",
    "    \n",
    "    soma_lucros = vetor.sum()\n",
    "    media_lucros = vetor.mean()\n",
    "    maior_lucro = vetor.max()\n",
    "    \n",
    "    df_lucro_analisado = pd.DataFrame({\"Maior lucro\": maior_lucro,\n",
    "                                      \"Soma total\": soma_lucros,\n",
    "                                      \"Media do período\": media_lucros}, index = [0])\n",
    "\n",
    "    \n",
    "    print(df_lucro_analisado)\n",
    "    \n",
    "    \n",
    "    #df_lucro_analisado.to_sql('lucros_analisados', conexao, index=False, if_exists='append')"
   ]
  },
  {
   "cell_type": "code",
   "execution_count": 8,
   "id": "11ad9b81",
   "metadata": {},
   "outputs": [
    {
     "name": "stdout",
     "output_type": "stream",
     "text": [
      "   Maior lucro  Soma total  Media do período\n",
      "0          600        1550             387.5\n"
     ]
    }
   ],
   "source": [
    "lucros_weg_no_ano = np.array([200, 300, 450, 600])\n",
    "\n",
    "analisador_de_lucros(lucros_weg_no_ano)"
   ]
  },
  {
   "cell_type": "code",
   "execution_count": 13,
   "id": "7d49e0f0",
   "metadata": {},
   "outputs": [],
   "source": [
    "class conexao_banco:\n",
    "    \n",
    "    def __init__(self, user, senha):\n",
    "        \n",
    "        self.user = user\n",
    "        self.senha = senha\n",
    "        \n",
    "    def iniciar_conexao(self):\n",
    "        \n",
    "        self.conexao_banco = self.user + self.senha\n",
    "        \n",
    "       # teste_leitura = pd.read_sql('''SELECT * FROM PRICE''', con = conexao)\n",
    "        "
   ]
  },
  {
   "cell_type": "code",
   "execution_count": 14,
   "id": "2ef20e19",
   "metadata": {},
   "outputs": [],
   "source": [
    "#conecta no banco de dados e puxa as datas disponíveis \n",
    "\n",
    "\n",
    "MySQL = conexao_banco(user = \"Aluno\", senha = \"CodigoPy\")\n",
    "\n",
    "MySQL.iniciar_conexao()"
   ]
  },
  {
   "cell_type": "code",
   "execution_count": 15,
   "id": "d3100a10",
   "metadata": {},
   "outputs": [
    {
     "data": {
      "text/plain": [
       "'AlunoCodigoPy'"
      ]
     },
     "execution_count": 15,
     "metadata": {},
     "output_type": "execute_result"
    }
   ],
   "source": [
    "MySQL.conexao_banco"
   ]
  },
  {
   "cell_type": "markdown",
   "id": "eea5ceba",
   "metadata": {},
   "source": [
    "# Boas práticas de Classes\n",
    "\n",
    "* Métodos/atributos/funções dependentes devem estar próximos.\n",
    "* Classes devem ser pequenas e devem representar um único objeto.\n",
    "* As classes seguem princípios parecidos com as funções."
   ]
  },
  {
   "cell_type": "code",
   "execution_count": null,
   "id": "44a44bf3",
   "metadata": {},
   "outputs": [],
   "source": [
    "class lucro_liquido:\n",
    "    \n",
    "    def __init__(self, empresa, nome_e_local_planilha_com_informacoes):\n",
    "        \n",
    "        self.empresa = empresa\n",
    "        self.nome_e_local_planilha_com_informacoes = nome_e_local_planilha_com_informacoes\n",
    "\n",
    "    def atualizar_banco_de_dados_com_o_lucro(self):\n",
    "\n",
    "        dados_lucros = self.lendo_planilha()\n",
    "        dados_lucros = self.tratando_dados(dados_lucros)\n",
    "        self.colocando_lucro_na_base(dados_lucros)\n",
    "        \n",
    "    def lendo_planilha(self):\n",
    "        \n",
    "        dados_lucros = pd.read_csv(nome_e_local_planilha_com_informacoes)\n",
    "        \n",
    "        return dados_lucros\n",
    "    \n",
    "    def tratando_dados(dados_lucros, nome_empresa):\n",
    "        \n",
    "        dados_lucros = dados_lucros[nome_empresa].str.replace(\"R$\", \"\")\n",
    "        dados_lucros = dados_lucros.astype(float)\n",
    "        \n",
    "    def colocando_lucro_na_base(dados_lucros):\n",
    "        \n",
    "        dados_lucros.to_sql('lucros', conexao, index=False, if_exists='append')\n",
    "        \n",
    "    def somar_lucro(self, dados_lucros, nome_empresa):\n",
    "        \n",
    "        soma_lucro = dados_lucros[nome_empresa].sum()\n",
    "        \n",
    "        return soma_lucro\n",
    "        "
   ]
  }
 ],
 "metadata": {
  "kernelspec": {
   "display_name": "Python 3 (ipykernel)",
   "language": "python",
   "name": "python3"
  },
  "language_info": {
   "codemirror_mode": {
    "name": "ipython",
    "version": 3
   },
   "file_extension": ".py",
   "mimetype": "text/x-python",
   "name": "python",
   "nbconvert_exporter": "python",
   "pygments_lexer": "ipython3",
   "version": "3.9.12"
  }
 },
 "nbformat": 4,
 "nbformat_minor": 5
}

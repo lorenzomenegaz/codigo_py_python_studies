{
 "cells": [
  {
   "cell_type": "markdown",
   "id": "b3b61bab",
   "metadata": {},
   "source": [
    "# Sempre assuma que a 1º versão do seu código é um lixo\n",
    "\n",
    "* Crie a cultura de manutenção de códigos e refatoração dos mesmos, sempre deixando melhor. A primeira versão de qualquer coisa que você escreve é uma merda. \n",
    "* Não se cobre criar um código de 1º que siga todas as regras de código limpo. Isso é utopia. Por isso é importante refatorar.\n",
    "* Caso você programe um programa porco e mal escrito, eventualmente o tempo de manutenção e correção de bugs tomará 90% do seu tempo, até se tornar insustentável e você ter qu começar do zero. Muitas vezes isso não é possível e o modelo de negócios entra em colapso (imagina começar um sistema de implementação de estratégias do zero de uma asset?)\n",
    "* Use e abuse de tratamento de erros caso esteja construindo um sistema."
   ]
  },
  {
   "cell_type": "markdown",
   "id": "6a941cc9",
   "metadata": {},
   "source": [
    "# Mantenha as coisas simples!! O mais idiota possível. \n",
    "\n",
    "Sempre crie um código que qualquer idiota consiga utilizar pois em algum momento um idiota irá utilizá-lo."
   ]
  },
  {
   "cell_type": "markdown",
   "id": "93d8701e",
   "metadata": {},
   "source": [
    "# Livro que é a bíblia do código limpo:\n",
    "\n",
    "https://www.amazon.com.br/C%C3%B3digo-limpo-Robert-C-Martin/dp/8576082675/ref=asc_df_8576082675/?tag=googleshopp00-20&linkCode=df0&hvadid=379792215563&hvpos=&hvnetw=g&hvrand=13444447882340809174&hvpone=&hvptwo=&hvqmt=&hvdev=c&hvdvcmdl=&hvlocint=&hvlocphy=1001650&hvtargid=pla-398225630878&psc=1\n",
    "\n",
    "Eu já resumi grande parte do livro nessa galáxia, então seria algo supérfulo.\n",
    "\n",
    "Fora que o livro é escrito originalmentem em JavaScript, embora as boas práticas possam ser utilizadas no Python."
   ]
  }
 ],
 "metadata": {
  "kernelspec": {
   "display_name": "Python 3 (ipykernel)",
   "language": "python",
   "name": "python3"
  },
  "language_info": {
   "codemirror_mode": {
    "name": "ipython",
    "version": 3
   },
   "file_extension": ".py",
   "mimetype": "text/x-python",
   "name": "python",
   "nbconvert_exporter": "python",
   "pygments_lexer": "ipython3",
   "version": "3.9.12"
  }
 },
 "nbformat": 4,
 "nbformat_minor": 5
}

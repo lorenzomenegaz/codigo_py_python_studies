{
 "cells": [
  {
   "cell_type": "markdown",
   "id": "027b9a63",
   "metadata": {},
   "source": [
    "# Mundo 12 - PDF no Python\n",
    "\n",
    "https://pyfpdf.readthedocs.io/en/latest/reference/FPDF/index.html"
   ]
  },
  {
   "cell_type": "code",
   "execution_count": null,
   "id": "83684ed6",
   "metadata": {},
   "outputs": [],
   "source": [
    "from fpdf import FPDF\n",
    "import random\n",
    "import warnings\n",
    "warnings.filterwarnings(\"ignore\", category=DeprecationWarning) "
   ]
  },
  {
   "cell_type": "markdown",
   "id": "b526af63",
   "metadata": {},
   "source": [
    "# O PDF dentro do Python é um objeto. O fpdf fornece um objeto base e, a partir disso, você constrói um relatório."
   ]
  },
  {
   "cell_type": "code",
   "execution_count": null,
   "id": "8648e423",
   "metadata": {},
   "outputs": [],
   "source": [
    "pdf = FPDF(\"P\", \"mm\", \"Letter\")\n",
    "\n",
    "pdf.add_page()\n",
    "pdf.set_font('Arial', 'B', 14)\n",
    "\n",
    "\n",
    "pdf.cell(0, 50, 'teste', ln = True,  border = True, \n",
    "         fill = False, align = \"C\") \n",
    "\n",
    "pdf.cell(10, 10, 'teste2', border = True)\n",
    "#o alinhamento é do texto\n",
    "\n",
    "#o tamanho \"0\" serve como coringa de largura e altura. \n",
    "\n",
    "\n",
    "pdf.output('mundo12.pdf')\n"
   ]
  },
  {
   "cell_type": "markdown",
   "id": "d86c0f2b",
   "metadata": {},
   "source": [
    "* Aqui nós vamos trabalhar o conceito de herança nas classes. Nós vamos criar uma nova classe, ou objeto, chamado PDF, que herda todas as características do FPDF e cria alguns padrão próprios de cabeçalho e margem.  \n",
    "\n",
    "* Todos os números estão em milímetros.\n",
    "\n",
    "\n",
    "### Nomes importantes\n",
    "\n",
    "* Draw color - Cor das linhas.\n",
    "* Fill color - Prenchimento da célula\n",
    "* Cell - Célula no PDF, igual ao jupyter notebook."
   ]
  },
  {
   "cell_type": "code",
   "execution_count": null,
   "id": "3fd5c7c1",
   "metadata": {},
   "outputs": [],
   "source": [
    "class PDF(FPDF):\n",
    "    \n",
    "    def header(self):\n",
    "        \n",
    "        self.image('logo.png', 10, 8, 40) #x, y, tamanho\n",
    "        self.set_font('Arial', 'B', 20)\n",
    "        self.ln(15) #espaço entre a logo e o cabeçalho \n",
    "        self.set_draw_color(35, 155, 132) #cor RGB. 0, 0, 0 é preto\n",
    "        self.cell(25, ln = False, border = False) #sem isso aqui a margem acaba.\n",
    "        self.cell(150, 15, f\"Relatório de mercado 01/04/2023\", \n",
    "                  border = True, ln = True, align = \"C\")\n",
    "        self.ln(5)\n",
    "        \n",
    "    def footer(self):\n",
    "        \n",
    "        self.set_y(-15) #espaço ate o final da folha\n",
    "        self.set_font('Arial', 'I', 10)\n",
    "        self.cell(0, 10, f\"{self.page_no()}/{{nb}}\", align = \"C\")"
   ]
  },
  {
   "cell_type": "code",
   "execution_count": null,
   "id": "a6a14bf7",
   "metadata": {},
   "outputs": [],
   "source": [
    "#Definindo config básicas do PDF\n",
    "\n",
    "pdf = PDF(\"P\", \"mm\", \"Letter\")\n",
    "pdf.alias_nb_pages()\n",
    "pdf.set_auto_page_break(auto = True, margin = 15)\n",
    "pdf.set_fill_color(255, 255, 255)\n",
    "pdf.set_draw_color(35, 155, 132)\n",
    "pdf.add_page()\n",
    "\n",
    "#pdf.output('mundo12.pdf')"
   ]
  },
  {
   "cell_type": "code",
   "execution_count": null,
   "id": "d6b61d68",
   "metadata": {},
   "outputs": [],
   "source": [
    "pdf.image('nave1.png', x = 115, y = 70, w = 75, h = 33, link = 'https://varos.com.br/codigopy')\n",
    "pdf.set_font('Arial', 'B', 18)\n",
    "pdf.cell(0, 10, \"1 - Ações e câmbio\", ln = True,  border = False, fill = False)\n",
    "pdf.ln(2)\n",
    "\n",
    "pdf.set_font('Arial', '', 14)\n",
    "pdf.cell(0, 15, \"1.1 Fechamento do mercado\", ln = True,  border = False, fill = True)\n",
    "\n",
    "pdf.ln(7)\n",
    "\n",
    "#pdf.output('mundo12.pdf')"
   ]
  },
  {
   "cell_type": "code",
   "execution_count": null,
   "id": "86971e90",
   "metadata": {},
   "outputs": [],
   "source": [
    "#fechamento ibov\n",
    "pdf.set_font('Arial', '', 13)\n",
    "pdf.cell(25, 15, \" Ibovespa\", ln = False,  border = True, fill = True)\n",
    "pdf.cell(20, 15, f\" 1.95%\", ln = True, border = True, fill = False)\n",
    "         \n",
    "#fechamento s&p500\n",
    "pdf.cell(25, 15, \" S&P500\", ln = False,  border = True, fill = True)\n",
    "pdf.cell(20, 15, f\" -0.65%\", ln = True,  border = True, fill = False)\n",
    "\n",
    "#fechamento Dólar\n",
    "pdf.cell(25, 15, \" Dólar\", ln = False,  border = True, fill = True)\n",
    "pdf.cell(20, 15, f\" 2.11%\", ln = True,  border = True, fill = False)\n",
    "\n",
    "pdf.ln(7)\n",
    "\n",
    "#pdf.output('mundo12.pdf')"
   ]
  },
  {
   "cell_type": "code",
   "execution_count": null,
   "id": "9171b3da",
   "metadata": {},
   "outputs": [],
   "source": [
    "#imagens\n",
    "pdf.set_font('Arial', '', 14)\n",
    "pdf.cell(0, 15, \"   1.2 Gráficos Ibovespa, S&P500 e Dólar\", ln = True,  border = False, fill = False)\n",
    "\n",
    "pdf.cell(95, 15, \"Ibovespa\", ln = False,  border = False, fill = False, align = \"C\")\n",
    "pdf.cell(100, 15, \"S&P500\", ln = True,  border = False, fill = False, align = \"C\")\n",
    "pdf.image(\"ibov.png\", w = 80, h = 70, x = 20, y = 160)\n",
    "pdf.image(\"sp.png\", w = 80, h = 70, x = 115, y = 160)\n",
    "\n",
    "pdf.ln(130)\n",
    "\n",
    "pdf.cell(0, 15, \"Dólar\", ln = True,  border = False, fill = False, align = \"C\")\n",
    "pdf.image(\"dolar.png\", w = 100, h = 75, x = 58)\n",
    "\n",
    "\n",
    "pdf.ln(2)\n",
    "\n",
    "#pdf.output('mundo12.pdf')"
   ]
  },
  {
   "cell_type": "code",
   "execution_count": null,
   "id": "38cfec53",
   "metadata": {},
   "outputs": [],
   "source": [
    "meses = ['Jan', 'Fev', 'Mar', 'Abr', 'Mai', 'Jun', 'Jul', 'Ago', 'Set', 'Out', 'Nov', 'Dez']"
   ]
  },
  {
   "cell_type": "code",
   "execution_count": null,
   "id": "3157406e",
   "metadata": {},
   "outputs": [],
   "source": [
    "pdf.set_font('Arial', '', 14)\n",
    "pdf.cell(0, 15, \"   1.3 Rentabilidade mês a mês\", ln = True,  border = False, fill = False)\n",
    "\n",
    "\n",
    "#escrevendo os meses\n",
    "pdf.cell(20, 10, \"\", ln = False,  border = False, fill = True, align = \"C\")\n",
    "pdf.set_font('Arial', 'B', 12)\n",
    "\n",
    "for mes in meses:\n",
    "    \n",
    "    pdf.cell(15, 10, mes, ln = False,  border = True, fill = True, align = \"C\")\n",
    "\n",
    "\n",
    "pdf.ln(10)\n",
    "\n",
    "#pdf.output('mundo12.pdf')"
   ]
  },
  {
   "cell_type": "code",
   "execution_count": null,
   "id": "23bad266",
   "metadata": {},
   "outputs": [],
   "source": [
    "pdf.set_font('Arial', '', 12)\n",
    "\n",
    "pdf.cell(20, 10, \"Ibov\", ln = False,  border = True, fill = True, align = \"C\")\n",
    "\n",
    "for mes in meses:\n",
    "    \n",
    "    pdf.cell(15, 10, f\" {round(random.random(), 2)}%\", ln = False,  border = True, align = \"C\")\n",
    "\n",
    "pdf.ln(10)\n",
    "\n",
    "pdf.cell(20, 10, \"S&P500\", ln = False,  border = True, fill = True, align = \"C\")\n",
    "\n",
    "for mes in meses:\n",
    "    \n",
    "    pdf.cell(15, 10, f\" {round(random.random(), 2)}%\", ln = False,  border = True, align = \"C\")\n",
    "\n",
    "pdf.ln(10)\n",
    "\n",
    "pdf.cell(20, 10, \"Dólar\", ln = False,  border = True, fill = True, align = \"C\")\n",
    "\n",
    "for mes in meses:\n",
    "    \n",
    "    pdf.cell(15, 10, f\" {round(random.random(), 2)}%\", ln = False,  border = True, align = \"C\")\n",
    "\n",
    "pdf.ln(10)\n",
    "\n",
    "#pdf.output('mundo12.pdf')"
   ]
  },
  {
   "cell_type": "code",
   "execution_count": null,
   "id": "e96af193",
   "metadata": {},
   "outputs": [],
   "source": [
    "#rent anual\n",
    "pdf.set_font('Arial', '', 14)\n",
    "pdf.cell(0, 15, \"   1.4 Rentabilidade no ano\", ln = True,  border = False, fill = False)\n",
    "\n",
    "#rent anual ibov\n",
    "pdf.set_font('Arial', '', 13)\n",
    "pdf.cell(25, 10, \"Ibovespa\", ln = False,  border = True, fill = True, align = \"C\")\n",
    "pdf.cell(20, 10, f\" 20.25%\", ln = True,  border = True, align = \"C\")\n",
    "\n",
    "#rent anual S&P\n",
    "pdf.cell(25, 10, \"S&P500\", ln = False,  border = True, fill = True, align = \"C\")\n",
    "pdf.cell(20, 10, f\" -15.65%\", ln = True,  border = True, align = \"C\")\n",
    "\n",
    "#rent anual Dólar\n",
    "pdf.cell(25, 10, \"Dólar\", ln = False,  border = True, fill = True, align = \"C\")\n",
    "pdf.cell(20, 10, f\" 10.14%\", ln = True,  border = True, align = \"C\")\n",
    "\n",
    "\n",
    "pdf.ln(20)\n",
    "\n",
    "\n",
    "#pdf.output('mundo12.pdf')"
   ]
  },
  {
   "cell_type": "code",
   "execution_count": null,
   "id": "89cdf89f",
   "metadata": {},
   "outputs": [],
   "source": [
    "#volatilidade\n",
    "pdf.set_font('Arial', '', 14)\n",
    "pdf.cell(0, 15, \"   1.5 Volatilidade 12M\", ln = True,  border = False, fill = False)\n",
    "\n",
    "#vol ibov\n",
    "pdf.set_font('Arial', '', 13)\n",
    "pdf.cell(25, 10, \"Ibovespa\", ln = False,  border = True, fill = True, align = \"C\")\n",
    "pdf.cell(20, 10, f\" 25%\", ln = True,  border = True, align = \"C\")\n",
    "\n",
    "#vol s&p500\n",
    "pdf.cell(25, 10, \"S&P500\", ln = False,  border = True, fill = True, align = \"C\")\n",
    "pdf.cell(20, 10, f\" 30%\", ln = True,  border = True, align = \"C\")\n",
    "\n",
    "#vol dolar\n",
    "pdf.cell(25, 10, \"Dólar\", ln = False,  border = True, fill = True, align = \"C\")\n",
    "pdf.cell(20, 10, f\" 10%\", ln = True,  border = True, align = \"C\")\n",
    "\n",
    "pdf.image('nave2.png', x = 115, y = 45, w = 70, h = 70, type = '', link = '')\n",
    "\n",
    "pdf.ln(7)\n",
    "\n",
    "#pdf.output('mundo12.pdf')"
   ]
  },
  {
   "cell_type": "code",
   "execution_count": null,
   "id": "20a7f3ad",
   "metadata": {},
   "outputs": [],
   "source": [
    "pdf.set_font('Arial', 'B', 18)\n",
    "pdf.cell(0, 15, \"2 - Dados econômicos\", ln = True,  border = False, fill = False)\n",
    "\n",
    "pdf.set_font('Arial', '', 14)\n",
    "pdf.cell(0, 15, \"2.1 Curva de juros\", ln = True,  border = False, fill = False)\n",
    "pdf.image(\"juros.png\", w = 125, h = 100, x = 40, y = 140)\n",
    "\n",
    "pdf.ln(135)\n",
    "\n",
    "pdf.cell(0, 15, \"2.2 Inflacão\", ln = True,  border = False, fill = False)\n",
    "pdf.image(\"inflacao.png\", w = 110, h = 90, x = 40)\n",
    "\n",
    "\n",
    "pdf.cell(0, 15, \"2.3 Selic\", ln = True,  border = False, fill = False)\n",
    "pdf.image(\"selic.png\", w = 110, h = 90, x = 40)\n",
    "\n",
    "pdf.output('mundo12.pdf')"
   ]
  },
  {
   "cell_type": "code",
   "execution_count": null,
   "id": "c2138f23",
   "metadata": {},
   "outputs": [],
   "source": []
  },
  {
   "cell_type": "code",
   "execution_count": null,
   "id": "c55f0417",
   "metadata": {},
   "outputs": [],
   "source": []
  },
  {
   "cell_type": "code",
   "execution_count": null,
   "id": "a51ba8cb",
   "metadata": {},
   "outputs": [],
   "source": []
  },
  {
   "cell_type": "code",
   "execution_count": null,
   "id": "120bbbbe",
   "metadata": {},
   "outputs": [],
   "source": []
  },
  {
   "cell_type": "code",
   "execution_count": null,
   "id": "d612eab7",
   "metadata": {},
   "outputs": [],
   "source": []
  }
 ],
 "metadata": {
  "kernelspec": {
   "display_name": "Python 3 (ipykernel)",
   "language": "python",
   "name": "python3"
  },
  "language_info": {
   "codemirror_mode": {
    "name": "ipython",
    "version": 3
   },
   "file_extension": ".py",
   "mimetype": "text/x-python",
   "name": "python",
   "nbconvert_exporter": "python",
   "pygments_lexer": "ipython3",
   "version": "3.9.12"
  }
 },
 "nbformat": 4,
 "nbformat_minor": 5
}

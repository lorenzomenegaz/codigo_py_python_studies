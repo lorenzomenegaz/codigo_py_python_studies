{
 "cells": [
  {
   "cell_type": "markdown",
   "id": "c47d9bc3",
   "metadata": {},
   "source": [
    "# Mundo 14 - Nuvem de palavras de release"
   ]
  },
  {
   "cell_type": "code",
   "execution_count": null,
   "id": "a9ddbc6b",
   "metadata": {},
   "outputs": [],
   "source": [
    "!pip install pypdf"
   ]
  },
  {
   "cell_type": "code",
   "execution_count": null,
   "id": "8dc5f52d",
   "metadata": {},
   "outputs": [],
   "source": [
    "!pip install wordcloud"
   ]
  },
  {
   "cell_type": "code",
   "execution_count": null,
   "id": "d6d27f1d",
   "metadata": {},
   "outputs": [],
   "source": [
    "from pypdf import PdfReader\n",
    "from wordcloud import WordCloud, STOPWORDS, ImageColorGenerator\n",
    "import matplotlib.pyplot as plt"
   ]
  },
  {
   "cell_type": "code",
   "execution_count": null,
   "id": "d33d02a4",
   "metadata": {},
   "outputs": [],
   "source": [
    "reader = PdfReader(\"weg.pdf\")\n",
    "text = \"\"\n",
    "for page in reader.pages:\n",
    "    text += page.extract_text()"
   ]
  },
  {
   "cell_type": "code",
   "execution_count": null,
   "id": "62d1328b",
   "metadata": {},
   "outputs": [],
   "source": [
    "conectivos = set(STOPWORDS)\n",
    "conectivos.update([\"da\", \"meu\", \"em\", \"e\", \"você\", \"de\", \"ao\", \"os\", 'na', 'o', '4T21', 'para', 'milhões',\n",
    "                  'resultado', 'que', 'nas', 'dos', \"n\", \"p\", \"4T22\", \"foi\", 'ano', 'Klabin', '3T22', 'resultados',\n",
    "                  'trimestre', 'weg'])\n",
    "\n"
   ]
  },
  {
   "cell_type": "code",
   "execution_count": null,
   "id": "b7169a45",
   "metadata": {},
   "outputs": [],
   "source": [
    "nuvem_palavras = WordCloud(stopwords = conectivos, background_color = 'black', \n",
    "                           width = 1920, height = 1080).generate(text)"
   ]
  },
  {
   "cell_type": "code",
   "execution_count": null,
   "id": "2d2e96c0",
   "metadata": {},
   "outputs": [],
   "source": [
    "fig, ax = plt.subplots()\n",
    "\n",
    "ax.imshow(nuvem_palavras)\n",
    "ax.set_axis_off()"
   ]
  },
  {
   "cell_type": "code",
   "execution_count": null,
   "id": "35739d3c",
   "metadata": {},
   "outputs": [],
   "source": []
  }
 ],
 "metadata": {
  "kernelspec": {
   "display_name": "Python 3 (ipykernel)",
   "language": "python",
   "name": "python3"
  },
  "language_info": {
   "codemirror_mode": {
    "name": "ipython",
    "version": 3
   },
   "file_extension": ".py",
   "mimetype": "text/x-python",
   "name": "python",
   "nbconvert_exporter": "python",
   "pygments_lexer": "ipython3",
   "version": "3.9.12"
  }
 },
 "nbformat": 4,
 "nbformat_minor": 5
}

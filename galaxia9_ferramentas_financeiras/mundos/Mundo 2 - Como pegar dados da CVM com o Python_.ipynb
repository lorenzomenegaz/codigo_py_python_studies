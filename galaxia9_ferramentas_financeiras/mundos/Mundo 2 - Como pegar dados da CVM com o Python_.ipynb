{
 "cells": [
  {
   "cell_type": "markdown",
   "id": "364d83a2",
   "metadata": {},
   "source": [
    "# Puxando dados fundamentalistas da CVM"
   ]
  },
  {
   "cell_type": "code",
   "execution_count": null,
   "id": "3823bdad",
   "metadata": {},
   "outputs": [],
   "source": [
    "import pandas as pd\n",
    "import requests\n",
    "import os\n",
    "import zipfile"
   ]
  },
  {
   "cell_type": "code",
   "execution_count": null,
   "id": "1d3b39e7",
   "metadata": {},
   "outputs": [],
   "source": [
    "anos = range(2010, 2023)\n",
    "\n",
    "url_base = f'http://dados.cvm.gov.br/dados/CIA_ABERTA/DOC/'\n",
    "\n",
    "os.chdir(r'C:\\Users\\lsiqu\\dev\\github\\codigos_curso\\Galáxia_9_ferramentas_fin\\dados_cvm')"
   ]
  },
  {
   "cell_type": "code",
   "execution_count": null,
   "id": "5a0e8210",
   "metadata": {},
   "outputs": [],
   "source": [
    "for ano in anos:\n",
    "        \n",
    "    download = requests.get(url_base + f'DFP/DADOS/dfp_cia_aberta_{ano}.zip')\n",
    "\n",
    "    open(f\"dfp_cia_aberta_{ano}.zip\", \"wb\").write(download.content)"
   ]
  },
  {
   "cell_type": "code",
   "execution_count": null,
   "id": "5cc970af",
   "metadata": {},
   "outputs": [],
   "source": [
    "lista_demonstracoes_2010_2022 = []"
   ]
  },
  {
   "cell_type": "code",
   "execution_count": null,
   "id": "763a9cfe",
   "metadata": {},
   "outputs": [],
   "source": [
    "diretorio_atual = os.getcwd()\n",
    "\n",
    "for arquivo in os.listdir(diretorio_atual):\n",
    "\n",
    "    arquivo_zip = zipfile.ZipFile(arquivo)\n",
    "           \n",
    "    tipo = \"dfp\"\n",
    "        \n",
    "    ano = arquivo[-8: -4]\n",
    "    \n",
    "    for planilha in arquivo_zip.namelist():\n",
    "        \n",
    "        if planilha != f\"{tipo}_cia_aberta_{ano}.csv\":\n",
    "                   \n",
    "            demonstracao = pd.read_csv(arquivo_zip.open(planilha), sep = \";\", \n",
    "                                       decimal = \",\", encoding = 'ISO-8859-1', chunksize=1000)\n",
    "\n",
    "            demonstracao = pd.concat(demonstracao, ignore_index=True)\n",
    "\n",
    "            demonstracao[\"tipo_doc\"] = len(demonstracao) * [tipo]\n",
    "            \n",
    "            lista_demonstracoes_2010_2022.append(demonstracao)"
   ]
  },
  {
   "cell_type": "code",
   "execution_count": null,
   "id": "f6a421d3",
   "metadata": {},
   "outputs": [],
   "source": [
    "base_dados = pd.concat(lista_demonstracoes_2010_2022)\n",
    "\n",
    "base_dados"
   ]
  },
  {
   "cell_type": "code",
   "execution_count": null,
   "id": "26d9168d",
   "metadata": {},
   "outputs": [],
   "source": [
    "base_dados[[\"con_ind\", \"tipo_dem\"]] = base_dados['GRUPO_DFP'].str.split(\"-\", expand = True)\n",
    "\n",
    "base_dados[\"tipo_dem\"] = base_dados[\"tipo_dem\"].str.strip()\n",
    "base_dados[\"con_ind\"] = base_dados[\"con_ind\"].str.strip()\n",
    "base_dados[\"con_ind\"] = base_dados[\"con_ind\"].astype(str)\n",
    "\n",
    "base_dados"
   ]
  },
  {
   "cell_type": "code",
   "execution_count": null,
   "id": "59d37275",
   "metadata": {},
   "outputs": [],
   "source": [
    "base_dados = base_dados.loc[:, ~base_dados.columns.isin(['ST_CONTA_FIXA', 'COLUNA_DF', 'GRUPO_DFP'])]"
   ]
  },
  {
   "cell_type": "code",
   "execution_count": null,
   "id": "9e388dab",
   "metadata": {},
   "outputs": [],
   "source": [
    "base_dados = base_dados[base_dados[\"ORDEM_EXERC\"] != \"PENÚLTIMO\"]"
   ]
  },
  {
   "cell_type": "code",
   "execution_count": null,
   "id": "9fff8ad8",
   "metadata": {},
   "outputs": [],
   "source": [
    "#usar o ctrl F \n",
    "\n",
    "lista_dem = base_dados['tipo_dem'].unique()\n",
    "\n",
    "lista_dem"
   ]
  },
  {
   "cell_type": "code",
   "execution_count": null,
   "id": "fd25e84a",
   "metadata": {},
   "outputs": [],
   "source": [
    "#usar o ctrl F \n",
    "\n",
    "lista_empresas = base_dados['DENOM_CIA'].unique()\n",
    "\n",
    "lista_empresas"
   ]
  },
  {
   "cell_type": "code",
   "execution_count": null,
   "id": "c22df4a7",
   "metadata": {},
   "outputs": [],
   "source": [
    "weg_dre = base_dados[(base_dados[\"DENOM_CIA\"] == \"WEG S.A.\") & \n",
    "                     (base_dados[\"tipo_dem\"] == \"Demonstração do Resultado\") &\n",
    "                    (base_dados[\"tipo_doc\"] == \"dfp\") & \n",
    "                    (base_dados[\"DS_CONTA\"] == \"Receita de Venda de Bens e/ou Serviços\") & \n",
    "                    (base_dados[\"con_ind\"] == \"DF Consolidado\")] \n",
    "                                                         \n",
    "\n",
    "weg_dre"
   ]
  },
  {
   "cell_type": "code",
   "execution_count": null,
   "id": "7623647c",
   "metadata": {},
   "outputs": [],
   "source": []
  },
  {
   "cell_type": "code",
   "execution_count": null,
   "id": "37dc76c4",
   "metadata": {},
   "outputs": [],
   "source": []
  },
  {
   "cell_type": "code",
   "execution_count": null,
   "id": "8e4339df",
   "metadata": {},
   "outputs": [],
   "source": []
  },
  {
   "cell_type": "code",
   "execution_count": null,
   "id": "264dcc31",
   "metadata": {},
   "outputs": [],
   "source": []
  },
  {
   "cell_type": "code",
   "execution_count": null,
   "id": "d64dabc5",
   "metadata": {},
   "outputs": [],
   "source": []
  },
  {
   "cell_type": "code",
   "execution_count": null,
   "id": "1acf8cb0",
   "metadata": {},
   "outputs": [],
   "source": []
  },
  {
   "cell_type": "code",
   "execution_count": null,
   "id": "514f605c",
   "metadata": {},
   "outputs": [],
   "source": []
  },
  {
   "cell_type": "code",
   "execution_count": null,
   "id": "6f038d83",
   "metadata": {},
   "outputs": [],
   "source": []
  },
  {
   "cell_type": "code",
   "execution_count": null,
   "id": "bff47f00",
   "metadata": {},
   "outputs": [],
   "source": []
  },
  {
   "cell_type": "code",
   "execution_count": null,
   "id": "8975a442",
   "metadata": {},
   "outputs": [],
   "source": []
  },
  {
   "cell_type": "code",
   "execution_count": null,
   "id": "a71bb998",
   "metadata": {},
   "outputs": [],
   "source": []
  },
  {
   "cell_type": "code",
   "execution_count": null,
   "id": "efdbcd2f",
   "metadata": {},
   "outputs": [],
   "source": []
  },
  {
   "cell_type": "code",
   "execution_count": null,
   "id": "2b6a2371",
   "metadata": {},
   "outputs": [],
   "source": []
  }
 ],
 "metadata": {
  "kernelspec": {
   "display_name": "Python 3 (ipykernel)",
   "language": "python",
   "name": "python3"
  },
  "language_info": {
   "codemirror_mode": {
    "name": "ipython",
    "version": 3
   },
   "file_extension": ".py",
   "mimetype": "text/x-python",
   "name": "python",
   "nbconvert_exporter": "python",
   "pygments_lexer": "ipython3",
   "version": "3.9.12"
  }
 },
 "nbformat": 4,
 "nbformat_minor": 5
}

{
 "cells": [
  {
   "cell_type": "markdown",
   "id": "ba17572b",
   "metadata": {},
   "source": [
    "# Cofigurando o e-mail\n",
    "\n",
    "* Tem que ter a verificação de 2 fatores ativada.\n",
    "\n",
    "https://myaccount.google.com/apppasswords"
   ]
  },
  {
   "cell_type": "code",
   "execution_count": null,
   "id": "92257a2a",
   "metadata": {},
   "outputs": [],
   "source": [
    "import os\n",
    "import smtplib\n",
    "from email.message import EmailMessage\n",
    "from dotenv import load_dotenv"
   ]
  },
  {
   "cell_type": "code",
   "execution_count": null,
   "id": "bdb42f33",
   "metadata": {
    "scrolled": true
   },
   "outputs": [],
   "source": [
    "load_dotenv() "
   ]
  },
  {
   "cell_type": "code",
   "execution_count": null,
   "id": "13f0b8a3",
   "metadata": {},
   "outputs": [],
   "source": [
    "email = \"seu_email@gmail.com\""
   ]
  },
  {
   "cell_type": "code",
   "execution_count": null,
   "id": "0ea76d07",
   "metadata": {},
   "outputs": [],
   "source": [
    "senha_do_email = os.environ.get(\"senha_email\")"
   ]
  },
  {
   "cell_type": "code",
   "execution_count": null,
   "id": "00d73b62",
   "metadata": {},
   "outputs": [],
   "source": [
    "emails = ['brenno@varos.com.br', \"outroemail@hotmail.com\"]"
   ]
  },
  {
   "cell_type": "code",
   "execution_count": null,
   "id": "ed26482c",
   "metadata": {},
   "outputs": [],
   "source": [
    "msg = EmailMessage()\n",
    "msg['Subject']  = 'Enviando e-mail com Python'\n",
    "msg['From'] = 'brenno@varos.com.br'\n",
    "msg['To'] = \", \".join(emails)\n",
    "msg.set_content('''Segue o relatório diário''')"
   ]
  },
  {
   "cell_type": "code",
   "execution_count": null,
   "id": "b4bd776a",
   "metadata": {},
   "outputs": [],
   "source": [
    "with open('dolar.png', 'rb') as content_file:\n",
    "    content = content_file.read()\n",
    "    msg.add_attachment(content, maintype='application', subtype='png', filename='dolar.png')"
   ]
  },
  {
   "cell_type": "code",
   "execution_count": null,
   "id": "bad3959f",
   "metadata": {},
   "outputs": [],
   "source": [
    "with open('relatorio_diario.pdf', 'rb') as content_file:\n",
    "    content = content_file.read()\n",
    "    msg.add_attachment(content, maintype='application', subtype='pdf', filename='relatorio_diario.pdf')"
   ]
  },
  {
   "cell_type": "code",
   "execution_count": null,
   "id": "37cdc02c",
   "metadata": {},
   "outputs": [],
   "source": [
    "with smtplib.SMTP_SSL('smtp.gmail.com', 465) as smtp:\n",
    "    \n",
    "    smtp.login(email, senha_do_email)\n",
    "    smtp.send_message(msg)"
   ]
  },
  {
   "cell_type": "code",
   "execution_count": null,
   "id": "dd0c9dff",
   "metadata": {},
   "outputs": [],
   "source": []
  },
  {
   "cell_type": "code",
   "execution_count": null,
   "id": "ae090b0c",
   "metadata": {},
   "outputs": [],
   "source": []
  }
 ],
 "metadata": {
  "kernelspec": {
   "display_name": "Python 3 (ipykernel)",
   "language": "python",
   "name": "python3"
  },
  "language_info": {
   "codemirror_mode": {
    "name": "ipython",
    "version": 3
   },
   "file_extension": ".py",
   "mimetype": "text/x-python",
   "name": "python",
   "nbconvert_exporter": "python",
   "pygments_lexer": "ipython3",
   "version": "3.9.12"
  }
 },
 "nbformat": 4,
 "nbformat_minor": 5
}

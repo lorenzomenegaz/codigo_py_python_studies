{
 "cells": [
  {
   "cell_type": "markdown",
   "id": "619b38cc",
   "metadata": {},
   "source": [
    "# Mundo 15 - Análise de sentimento de um texto com Python + CHATGPT"
   ]
  },
  {
   "cell_type": "code",
   "execution_count": null,
   "id": "ca77d18e",
   "metadata": {},
   "outputs": [],
   "source": [
    "from textblob import TextBlob\n",
    "import requests\n",
    "import json\n",
    "from pprint import pprint\n",
    "from selenium import webdriver\n",
    "from selenium.webdriver.chrome.service import Service\n",
    "from webdriver_manager.chrome import ChromeDriverManager\n",
    "from bs4 import BeautifulSoup\n",
    "import time\n",
    "from dotenv import load_dotenv\n",
    "import os"
   ]
  },
  {
   "cell_type": "code",
   "execution_count": null,
   "id": "a2bb043e",
   "metadata": {},
   "outputs": [],
   "source": [
    "driver = webdriver.Chrome(service=Service(ChromeDriverManager().install())) "
   ]
  },
  {
   "cell_type": "code",
   "execution_count": null,
   "id": "0bc84456",
   "metadata": {},
   "outputs": [],
   "source": [
    "driver.get(f'https://ge.globo.com/futebol/times/flamengo/noticia/2023/04/20/jogadores-do-flamengo-se-empolgam-com-inicio-de-sampaoli-veja-depoimentos.ghtml')"
   ]
  },
  {
   "cell_type": "code",
   "execution_count": null,
   "id": "bcf7b5c9",
   "metadata": {},
   "outputs": [],
   "source": [
    "driver.get('https://ge.globo.com/futebol/times/flamengo/noticia/2023/04/06/roger-critica-vitor-pereira-acha-que-o-torcedor-do-flamengo-nao-entende-nada-e-cego-ou-e-bobo.ghtml')"
   ]
  },
  {
   "cell_type": "code",
   "execution_count": null,
   "id": "ee933281",
   "metadata": {},
   "outputs": [],
   "source": [
    "conteudo_ata = driver.find_element(\"xpath\", '/html') \n",
    "\n",
    "html_ata = conteudo_ata.get_attribute('outerHTML')\n",
    "\n",
    "#driver.quit()\n",
    "\n",
    "soup = BeautifulSoup(html_ata, 'html.parser')\n",
    "\n",
    "paragrafos = soup.find_all(\"p\", class_ = 'content-text__container') \n",
    "\n",
    "paragrafos"
   ]
  },
  {
   "cell_type": "code",
   "execution_count": null,
   "id": "e56f657b",
   "metadata": {},
   "outputs": [],
   "source": [
    "paragrafos[1].text"
   ]
  },
  {
   "cell_type": "code",
   "execution_count": null,
   "id": "1db0f5ab",
   "metadata": {},
   "outputs": [],
   "source": [
    "load_dotenv() "
   ]
  },
  {
   "cell_type": "code",
   "execution_count": null,
   "id": "dfd2eb62",
   "metadata": {},
   "outputs": [],
   "source": [
    "token = os.environ.get(\"openai_token\")"
   ]
  },
  {
   "cell_type": "code",
   "execution_count": null,
   "id": "a78c8f3e",
   "metadata": {},
   "outputs": [],
   "source": [
    "headers = {'Authorization': token,\n",
    "          'Content-Type': 'application/json'}"
   ]
  },
  {
   "cell_type": "code",
   "execution_count": null,
   "id": "c3e1d9b6",
   "metadata": {
    "scrolled": true
   },
   "outputs": [],
   "source": [
    "response = requests.get('https://api.openai.com/v1/models', headers = headers)\n",
    "\n",
    "pprint(response.json())"
   ]
  },
  {
   "cell_type": "code",
   "execution_count": null,
   "id": "03ae07e8",
   "metadata": {},
   "outputs": [],
   "source": [
    "id_modelo = 'gpt-3.5-turbo'\n",
    "\n",
    "texto_traduzido = []"
   ]
  },
  {
   "cell_type": "code",
   "execution_count": null,
   "id": "cc84a212",
   "metadata": {},
   "outputs": [],
   "source": [
    "for texto in paragrafos:\n",
    "    \n",
    "    mensagem_gpt = {'model': id_modelo,\n",
    "                   'messages': [{'role': 'user',\n",
    "                                'content': \"Traduza o seguinte texto para o inglês, me retornando APENAS a tradução:\" + texto.text}]}\n",
    "\n",
    "\n",
    "    json_mensagem = json.dumps(mensagem_gpt)\n",
    "    \n",
    "    \n",
    "    response = requests.post('https://api.openai.com/v1/chat/completions', \n",
    "                                    headers = headers, data = json_mensagem)\n",
    "    \n",
    "    texto_traduzido.append(response)\n",
    "    \n",
    "    time.sleep(15)"
   ]
  },
  {
   "cell_type": "code",
   "execution_count": null,
   "id": "1018a778",
   "metadata": {},
   "outputs": [],
   "source": [
    "texto_final = ''\n",
    "\n",
    "for texto in texto_traduzido:\n",
    "    \n",
    "    if texto.status_code == 200:\n",
    "        \n",
    "        parte_traduzida = texto.json()['choices'][0]['message']['content']\n",
    "\n",
    "        texto_final += parte_traduzida\n",
    "\n",
    "\n",
    "texto_final"
   ]
  },
  {
   "cell_type": "code",
   "execution_count": null,
   "id": "4056e95b",
   "metadata": {},
   "outputs": [],
   "source": [
    "blob = TextBlob(texto_final)"
   ]
  },
  {
   "cell_type": "code",
   "execution_count": null,
   "id": "01bd5641",
   "metadata": {},
   "outputs": [],
   "source": [
    "sentimento = blob.sentiment.polarity #espectro de -1 a 1"
   ]
  },
  {
   "cell_type": "code",
   "execution_count": null,
   "id": "87d8fa7c",
   "metadata": {},
   "outputs": [],
   "source": [
    "sentimento"
   ]
  },
  {
   "cell_type": "code",
   "execution_count": null,
   "id": "03475f61",
   "metadata": {},
   "outputs": [],
   "source": [
    "0.37185425685425694"
   ]
  },
  {
   "cell_type": "code",
   "execution_count": null,
   "id": "018295d7",
   "metadata": {},
   "outputs": [],
   "source": []
  },
  {
   "cell_type": "code",
   "execution_count": null,
   "id": "626e9b74",
   "metadata": {},
   "outputs": [],
   "source": []
  },
  {
   "cell_type": "code",
   "execution_count": null,
   "id": "6858a620",
   "metadata": {},
   "outputs": [],
   "source": []
  }
 ],
 "metadata": {
  "kernelspec": {
   "display_name": "Python 3 (ipykernel)",
   "language": "python",
   "name": "python3"
  },
  "language_info": {
   "codemirror_mode": {
    "name": "ipython",
    "version": 3
   },
   "file_extension": ".py",
   "mimetype": "text/x-python",
   "name": "python",
   "nbconvert_exporter": "python",
   "pygments_lexer": "ipython3",
   "version": "3.9.12"
  }
 },
 "nbformat": 4,
 "nbformat_minor": 5
}

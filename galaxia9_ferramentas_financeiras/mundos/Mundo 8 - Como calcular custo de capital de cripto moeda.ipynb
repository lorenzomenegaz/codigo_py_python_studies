{
 "cells": [
  {
   "cell_type": "markdown",
   "id": "1bae0d0e",
   "metadata": {},
   "source": [
    "# Custo de capital Criptomoeda"
   ]
  },
  {
   "cell_type": "code",
   "execution_count": null,
   "id": "cf3d3131",
   "metadata": {},
   "outputs": [],
   "source": [
    "pip install cryptocmd"
   ]
  },
  {
   "cell_type": "code",
   "execution_count": null,
   "id": "faa0f98f",
   "metadata": {},
   "outputs": [],
   "source": [
    "import pandas as pd\n",
    "import numpy as np\n",
    "import yfinance as yf\n",
    "from cryptocmd import CmcScraper\n",
    "import statsmodels.api as sm"
   ]
  },
  {
   "cell_type": "code",
   "execution_count": null,
   "id": "f801fc86",
   "metadata": {},
   "outputs": [],
   "source": [
    "scraper = CmcScraper(\"BTC\")\n",
    "df = scraper.get_dataframe()\n",
    "df = df.set_index(\"Date\")\n",
    "\n",
    "df"
   ]
  },
  {
   "cell_type": "code",
   "execution_count": null,
   "id": "4402984e",
   "metadata": {},
   "outputs": [],
   "source": [
    "tbond10 =  yf.download('IEF', \"2017-01-01\", \"2023-04-23\")['Adj Close']\n",
    "tbond10 = tbond10.resample(\"Y\").last().pct_change().dropna()\n",
    "tbond10"
   ]
  },
  {
   "cell_type": "code",
   "execution_count": null,
   "id": "802326c9",
   "metadata": {},
   "outputs": [],
   "source": [
    "df_bitcoin_anual = df.resample(\"Y\").last().pct_change().dropna()\n",
    "df_bitcoin_anual = df_bitcoin_anual['Close']\n",
    "df_bitcoin_anual = df_bitcoin_anual.loc[df_bitcoin_anual.index > \"2017-12-31\"]\n",
    "df_bitcoin_anual"
   ]
  },
  {
   "cell_type": "code",
   "execution_count": 25,
   "id": "59c1392d",
   "metadata": {},
   "outputs": [
    {
     "data": {
      "text/plain": [
       "0.6330906997913449"
      ]
     },
     "execution_count": 25,
     "metadata": {},
     "output_type": "execute_result"
    }
   ],
   "source": [
    "premio_risco = df_bitcoin_anual - tbond10\n",
    "premio_risco.mean()"
   ]
  },
  {
   "cell_type": "code",
   "execution_count": 36,
   "id": "d5d23b4e",
   "metadata": {},
   "outputs": [
    {
     "data": {
      "text/plain": [
       "0.6091869065036786"
      ]
     },
     "execution_count": 36,
     "metadata": {},
     "output_type": "execute_result"
    }
   ],
   "source": [
    "retorno_esperado = tbond10.loc['2023-12-31'] + 0.96 * (premio_risco.mean() - tbond10.loc['2023-12-31'])\n",
    "\n",
    "retorno_esperado"
   ]
  },
  {
   "cell_type": "code",
   "execution_count": 32,
   "id": "37c9eedf",
   "metadata": {},
   "outputs": [
    {
     "data": {
      "text/html": [
       "<div>\n",
       "<style scoped>\n",
       "    .dataframe tbody tr th:only-of-type {\n",
       "        vertical-align: middle;\n",
       "    }\n",
       "\n",
       "    .dataframe tbody tr th {\n",
       "        vertical-align: top;\n",
       "    }\n",
       "\n",
       "    .dataframe thead th {\n",
       "        text-align: right;\n",
       "    }\n",
       "</style>\n",
       "<table border=\"1\" class=\"dataframe\">\n",
       "  <thead>\n",
       "    <tr style=\"text-align: right;\">\n",
       "      <th></th>\n",
       "      <th>Open</th>\n",
       "      <th>High</th>\n",
       "      <th>Low</th>\n",
       "      <th>Close</th>\n",
       "      <th>Volume</th>\n",
       "      <th>Market Cap</th>\n",
       "    </tr>\n",
       "    <tr>\n",
       "      <th>Date</th>\n",
       "      <th></th>\n",
       "      <th></th>\n",
       "      <th></th>\n",
       "      <th></th>\n",
       "      <th></th>\n",
       "      <th></th>\n",
       "    </tr>\n",
       "  </thead>\n",
       "  <tbody>\n",
       "    <tr>\n",
       "      <th>2023-04-23</th>\n",
       "      <td>1874.171514</td>\n",
       "      <td>1882.229693</td>\n",
       "      <td>1838.992406</td>\n",
       "      <td>1862.062057</td>\n",
       "      <td>6.607452e+09</td>\n",
       "      <td>2.242149e+11</td>\n",
       "    </tr>\n",
       "    <tr>\n",
       "      <th>2023-04-22</th>\n",
       "      <td>1849.286491</td>\n",
       "      <td>1886.781674</td>\n",
       "      <td>1845.849253</td>\n",
       "      <td>1874.228581</td>\n",
       "      <td>6.970643e+09</td>\n",
       "      <td>2.256837e+11</td>\n",
       "    </tr>\n",
       "    <tr>\n",
       "      <th>2023-04-21</th>\n",
       "      <td>1943.409924</td>\n",
       "      <td>1955.649121</td>\n",
       "      <td>1827.788994</td>\n",
       "      <td>1849.999846</td>\n",
       "      <td>1.204427e+10</td>\n",
       "      <td>2.227705e+11</td>\n",
       "    </tr>\n",
       "    <tr>\n",
       "      <th>2023-04-20</th>\n",
       "      <td>1936.417908</td>\n",
       "      <td>1979.573337</td>\n",
       "      <td>1918.132765</td>\n",
       "      <td>1943.097670</td>\n",
       "      <td>1.132414e+10</td>\n",
       "      <td>2.340051e+11</td>\n",
       "    </tr>\n",
       "    <tr>\n",
       "      <th>2023-04-19</th>\n",
       "      <td>2103.946363</td>\n",
       "      <td>2104.857273</td>\n",
       "      <td>1928.582892</td>\n",
       "      <td>1936.403465</td>\n",
       "      <td>1.377975e+10</td>\n",
       "      <td>2.310982e+11</td>\n",
       "    </tr>\n",
       "    <tr>\n",
       "      <th>...</th>\n",
       "      <td>...</td>\n",
       "      <td>...</td>\n",
       "      <td>...</td>\n",
       "      <td>...</td>\n",
       "      <td>...</td>\n",
       "      <td>...</td>\n",
       "    </tr>\n",
       "    <tr>\n",
       "      <th>2015-08-11</th>\n",
       "      <td>0.708087</td>\n",
       "      <td>1.131410</td>\n",
       "      <td>0.663235</td>\n",
       "      <td>1.067860</td>\n",
       "      <td>1.463100e+06</td>\n",
       "      <td>6.456929e+07</td>\n",
       "    </tr>\n",
       "    <tr>\n",
       "      <th>2015-08-10</th>\n",
       "      <td>0.713989</td>\n",
       "      <td>0.729854</td>\n",
       "      <td>0.636546</td>\n",
       "      <td>0.708448</td>\n",
       "      <td>4.052830e+05</td>\n",
       "      <td>4.281836e+07</td>\n",
       "    </tr>\n",
       "    <tr>\n",
       "      <th>2015-08-09</th>\n",
       "      <td>0.706136</td>\n",
       "      <td>0.879810</td>\n",
       "      <td>0.629191</td>\n",
       "      <td>0.701897</td>\n",
       "      <td>5.321700e+05</td>\n",
       "      <td>4.239957e+07</td>\n",
       "    </tr>\n",
       "    <tr>\n",
       "      <th>2015-08-08</th>\n",
       "      <td>2.793760</td>\n",
       "      <td>2.798810</td>\n",
       "      <td>0.714725</td>\n",
       "      <td>0.753325</td>\n",
       "      <td>6.741880e+05</td>\n",
       "      <td>4.548689e+07</td>\n",
       "    </tr>\n",
       "    <tr>\n",
       "      <th>2015-08-07</th>\n",
       "      <td>2.831620</td>\n",
       "      <td>3.536610</td>\n",
       "      <td>2.521120</td>\n",
       "      <td>2.772120</td>\n",
       "      <td>1.643290e+05</td>\n",
       "      <td>1.666106e+08</td>\n",
       "    </tr>\n",
       "  </tbody>\n",
       "</table>\n",
       "<p>2817 rows × 6 columns</p>\n",
       "</div>"
      ],
      "text/plain": [
       "                   Open         High          Low        Close        Volume  \\\n",
       "Date                                                                           \n",
       "2023-04-23  1874.171514  1882.229693  1838.992406  1862.062057  6.607452e+09   \n",
       "2023-04-22  1849.286491  1886.781674  1845.849253  1874.228581  6.970643e+09   \n",
       "2023-04-21  1943.409924  1955.649121  1827.788994  1849.999846  1.204427e+10   \n",
       "2023-04-20  1936.417908  1979.573337  1918.132765  1943.097670  1.132414e+10   \n",
       "2023-04-19  2103.946363  2104.857273  1928.582892  1936.403465  1.377975e+10   \n",
       "...                 ...          ...          ...          ...           ...   \n",
       "2015-08-11     0.708087     1.131410     0.663235     1.067860  1.463100e+06   \n",
       "2015-08-10     0.713989     0.729854     0.636546     0.708448  4.052830e+05   \n",
       "2015-08-09     0.706136     0.879810     0.629191     0.701897  5.321700e+05   \n",
       "2015-08-08     2.793760     2.798810     0.714725     0.753325  6.741880e+05   \n",
       "2015-08-07     2.831620     3.536610     2.521120     2.772120  1.643290e+05   \n",
       "\n",
       "              Market Cap  \n",
       "Date                      \n",
       "2023-04-23  2.242149e+11  \n",
       "2023-04-22  2.256837e+11  \n",
       "2023-04-21  2.227705e+11  \n",
       "2023-04-20  2.340051e+11  \n",
       "2023-04-19  2.310982e+11  \n",
       "...                  ...  \n",
       "2015-08-11  6.456929e+07  \n",
       "2015-08-10  4.281836e+07  \n",
       "2015-08-09  4.239957e+07  \n",
       "2015-08-08  4.548689e+07  \n",
       "2015-08-07  1.666106e+08  \n",
       "\n",
       "[2817 rows x 6 columns]"
      ]
     },
     "execution_count": 32,
     "metadata": {},
     "output_type": "execute_result"
    }
   ],
   "source": [
    "scraper = CmcScraper(\"ETH\")\n",
    "df_eth = scraper.get_dataframe()\n",
    "df_eth = df_eth.set_index(\"Date\")\n",
    "\n",
    "df_eth"
   ]
  },
  {
   "cell_type": "code",
   "execution_count": 33,
   "id": "d1b1b424",
   "metadata": {},
   "outputs": [],
   "source": [
    "df_btc = df.loc[df.index >= \"2015-08-07\"]\n",
    "df_eth = df_eth[df_eth.index >= \"2015-08-07\"]"
   ]
  },
  {
   "cell_type": "code",
   "execution_count": 34,
   "id": "ce36f2a9",
   "metadata": {},
   "outputs": [],
   "source": [
    "retornos_eth = df_eth['Close'].pct_change().dropna()\n",
    "retornos_btc = df_btc['Close'].pct_change().dropna()"
   ]
  },
  {
   "cell_type": "code",
   "execution_count": 35,
   "id": "0c5c21af",
   "metadata": {},
   "outputs": [
    {
     "name": "stdout",
     "output_type": "stream",
     "text": [
      "0.9633912889522324\n",
      "0.23964926224468353\n"
     ]
    }
   ],
   "source": [
    "X = retornos_btc\n",
    "Y = retornos_eth\n",
    "X = sm.add_constant(X)\n",
    "model = sm.OLS(Y, X).fit()\n",
    "\n",
    "print(model.params[1])\n",
    "print(model.rsquared)"
   ]
  },
  {
   "cell_type": "code",
   "execution_count": null,
   "id": "609d219a",
   "metadata": {},
   "outputs": [],
   "source": []
  },
  {
   "cell_type": "code",
   "execution_count": null,
   "id": "3d43381e",
   "metadata": {},
   "outputs": [],
   "source": []
  },
  {
   "cell_type": "code",
   "execution_count": null,
   "id": "7e8847d6",
   "metadata": {},
   "outputs": [],
   "source": []
  },
  {
   "cell_type": "code",
   "execution_count": null,
   "id": "5fd05f92",
   "metadata": {},
   "outputs": [],
   "source": []
  }
 ],
 "metadata": {
  "kernelspec": {
   "display_name": "Python 3 (ipykernel)",
   "language": "python",
   "name": "python3"
  },
  "language_info": {
   "codemirror_mode": {
    "name": "ipython",
    "version": 3
   },
   "file_extension": ".py",
   "mimetype": "text/x-python",
   "name": "python",
   "nbconvert_exporter": "python",
   "pygments_lexer": "ipython3",
   "version": "3.9.12"
  }
 },
 "nbformat": 4,
 "nbformat_minor": 5
}

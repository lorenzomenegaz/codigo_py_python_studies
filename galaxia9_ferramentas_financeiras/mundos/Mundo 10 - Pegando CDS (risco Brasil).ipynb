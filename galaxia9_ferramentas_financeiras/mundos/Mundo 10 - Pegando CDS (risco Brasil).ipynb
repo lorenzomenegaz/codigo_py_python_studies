{
 "cells": [
  {
   "cell_type": "markdown",
   "id": "c49273a1",
   "metadata": {},
   "source": [
    "# Mundo 10 - Pegando dados de CDS do investing.com"
   ]
  },
  {
   "cell_type": "code",
   "execution_count": null,
   "id": "2b7c8f46",
   "metadata": {},
   "outputs": [],
   "source": [
    "from urllib.request import Request, urlopen\n",
    "from bs4 import BeautifulSoup\n",
    "import pandas as pd"
   ]
  },
  {
   "cell_type": "code",
   "execution_count": null,
   "id": "79cf5dfe",
   "metadata": {},
   "outputs": [],
   "source": [
    "lista_cds = ['cds-1-year', 'cds-2-years', 'cds-3-years', \n",
    "             'cds-4-years', 'cds-5-years', 'cds-7-years', 'cds-10-years']"
   ]
  },
  {
   "cell_type": "code",
   "execution_count": null,
   "id": "28360dc0",
   "metadata": {},
   "outputs": [],
   "source": [
    "headers = {'user-agent': 'Mozilla/5.0 (X11; Linux x86_64) AppleWebKit/537.36 (KHTML, like Gecko) Chrome/106.0.0.0 Safari/537.36'}"
   ]
  },
  {
   "cell_type": "code",
   "execution_count": null,
   "id": "bf4cedae",
   "metadata": {
    "scrolled": false
   },
   "outputs": [],
   "source": [
    "lista_dfs = []\n",
    "\n",
    "for ano_cds in lista_cds:\n",
    "\n",
    "            url = f'https://br.investing.com/rates-bonds/brazil-{ano_cds}-usd-historical-data'\n",
    "\n",
    "            req = Request(url, headers=headers)\n",
    "            page = urlopen(req) \n",
    "            #isso aqui é uma forma de abrir o navegador como se fosse o selenium mas mais otimizado\n",
    "            soup = BeautifulSoup(page, features='lxml')\n",
    "            \n",
    "            table = soup.find_all(\"table\")[1]\n",
    "\n",
    "            df_cds = pd.read_html(str(table))[0][['Último', 'Data']]\n",
    "            df_cds = df_cds.set_index(\"Data\")\n",
    "            df_cds.index = pd.to_datetime(df_cds.index, format = \"%d.%m.%Y\")\n",
    "            \n",
    "            df_cds.columns = [ano_cds]\n",
    "            \n",
    "            lista_dfs.append(df_cds)\n",
    "            \n",
    "            \n",
    "base_cds = pd.concat(lista_dfs, axis = 1)\n",
    "\n",
    "base_cds"
   ]
  },
  {
   "cell_type": "code",
   "execution_count": null,
   "id": "52d1997d",
   "metadata": {},
   "outputs": [],
   "source": []
  }
 ],
 "metadata": {
  "kernelspec": {
   "display_name": "Python 3 (ipykernel)",
   "language": "python",
   "name": "python3"
  },
  "language_info": {
   "codemirror_mode": {
    "name": "ipython",
    "version": 3
   },
   "file_extension": ".py",
   "mimetype": "text/x-python",
   "name": "python",
   "nbconvert_exporter": "python",
   "pygments_lexer": "ipython3",
   "version": "3.9.12"
  }
 },
 "nbformat": 4,
 "nbformat_minor": 5
}

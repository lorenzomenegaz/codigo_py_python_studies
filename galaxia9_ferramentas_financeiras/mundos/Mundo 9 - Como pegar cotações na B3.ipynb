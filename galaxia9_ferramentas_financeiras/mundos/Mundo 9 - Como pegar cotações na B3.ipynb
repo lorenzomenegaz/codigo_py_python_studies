{
 "cells": [
  {
   "cell_type": "markdown",
   "id": "2283a082",
   "metadata": {},
   "source": [
    "# Mundo 9 - Cotações B3\n",
    "\n",
    "## Séries históricas disponíveis em\n",
    "http://www.b3.com.br/pt_br/market-data-e-indices/servicos-de-dados/market-data/historico/mercado-a-vista/series-historicas/"
   ]
  },
  {
   "cell_type": "code",
   "execution_count": null,
   "id": "c62b7b57",
   "metadata": {},
   "outputs": [],
   "source": [
    "import pandas as pd"
   ]
  },
  {
   "cell_type": "code",
   "execution_count": null,
   "id": "d4038f89",
   "metadata": {},
   "outputs": [],
   "source": [
    "arquivo_bovespa = 'COTAHIST_A2022.TXT'"
   ]
  },
  {
   "cell_type": "markdown",
   "id": "73aea066",
   "metadata": {},
   "source": [
    "\n",
    "## Estrutura do arquivo disponível em \n",
    "\n",
    "http://www.b3.com.br/data/files/33/67/B9/50/D84057102C784E47AC094EA8/SeriesHistoricas_Layout.pdf"
   ]
  },
  {
   "cell_type": "code",
   "execution_count": null,
   "id": "e351e23a",
   "metadata": {},
   "outputs": [],
   "source": [
    "tamanho_campos = [2,8,2,12,3,12,10,3,4,13,13,13,13,13,13,13,5,18,18,13,1,8,7,13,12,3]\n",
    "\n",
    "dados_acoes = pd.read_fwf(arquivo_bovespa, widths=tamanho_campos, header=0)"
   ]
  },
  {
   "cell_type": "code",
   "execution_count": null,
   "id": "1ae66760",
   "metadata": {},
   "outputs": [],
   "source": [
    "dados_acoes"
   ]
  },
  {
   "cell_type": "code",
   "execution_count": null,
   "id": "1bfec7e5",
   "metadata": {},
   "outputs": [],
   "source": [
    "## Nomear as colunas\n",
    "\n",
    "dados_acoes.columns = [\n",
    "\"tipo_registro\",\n",
    "\"data_pregao\",\n",
    "\"cod_bdi\",\n",
    "\"cod_negociacao\",\n",
    "\"tipo_mercado\",\n",
    "\"noma_empresa\",\n",
    "\"especificacao_papel\",\n",
    "\"prazo_dias_merc_termo\",\n",
    "\"moeda_referencia\",\n",
    "\"preco_abertura\",\n",
    "\"preco_maximo\",\n",
    "\"preco_minimo\",\n",
    "\"preco_medio\",\n",
    "\"preco_ultimo_negocio\",\n",
    "\"preco_melhor_oferta_compra\",\n",
    "\"preco_melhor_oferta_venda\",\n",
    "\"numero_negocios\",\n",
    "\"quantidade_papeis_negociados\",\n",
    "\"volume_total_negociado\",\n",
    "\"preco_exercicio\",\n",
    "\"ìndicador_correcao_precos\",\n",
    "\"data_vencimento\" ,\n",
    "\"fator_cotacao\",\n",
    "\"preco_exercicio_pontos\",\n",
    "\"codigo_isin\",\n",
    "\"num_distribuicao_papel\"]\n",
    "\n",
    "# Eliminar a última linha\n",
    "linha=len(dados_acoes[\"data_pregao\"])\n",
    "dados_acoes=dados_acoes.drop(linha-1)\n",
    "\n",
    "# Ajustar valores com virgula (dividir os valores dessas colunas por 100)\n",
    "listaVirgula=[\n",
    "\"preco_abertura\",\n",
    "\"preco_maximo\",\n",
    "\"preco_minimo\",\n",
    "\"preco_medio\",\n",
    "\"preco_ultimo_negocio\",\n",
    "\"preco_melhor_oferta_compra\",\n",
    "\"preco_melhor_oferta_venda\",\n",
    "\"volume_total_negociado\",\n",
    "\"preco_exercicio\",\n",
    "\"preco_exercicio_pontos\"\n",
    "]\n",
    "\n",
    "for coluna in listaVirgula:\n",
    "    dados_acoes[coluna]=[i/100. for i in dados_acoes[coluna]]"
   ]
  },
  {
   "cell_type": "code",
   "execution_count": null,
   "id": "254d452f",
   "metadata": {},
   "outputs": [],
   "source": [
    "dados_acoes.head(50)"
   ]
  },
  {
   "cell_type": "markdown",
   "id": "c25858e3",
   "metadata": {},
   "source": [
    "# Tipos de mercado\n",
    "\n",
    "* 10 - Mercado à vista\n",
    "* 70 - Opções de Compra\n",
    "* 80 - Opções de Venda"
   ]
  },
  {
   "cell_type": "code",
   "execution_count": null,
   "id": "deeda6c6",
   "metadata": {},
   "outputs": [],
   "source": [
    "dados_acoes[dados_acoes['tipo_mercado']==70]"
   ]
  },
  {
   "cell_type": "code",
   "execution_count": null,
   "id": "f74e92ed",
   "metadata": {},
   "outputs": [],
   "source": [
    "WEGE3 = dados_acoes[(dados_acoes['tipo_mercado']==10)&\n",
    "                    (dados_acoes['cod_negociacao']=='WEGE3')]"
   ]
  },
  {
   "cell_type": "code",
   "execution_count": null,
   "id": "017db324",
   "metadata": {},
   "outputs": [],
   "source": [
    "WEGE3 = WEGE3.set_index('data_pregao')\n",
    "\n",
    "WEGE3"
   ]
  },
  {
   "cell_type": "code",
   "execution_count": null,
   "id": "6f2e287e",
   "metadata": {},
   "outputs": [],
   "source": [
    "WEGE3.index = pd.to_datetime(WEGE3.index, format = \"%Y%m%d\")\n",
    "\n",
    "WEGE3"
   ]
  },
  {
   "cell_type": "code",
   "execution_count": null,
   "id": "330a6dc1",
   "metadata": {},
   "outputs": [],
   "source": [
    "WEGE3[WEGE3.index.month == 5]"
   ]
  },
  {
   "cell_type": "code",
   "execution_count": null,
   "id": "2ed4dc21",
   "metadata": {},
   "outputs": [],
   "source": []
  },
  {
   "cell_type": "code",
   "execution_count": null,
   "id": "71d8bf43",
   "metadata": {},
   "outputs": [],
   "source": []
  }
 ],
 "metadata": {
  "kernelspec": {
   "display_name": "Python 3 (ipykernel)",
   "language": "python",
   "name": "python3"
  },
  "language_info": {
   "codemirror_mode": {
    "name": "ipython",
    "version": 3
   },
   "file_extension": ".py",
   "mimetype": "text/x-python",
   "name": "python",
   "nbconvert_exporter": "python",
   "pygments_lexer": "ipython3",
   "version": "3.9.12"
  }
 },
 "nbformat": 4,
 "nbformat_minor": 5
}

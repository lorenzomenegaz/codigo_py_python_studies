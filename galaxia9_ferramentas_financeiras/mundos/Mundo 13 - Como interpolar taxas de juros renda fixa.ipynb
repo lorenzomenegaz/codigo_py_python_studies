{
 "cells": [
  {
   "cell_type": "markdown",
   "id": "8bb0b594",
   "metadata": {},
   "source": [
    "# Mundo 13 - Interpolação curva de juros"
   ]
  },
  {
   "cell_type": "code",
   "execution_count": null,
   "id": "ea020ef6",
   "metadata": {},
   "outputs": [],
   "source": [
    "from selenium import webdriver\n",
    "from selenium.webdriver.chrome.service import Service\n",
    "from webdriver_manager.chrome import ChromeDriverManager\n",
    "import pandas as pd\n",
    "from datetime import datetime\n",
    "from pandas.tseries.offsets import *"
   ]
  },
  {
   "cell_type": "code",
   "execution_count": null,
   "id": "464afdc1",
   "metadata": {},
   "outputs": [],
   "source": [
    "driver = webdriver.Chrome(service=Service(ChromeDriverManager().install())) "
   ]
  },
  {
   "cell_type": "code",
   "execution_count": null,
   "id": "2d1e9fe2",
   "metadata": {},
   "outputs": [],
   "source": [
    "data_di = \"06/03/2019\"\n",
    "mercadoria = 'DI1'"
   ]
  },
  {
   "cell_type": "code",
   "execution_count": null,
   "id": "ac9c4ecd",
   "metadata": {},
   "outputs": [],
   "source": [
    "url = f'''\n",
    "https://www2.bmf.com.br/pages/portal/bmfbovespa/boletim1/SistemaPregao1.asp?pagetype=pop&caminho=Resumo%20\n",
    "Estat%EDstico%20-%20Sistema%20Preg%E3o&Data={data_di}&Mercadoria={mercadoria}\n",
    "'''\n",
    "\n",
    "driver.get(url)\n",
    "\n",
    "driver.implicitly_wait(3)\n",
    "\n",
    "'''\n",
    "esse método de congelar é MUITO mais eficiente que o time, porque ele só espera o tempo necessário.\n",
    "se o elemento que você quer achar já carregou, ele roda e acabou. \n",
    "'''\n",
    "\n",
    "driver.maximize_window()\n",
    "\n",
    "#driver = webdriver.Chrome(service=Service(ChromeDriverManager().install()), options = options) \n",
    "\n",
    "\n",
    "local_tabela = '''\n",
    "/html/body/div/div[2]/form[1]/table[3]/tbody/tr[3]/td[3]/table\n",
    "'''\n",
    "\n",
    "local_indice = '''\n",
    "/html/body/div/div[2]/form[1]/table[3]/tbody/tr[3]/td[1]/table\n",
    "'''\n",
    "\n",
    "elemento = driver.find_element(\"xpath\", local_tabela)\n",
    "\n",
    "#pode ser ID, class_, XPATH ou name (vc so vai usar um dos 4)\n",
    "\n",
    "elemento_indice = driver.find_element(\"xpath\", local_indice)\n",
    "\n",
    "html_tabela = elemento.get_attribute('outerHTML')\n",
    "html_indice = elemento_indice.get_attribute('outerHTML')\n",
    "\n",
    "tabela = pd.read_html(html_tabela)[0]\n",
    "indice = pd.read_html(html_indice)[0]\n",
    "\n",
    "driver.quit()\n",
    "\n",
    "tabela.columns = tabela.loc[0]\n",
    "\n",
    "tabela = tabela['ÚLT. PREÇO']\n",
    "\n",
    "tabela = tabela.drop(0, axis = 0)\n",
    "\n",
    "indice.columns = indice.loc[0]\n",
    "\n",
    "indice_di = indice['VENCTO']\n",
    "\n",
    "indice = indice.drop(0, axis = 0)\n",
    "\n",
    "tabela.index = indice['VENCTO']\n",
    "\n",
    "tabela = tabela.astype(int)\n",
    "\n",
    "tabela = tabela[tabela != 0]\n",
    "\n",
    "tabela = tabela/1000\n",
    "\n",
    "legenda = pd.Series(['Jan', 'Feb', 'Mar', 'Apr', 'May', 'Jun', 'Jul', 'Aug', 'Sep', 'Oct', 'Nov', 'Dec'],\n",
    "                    index = ['F', 'G', 'H', 'J', 'K', 'M', 'N', 'Q', 'U', 'V', 'X', 'Z'])\n",
    "\n",
    "lista_datas = []\n",
    "\n",
    "for indice in tabela.index:\n",
    "\n",
    "    letra = indice[0]\n",
    "    \n",
    "    legenda[\"F\"]\n",
    "    ano = indice[1:3]\n",
    "\n",
    "    mes = legenda[letra]\n",
    "\n",
    "    data = f\"{mes}-{ano}\"\n",
    "\n",
    "    data = datetime.strptime(data, \"%b-%y\")\n",
    "\n",
    "    lista_datas.append(data)\n",
    "\n",
    "\n",
    "tabela.index = lista_datas  \n",
    "\n",
    "tabela\n",
    "\n",
    "print(tabela)"
   ]
  },
  {
   "cell_type": "markdown",
   "id": "45b0816d",
   "metadata": {},
   "source": [
    "# Interpolação\n",
    "\n",
    "Vamos esse cenário:\n",
    "\n",
    "Hoje é dia 06/03/2019.\n",
    "Essa é a curva de juros.\n",
    "Qual é o DI de 18/04 de 2023?"
   ]
  },
  {
   "cell_type": "code",
   "execution_count": null,
   "id": "444899f7",
   "metadata": {},
   "outputs": [],
   "source": [
    "curva_dias_uteis = []\n",
    "dia_atual = datetime(2019, 3, 6)\n",
    "\n",
    "for dia in tabela.index:\n",
    "    \n",
    "    dias_uteis = len(pd.date_range(dia_atual, dia, freq=BDay()))\n",
    "    \n",
    "    curva_dias_uteis.append(dias_uteis)\n",
    "    \n",
    "curva_dias_uteis"
   ]
  },
  {
   "cell_type": "code",
   "execution_count": null,
   "id": "4f2a5db3",
   "metadata": {},
   "outputs": [],
   "source": [
    "taxas = tabela.values\n",
    "\n",
    "taxas = list(taxas)\n",
    "\n",
    "taxas"
   ]
  },
  {
   "cell_type": "code",
   "execution_count": null,
   "id": "8ed4b1b7",
   "metadata": {},
   "outputs": [],
   "source": [
    "len(curva_dias_uteis)"
   ]
  },
  {
   "cell_type": "code",
   "execution_count": null,
   "id": "43e3db8a",
   "metadata": {},
   "outputs": [],
   "source": [
    "dias_uteis_daqui_pra_data = len(pd.date_range(dia_atual, datetime(2023, 4, 18), freq=BDay()))\n",
    "\n",
    "dias_uteis_daqui_pra_data"
   ]
  },
  {
   "cell_type": "code",
   "execution_count": null,
   "id": "5cb9bb73",
   "metadata": {},
   "outputs": [],
   "source": [
    "from scipy import interpolate\n",
    "import mplcyberpunk\n",
    "import matplotlib.pyplot as plt\n",
    "\n",
    "plt.style.use(\"cyberpunk\")"
   ]
  },
  {
   "cell_type": "code",
   "execution_count": null,
   "id": "277031b0",
   "metadata": {},
   "outputs": [],
   "source": [
    "linear = interpolate.interp1d(curva_dias_uteis, taxas, kind = 'linear')\n",
    "cubica = interpolate.interp1d(curva_dias_uteis, taxas, kind = 'cubic')"
   ]
  },
  {
   "cell_type": "code",
   "execution_count": null,
   "id": "d1ba69b9",
   "metadata": {},
   "outputs": [],
   "source": [
    "dias_novos = [dias_uteis_daqui_pra_data, 520, 385, 2200]\n",
    "taxas_linear = list(linear(dias_novos))\n",
    "taxas_cubica = list(cubica(dias_novos))"
   ]
  },
  {
   "cell_type": "code",
   "execution_count": null,
   "id": "88ffebe0",
   "metadata": {},
   "outputs": [],
   "source": [
    "taxas_linear"
   ]
  },
  {
   "cell_type": "code",
   "execution_count": null,
   "id": "0f9f9002",
   "metadata": {},
   "outputs": [],
   "source": [
    "fig, ax = plt.subplots()\n",
    "\n",
    "ax.scatter(curva_dias_uteis, taxas)\n",
    "ax.scatter(dias_novos, taxas_linear)\n",
    "ax.scatter(dias_novos, taxas_cubica)\n",
    "\n"
   ]
  },
  {
   "cell_type": "code",
   "execution_count": null,
   "id": "80f87792",
   "metadata": {},
   "outputs": [],
   "source": []
  },
  {
   "cell_type": "code",
   "execution_count": null,
   "id": "a5c075fa",
   "metadata": {},
   "outputs": [],
   "source": []
  }
 ],
 "metadata": {
  "kernelspec": {
   "display_name": "Python 3 (ipykernel)",
   "language": "python",
   "name": "python3"
  },
  "language_info": {
   "codemirror_mode": {
    "name": "ipython",
    "version": 3
   },
   "file_extension": ".py",
   "mimetype": "text/x-python",
   "name": "python",
   "nbconvert_exporter": "python",
   "pygments_lexer": "ipython3",
   "version": "3.9.12"
  }
 },
 "nbformat": 4,
 "nbformat_minor": 5
}

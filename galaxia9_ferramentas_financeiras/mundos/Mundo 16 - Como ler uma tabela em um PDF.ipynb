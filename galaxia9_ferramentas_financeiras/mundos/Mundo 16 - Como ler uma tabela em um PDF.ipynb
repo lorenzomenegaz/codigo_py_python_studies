{
 "cells": [
  {
   "cell_type": "markdown",
   "id": "66adb079",
   "metadata": {},
   "source": [
    "# Mundo 16 - Extraindo dados e lendo tabelas de PDF com o Python"
   ]
  },
  {
   "cell_type": "code",
   "execution_count": null,
   "id": "bccf2f97",
   "metadata": {},
   "outputs": [],
   "source": [
    "!pip install pypdf2"
   ]
  },
  {
   "cell_type": "code",
   "execution_count": null,
   "id": "0d6f55b7",
   "metadata": {},
   "outputs": [],
   "source": [
    "pip install tabula-py"
   ]
  },
  {
   "cell_type": "code",
   "execution_count": null,
   "id": "1092914f",
   "metadata": {},
   "outputs": [],
   "source": [
    "import PyPDF2\n",
    "import re\n",
    "import tabula"
   ]
  },
  {
   "cell_type": "code",
   "execution_count": null,
   "id": "b7a2c183",
   "metadata": {},
   "outputs": [],
   "source": [
    "pdf_file = open('weg.pdf', 'rb')\n",
    "\n",
    "#Faz a leitura usando a biblioteca\n",
    "pdf = PyPDF2.PdfReader(pdf_file)\n",
    "\n",
    "# pega o numero de páginas\n",
    "paginas = len(pdf.pages)\n",
    "\n",
    "paginas"
   ]
  },
  {
   "cell_type": "code",
   "execution_count": null,
   "id": "35651387",
   "metadata": {},
   "outputs": [],
   "source": [
    "#lê a primeira página completa\n",
    "pagina1 = pdf.pages[0]\n",
    "\n",
    "pagina1.extract_text()"
   ]
  },
  {
   "cell_type": "code",
   "execution_count": null,
   "id": "ced11668",
   "metadata": {},
   "outputs": [],
   "source": [
    "# faz a junção das linhas \n",
    "texto_formatado = ''.join(pagina1.extract_text())\n",
    "\n",
    "print(texto_formatado)"
   ]
  },
  {
   "cell_type": "markdown",
   "id": "93373c12",
   "metadata": {},
   "source": [
    "# Lendo tabelas"
   ]
  },
  {
   "cell_type": "code",
   "execution_count": null,
   "id": "e3bca3e0",
   "metadata": {
    "scrolled": false
   },
   "outputs": [],
   "source": [
    "tabelaComum = tabula.read_pdf(\"klabin.pdf\", \n",
    "                              pages = \"3\", lattice = True, guess = False) #guess = False e lattice = True"
   ]
  },
  {
   "cell_type": "code",
   "execution_count": null,
   "id": "1e74016a",
   "metadata": {
    "scrolled": false
   },
   "outputs": [],
   "source": [
    "for tabela in tabelaComum:\n",
    "    \n",
    "    display(tabela)"
   ]
  },
  {
   "cell_type": "code",
   "execution_count": null,
   "id": "0aad3539",
   "metadata": {},
   "outputs": [],
   "source": []
  },
  {
   "cell_type": "code",
   "execution_count": null,
   "id": "cf3c3229",
   "metadata": {},
   "outputs": [],
   "source": []
  },
  {
   "cell_type": "code",
   "execution_count": null,
   "id": "259e0125",
   "metadata": {},
   "outputs": [],
   "source": []
  },
  {
   "cell_type": "code",
   "execution_count": null,
   "id": "7340ed90",
   "metadata": {},
   "outputs": [],
   "source": []
  },
  {
   "cell_type": "code",
   "execution_count": null,
   "id": "daa4daa2",
   "metadata": {},
   "outputs": [],
   "source": []
  },
  {
   "cell_type": "code",
   "execution_count": null,
   "id": "ff94652f",
   "metadata": {},
   "outputs": [],
   "source": []
  },
  {
   "cell_type": "code",
   "execution_count": null,
   "id": "073d199f",
   "metadata": {},
   "outputs": [],
   "source": []
  }
 ],
 "metadata": {
  "kernelspec": {
   "display_name": "Python 3 (ipykernel)",
   "language": "python",
   "name": "python3"
  },
  "language_info": {
   "codemirror_mode": {
    "name": "ipython",
    "version": 3
   },
   "file_extension": ".py",
   "mimetype": "text/x-python",
   "name": "python",
   "nbconvert_exporter": "python",
   "pygments_lexer": "ipython3",
   "version": "3.9.12"
  }
 },
 "nbformat": 4,
 "nbformat_minor": 5
}

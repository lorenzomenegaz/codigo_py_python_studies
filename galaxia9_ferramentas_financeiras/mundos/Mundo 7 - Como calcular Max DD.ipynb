{
 "cells": [
  {
   "cell_type": "markdown",
   "id": "4ab3985b",
   "metadata": {},
   "source": [
    "# Max DD Python"
   ]
  },
  {
   "cell_type": "code",
   "execution_count": null,
   "id": "195be0ca",
   "metadata": {},
   "outputs": [],
   "source": [
    "import yfinance as yf\n",
    "import matplotlib.pyplot as plt\n",
    "import datetime as dt\n",
    "import matplotlib.ticker as mtick\n",
    "import matplotlib.dates as mdate\n",
    "import mplcyberpunk"
   ]
  },
  {
   "cell_type": "code",
   "execution_count": null,
   "id": "6adaa68b",
   "metadata": {},
   "outputs": [],
   "source": [
    "data_final = dt.datetime.now()\n",
    "data_inicial = data_final - dt.timedelta(days=1500)\n",
    "ativo = \"PETR4.SA\"\n",
    "precos = yf.download(ativo, data_inicial, data_final)['Adj Close']"
   ]
  },
  {
   "cell_type": "code",
   "execution_count": null,
   "id": "b755eef2",
   "metadata": {},
   "outputs": [],
   "source": [
    "precos_max = precos.cummax()\n",
    "drawdowns = (precos - precos_max)/precos_max\n",
    "drawndown_maximo = drawdowns.min()\n",
    "print(drawndown_maximo)"
   ]
  },
  {
   "cell_type": "code",
   "execution_count": null,
   "id": "4c46bac1",
   "metadata": {},
   "outputs": [],
   "source": [
    "drawdowns.head(50)"
   ]
  },
  {
   "cell_type": "code",
   "execution_count": null,
   "id": "72a81452",
   "metadata": {},
   "outputs": [],
   "source": [
    "plt.style.use(\"cyberpunk\")\n",
    "\n",
    "fig, ax = plt.subplots()\n",
    "ax.plot(drawdowns.index, drawdowns)\n",
    "ax.yaxis.set_major_formatter(mtick.PercentFormatter(1.0))\n",
    "ax.xaxis.set_major_locator(mdate.YearLocator(1))\n",
    "plt.show()"
   ]
  },
  {
   "cell_type": "code",
   "execution_count": null,
   "id": "0598c886",
   "metadata": {},
   "outputs": [],
   "source": []
  },
  {
   "cell_type": "code",
   "execution_count": null,
   "id": "0ca9fd83",
   "metadata": {},
   "outputs": [],
   "source": []
  }
 ],
 "metadata": {
  "kernelspec": {
   "display_name": "Python 3 (ipykernel)",
   "language": "python",
   "name": "python3"
  },
  "language_info": {
   "codemirror_mode": {
    "name": "ipython",
    "version": 3
   },
   "file_extension": ".py",
   "mimetype": "text/x-python",
   "name": "python",
   "nbconvert_exporter": "python",
   "pygments_lexer": "ipython3",
   "version": "3.9.12"
  }
 },
 "nbformat": 4,
 "nbformat_minor": 5
}
